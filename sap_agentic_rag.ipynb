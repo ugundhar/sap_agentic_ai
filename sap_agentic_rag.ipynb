{
  "nbformat": 4,
  "nbformat_minor": 0,
  "metadata": {
    "colab": {
      "provenance": [],
      "authorship_tag": "ABX9TyN0yf99UYk1bdBNDghhZ2to",
      "include_colab_link": true
    },
    "kernelspec": {
      "name": "python3",
      "display_name": "Python 3"
    },
    "language_info": {
      "name": "python"
    }
  },
  "cells": [
    {
      "cell_type": "markdown",
      "metadata": {
        "id": "view-in-github",
        "colab_type": "text"
      },
      "source": [
        "<a href=\"https://colab.research.google.com/github/ugundhar/sap_agentic_ai/blob/main/sap_agentic_rag.ipynb\" target=\"_parent\"><img src=\"https://colab.research.google.com/assets/colab-badge.svg\" alt=\"Open In Colab\"/></a>"
      ]
    },
    {
      "cell_type": "code",
      "execution_count": 1,
      "metadata": {
        "colab": {
          "base_uri": "https://localhost:8080/"
        },
        "id": "ojocxsFJ6uAc",
        "outputId": "b44c350e-192b-468f-f92e-563a04218cdc"
      },
      "outputs": [
        {
          "output_type": "stream",
          "name": "stdout",
          "text": [
            "Requirement already satisfied: requests in /usr/local/lib/python3.11/dist-packages (2.32.3)\n",
            "Requirement already satisfied: hana-ml in /usr/local/lib/python3.11/dist-packages (2.24.25051600)\n",
            "Requirement already satisfied: hdbcli in /usr/local/lib/python3.11/dist-packages (2.24.26)\n",
            "Requirement already satisfied: cryptography in /usr/local/lib/python3.11/dist-packages (43.0.3)\n",
            "Requirement already satisfied: pypdf in /usr/local/lib/python3.11/dist-packages (5.5.0)\n",
            "Requirement already satisfied: generative-ai-hub-sdk[all] in /usr/local/lib/python3.11/dist-packages (4.12.4)\n",
            "Requirement already satisfied: charset-normalizer<4,>=2 in /usr/local/lib/python3.11/dist-packages (from requests) (3.4.2)\n",
            "Requirement already satisfied: idna<4,>=2.5 in /usr/local/lib/python3.11/dist-packages (from requests) (3.10)\n",
            "Requirement already satisfied: urllib3<3,>=1.21.1 in /usr/local/lib/python3.11/dist-packages (from requests) (2.4.0)\n",
            "Requirement already satisfied: certifi>=2017.4.17 in /usr/local/lib/python3.11/dist-packages (from requests) (2025.4.26)\n",
            "Requirement already satisfied: pydotplus in /usr/local/lib/python3.11/dist-packages (from hana-ml) (2.0.2)\n",
            "Requirement already satisfied: Deprecated in /usr/local/lib/python3.11/dist-packages (from hana-ml) (1.2.18)\n",
            "Requirement already satisfied: tqdm>=4.43.0 in /usr/local/lib/python3.11/dist-packages (from hana-ml) (4.67.1)\n",
            "Requirement already satisfied: schedule in /usr/local/lib/python3.11/dist-packages (from hana-ml) (1.2.2)\n",
            "Requirement already satisfied: prettytable in /usr/local/lib/python3.11/dist-packages (from hana-ml) (3.16.0)\n",
            "Requirement already satisfied: shapely>=1.8.1 in /usr/local/lib/python3.11/dist-packages (from hana-ml) (2.1.1)\n",
            "Requirement already satisfied: plotly>=4.14.3 in /usr/local/lib/python3.11/dist-packages (from hana-ml) (5.24.1)\n",
            "Requirement already satisfied: numpy>=1.16.4 in /usr/local/lib/python3.11/dist-packages (from hana-ml) (1.26.4)\n",
            "Requirement already satisfied: pandas>=0.24.2 in /usr/local/lib/python3.11/dist-packages (from hana-ml) (2.2.2)\n",
            "Requirement already satisfied: jinja2>=3.0.0 in /usr/local/lib/python3.11/dist-packages (from hana-ml) (3.1.6)\n",
            "Requirement already satisfied: pydantic==2.10.6 in /usr/local/lib/python3.11/dist-packages (from generative-ai-hub-sdk[all]) (2.10.6)\n",
            "Requirement already satisfied: overloading==0.5.0 in /usr/local/lib/python3.11/dist-packages (from generative-ai-hub-sdk[all]) (0.5.0)\n",
            "Requirement already satisfied: click>=8.1.7 in /usr/local/lib/python3.11/dist-packages (from generative-ai-hub-sdk[all]) (8.2.1)\n",
            "Requirement already satisfied: ai-core-sdk>=2.6.2 in /usr/local/lib/python3.11/dist-packages (from generative-ai-hub-sdk[all]) (2.6.2)\n",
            "Requirement already satisfied: dacite>=1.8.1 in /usr/local/lib/python3.11/dist-packages (from generative-ai-hub-sdk[all]) (1.9.2)\n",
            "Requirement already satisfied: packaging>=23.2 in /usr/local/lib/python3.11/dist-packages (from generative-ai-hub-sdk[all]) (24.2)\n",
            "Requirement already satisfied: openai>=1.58.1 in /usr/local/lib/python3.11/dist-packages (from generative-ai-hub-sdk[all]) (1.81.0)\n",
            "Requirement already satisfied: httpx>=0.27.0 in /usr/local/lib/python3.11/dist-packages (from generative-ai-hub-sdk[all]) (0.28.1)\n",
            "Requirement already satisfied: langchain~=0.3.0 in /usr/local/lib/python3.11/dist-packages (from generative-ai-hub-sdk[all]) (0.3.25)\n",
            "Requirement already satisfied: langchain-aws==0.2.15 in /usr/local/lib/python3.11/dist-packages (from generative-ai-hub-sdk[all]) (0.2.15)\n",
            "Requirement already satisfied: langchain-openai>=0.3.7 in /usr/local/lib/python3.11/dist-packages (from generative-ai-hub-sdk[all]) (0.3.18)\n",
            "Requirement already satisfied: langchain-community~=0.3.0 in /usr/local/lib/python3.11/dist-packages (from generative-ai-hub-sdk[all]) (0.3.24)\n",
            "Requirement already satisfied: langchain-google-vertexai==2.0.15 in /usr/local/lib/python3.11/dist-packages (from generative-ai-hub-sdk[all]) (2.0.15)\n",
            "Requirement already satisfied: boto3==1.37.0 in /usr/local/lib/python3.11/dist-packages (from generative-ai-hub-sdk[all]) (1.37.0)\n",
            "Requirement already satisfied: aioboto3==14.1.0 in /usr/local/lib/python3.11/dist-packages (from generative-ai-hub-sdk[all]) (14.1.0)\n",
            "Requirement already satisfied: google-cloud-aiplatform==1.83.0 in /usr/local/lib/python3.11/dist-packages (from generative-ai-hub-sdk[all]) (1.83.0)\n",
            "Requirement already satisfied: aiobotocore==2.21.1 in /usr/local/lib/python3.11/dist-packages (from aiobotocore[boto3]==2.21.1->aioboto3==14.1.0->generative-ai-hub-sdk[all]) (2.21.1)\n",
            "Requirement already satisfied: aiofiles>=23.2.1 in /usr/local/lib/python3.11/dist-packages (from aioboto3==14.1.0->generative-ai-hub-sdk[all]) (24.1.0)\n",
            "Requirement already satisfied: botocore<1.38.0,>=1.37.0 in /usr/local/lib/python3.11/dist-packages (from boto3==1.37.0->generative-ai-hub-sdk[all]) (1.37.1)\n",
            "Requirement already satisfied: jmespath<2.0.0,>=0.7.1 in /usr/local/lib/python3.11/dist-packages (from boto3==1.37.0->generative-ai-hub-sdk[all]) (1.0.1)\n",
            "Requirement already satisfied: s3transfer<0.12.0,>=0.11.0 in /usr/local/lib/python3.11/dist-packages (from boto3==1.37.0->generative-ai-hub-sdk[all]) (0.11.3)\n",
            "Requirement already satisfied: google-api-core!=2.0.*,!=2.1.*,!=2.2.*,!=2.3.*,!=2.4.*,!=2.5.*,!=2.6.*,!=2.7.*,<3.0.0dev,>=1.34.1 in /usr/local/lib/python3.11/dist-packages (from google-api-core[grpc]!=2.0.*,!=2.1.*,!=2.2.*,!=2.3.*,!=2.4.*,!=2.5.*,!=2.6.*,!=2.7.*,<3.0.0dev,>=1.34.1->google-cloud-aiplatform==1.83.0->generative-ai-hub-sdk[all]) (2.24.2)\n",
            "Requirement already satisfied: google-auth<3.0.0dev,>=2.14.1 in /usr/local/lib/python3.11/dist-packages (from google-cloud-aiplatform==1.83.0->generative-ai-hub-sdk[all]) (2.38.0)\n",
            "Requirement already satisfied: proto-plus<2.0.0dev,>=1.22.3 in /usr/local/lib/python3.11/dist-packages (from google-cloud-aiplatform==1.83.0->generative-ai-hub-sdk[all]) (1.26.1)\n",
            "Requirement already satisfied: protobuf!=4.21.0,!=4.21.1,!=4.21.2,!=4.21.3,!=4.21.4,!=4.21.5,<6.0.0dev,>=3.20.2 in /usr/local/lib/python3.11/dist-packages (from google-cloud-aiplatform==1.83.0->generative-ai-hub-sdk[all]) (5.29.4)\n",
            "Requirement already satisfied: google-cloud-storage<3.0.0dev,>=1.32.0 in /usr/local/lib/python3.11/dist-packages (from google-cloud-aiplatform==1.83.0->generative-ai-hub-sdk[all]) (2.19.0)\n",
            "Requirement already satisfied: google-cloud-bigquery!=3.20.0,<4.0.0dev,>=1.15.0 in /usr/local/lib/python3.11/dist-packages (from google-cloud-aiplatform==1.83.0->generative-ai-hub-sdk[all]) (3.33.0)\n",
            "Requirement already satisfied: google-cloud-resource-manager<3.0.0dev,>=1.3.3 in /usr/local/lib/python3.11/dist-packages (from google-cloud-aiplatform==1.83.0->generative-ai-hub-sdk[all]) (1.14.2)\n",
            "Requirement already satisfied: typing-extensions in /usr/local/lib/python3.11/dist-packages (from google-cloud-aiplatform==1.83.0->generative-ai-hub-sdk[all]) (4.13.2)\n",
            "Requirement already satisfied: docstring-parser<1 in /usr/local/lib/python3.11/dist-packages (from google-cloud-aiplatform==1.83.0->generative-ai-hub-sdk[all]) (0.16)\n",
            "Requirement already satisfied: langchain-core<0.4.0,>=0.3.27 in /usr/local/lib/python3.11/dist-packages (from langchain-aws==0.2.15->generative-ai-hub-sdk[all]) (0.3.62)\n",
            "Requirement already satisfied: httpx-sse<0.5.0,>=0.4.0 in /usr/local/lib/python3.11/dist-packages (from langchain-google-vertexai==2.0.15->generative-ai-hub-sdk[all]) (0.4.0)\n",
            "Requirement already satisfied: annotated-types>=0.6.0 in /usr/local/lib/python3.11/dist-packages (from pydantic==2.10.6->generative-ai-hub-sdk[all]) (0.7.0)\n",
            "Requirement already satisfied: pydantic-core==2.27.2 in /usr/local/lib/python3.11/dist-packages (from pydantic==2.10.6->generative-ai-hub-sdk[all]) (2.27.2)\n",
            "Requirement already satisfied: aiohttp<4.0.0,>=3.9.2 in /usr/local/lib/python3.11/dist-packages (from aiobotocore==2.21.1->aiobotocore[boto3]==2.21.1->aioboto3==14.1.0->generative-ai-hub-sdk[all]) (3.11.15)\n",
            "Requirement already satisfied: aioitertools<1.0.0,>=0.5.1 in /usr/local/lib/python3.11/dist-packages (from aiobotocore==2.21.1->aiobotocore[boto3]==2.21.1->aioboto3==14.1.0->generative-ai-hub-sdk[all]) (0.12.0)\n",
            "Requirement already satisfied: python-dateutil<3.0.0,>=2.1 in /usr/local/lib/python3.11/dist-packages (from aiobotocore==2.21.1->aiobotocore[boto3]==2.21.1->aioboto3==14.1.0->generative-ai-hub-sdk[all]) (2.9.0.post0)\n",
            "Requirement already satisfied: multidict<7.0.0,>=6.0.0 in /usr/local/lib/python3.11/dist-packages (from aiobotocore==2.21.1->aiobotocore[boto3]==2.21.1->aioboto3==14.1.0->generative-ai-hub-sdk[all]) (6.4.4)\n",
            "Requirement already satisfied: wrapt<2.0.0,>=1.10.10 in /usr/local/lib/python3.11/dist-packages (from aiobotocore==2.21.1->aiobotocore[boto3]==2.21.1->aioboto3==14.1.0->generative-ai-hub-sdk[all]) (1.17.2)\n",
            "Requirement already satisfied: cffi>=1.12 in /usr/local/lib/python3.11/dist-packages (from cryptography) (1.17.1)\n",
            "Requirement already satisfied: ai-api-client-sdk==2.6.1 in /usr/local/lib/python3.11/dist-packages (from ai-core-sdk>=2.6.2->generative-ai-hub-sdk[all]) (2.6.1)\n",
            "Requirement already satisfied: aenum~=3.1 in /usr/local/lib/python3.11/dist-packages (from ai-api-client-sdk==2.6.1->ai-core-sdk>=2.6.2->generative-ai-hub-sdk[all]) (3.1.16)\n",
            "Requirement already satisfied: pyhumps~=3.0 in /usr/local/lib/python3.11/dist-packages (from ai-api-client-sdk==2.6.1->ai-core-sdk>=2.6.2->generative-ai-hub-sdk[all]) (3.8.0)\n",
            "Requirement already satisfied: pycparser in /usr/local/lib/python3.11/dist-packages (from cffi>=1.12->cryptography) (2.22)\n",
            "Requirement already satisfied: anyio in /usr/local/lib/python3.11/dist-packages (from httpx>=0.27.0->generative-ai-hub-sdk[all]) (4.9.0)\n",
            "Requirement already satisfied: httpcore==1.* in /usr/local/lib/python3.11/dist-packages (from httpx>=0.27.0->generative-ai-hub-sdk[all]) (1.0.9)\n",
            "Requirement already satisfied: h11>=0.16 in /usr/local/lib/python3.11/dist-packages (from httpcore==1.*->httpx>=0.27.0->generative-ai-hub-sdk[all]) (0.16.0)\n",
            "Requirement already satisfied: MarkupSafe>=2.0 in /usr/local/lib/python3.11/dist-packages (from jinja2>=3.0.0->hana-ml) (3.0.2)\n",
            "Requirement already satisfied: langchain-text-splitters<1.0.0,>=0.3.8 in /usr/local/lib/python3.11/dist-packages (from langchain~=0.3.0->generative-ai-hub-sdk[all]) (0.3.8)\n",
            "Requirement already satisfied: langsmith<0.4,>=0.1.17 in /usr/local/lib/python3.11/dist-packages (from langchain~=0.3.0->generative-ai-hub-sdk[all]) (0.3.42)\n",
            "Requirement already satisfied: SQLAlchemy<3,>=1.4 in /usr/local/lib/python3.11/dist-packages (from langchain~=0.3.0->generative-ai-hub-sdk[all]) (2.0.41)\n",
            "Requirement already satisfied: PyYAML>=5.3 in /usr/local/lib/python3.11/dist-packages (from langchain~=0.3.0->generative-ai-hub-sdk[all]) (6.0.2)\n",
            "Requirement already satisfied: tenacity!=8.4.0,<10,>=8.1.0 in /usr/local/lib/python3.11/dist-packages (from langchain-community~=0.3.0->generative-ai-hub-sdk[all]) (9.1.2)\n",
            "Requirement already satisfied: dataclasses-json<0.7,>=0.5.7 in /usr/local/lib/python3.11/dist-packages (from langchain-community~=0.3.0->generative-ai-hub-sdk[all]) (0.6.7)\n",
            "Requirement already satisfied: pydantic-settings<3.0.0,>=2.4.0 in /usr/local/lib/python3.11/dist-packages (from langchain-community~=0.3.0->generative-ai-hub-sdk[all]) (2.9.1)\n",
            "Requirement already satisfied: tiktoken<1,>=0.7 in /usr/local/lib/python3.11/dist-packages (from langchain-openai>=0.3.7->generative-ai-hub-sdk[all]) (0.9.0)\n",
            "Requirement already satisfied: distro<2,>=1.7.0 in /usr/local/lib/python3.11/dist-packages (from openai>=1.58.1->generative-ai-hub-sdk[all]) (1.9.0)\n",
            "Requirement already satisfied: jiter<1,>=0.4.0 in /usr/local/lib/python3.11/dist-packages (from openai>=1.58.1->generative-ai-hub-sdk[all]) (0.10.0)\n",
            "Requirement already satisfied: sniffio in /usr/local/lib/python3.11/dist-packages (from openai>=1.58.1->generative-ai-hub-sdk[all]) (1.3.1)\n",
            "Requirement already satisfied: pytz>=2020.1 in /usr/local/lib/python3.11/dist-packages (from pandas>=0.24.2->hana-ml) (2025.2)\n",
            "Requirement already satisfied: tzdata>=2022.7 in /usr/local/lib/python3.11/dist-packages (from pandas>=0.24.2->hana-ml) (2025.2)\n",
            "Requirement already satisfied: wcwidth in /usr/local/lib/python3.11/dist-packages (from prettytable->hana-ml) (0.2.13)\n",
            "Requirement already satisfied: pyparsing>=2.0.1 in /usr/local/lib/python3.11/dist-packages (from pydotplus->hana-ml) (3.2.3)\n",
            "Requirement already satisfied: aiohappyeyeballs>=2.3.0 in /usr/local/lib/python3.11/dist-packages (from aiohttp<4.0.0,>=3.9.2->aiobotocore==2.21.1->aiobotocore[boto3]==2.21.1->aioboto3==14.1.0->generative-ai-hub-sdk[all]) (2.6.1)\n",
            "Requirement already satisfied: aiosignal>=1.1.2 in /usr/local/lib/python3.11/dist-packages (from aiohttp<4.0.0,>=3.9.2->aiobotocore==2.21.1->aiobotocore[boto3]==2.21.1->aioboto3==14.1.0->generative-ai-hub-sdk[all]) (1.3.2)\n",
            "Requirement already satisfied: attrs>=17.3.0 in /usr/local/lib/python3.11/dist-packages (from aiohttp<4.0.0,>=3.9.2->aiobotocore==2.21.1->aiobotocore[boto3]==2.21.1->aioboto3==14.1.0->generative-ai-hub-sdk[all]) (25.3.0)\n",
            "Requirement already satisfied: frozenlist>=1.1.1 in /usr/local/lib/python3.11/dist-packages (from aiohttp<4.0.0,>=3.9.2->aiobotocore==2.21.1->aiobotocore[boto3]==2.21.1->aioboto3==14.1.0->generative-ai-hub-sdk[all]) (1.6.0)\n",
            "Requirement already satisfied: propcache>=0.2.0 in /usr/local/lib/python3.11/dist-packages (from aiohttp<4.0.0,>=3.9.2->aiobotocore==2.21.1->aiobotocore[boto3]==2.21.1->aioboto3==14.1.0->generative-ai-hub-sdk[all]) (0.3.1)\n",
            "Requirement already satisfied: yarl<2.0,>=1.17.0 in /usr/local/lib/python3.11/dist-packages (from aiohttp<4.0.0,>=3.9.2->aiobotocore==2.21.1->aiobotocore[boto3]==2.21.1->aioboto3==14.1.0->generative-ai-hub-sdk[all]) (1.20.0)\n",
            "Requirement already satisfied: marshmallow<4.0.0,>=3.18.0 in /usr/local/lib/python3.11/dist-packages (from dataclasses-json<0.7,>=0.5.7->langchain-community~=0.3.0->generative-ai-hub-sdk[all]) (3.26.1)\n",
            "Requirement already satisfied: typing-inspect<1,>=0.4.0 in /usr/local/lib/python3.11/dist-packages (from dataclasses-json<0.7,>=0.5.7->langchain-community~=0.3.0->generative-ai-hub-sdk[all]) (0.9.0)\n",
            "Requirement already satisfied: googleapis-common-protos<2.0.0,>=1.56.2 in /usr/local/lib/python3.11/dist-packages (from google-api-core!=2.0.*,!=2.1.*,!=2.2.*,!=2.3.*,!=2.4.*,!=2.5.*,!=2.6.*,!=2.7.*,<3.0.0dev,>=1.34.1->google-api-core[grpc]!=2.0.*,!=2.1.*,!=2.2.*,!=2.3.*,!=2.4.*,!=2.5.*,!=2.6.*,!=2.7.*,<3.0.0dev,>=1.34.1->google-cloud-aiplatform==1.83.0->generative-ai-hub-sdk[all]) (1.70.0)\n",
            "Requirement already satisfied: grpcio<2.0dev,>=1.33.2 in /usr/local/lib/python3.11/dist-packages (from google-api-core[grpc]!=2.0.*,!=2.1.*,!=2.2.*,!=2.3.*,!=2.4.*,!=2.5.*,!=2.6.*,!=2.7.*,<3.0.0dev,>=1.34.1->google-cloud-aiplatform==1.83.0->generative-ai-hub-sdk[all]) (1.71.0)\n",
            "Requirement already satisfied: grpcio-status<2.0.dev0,>=1.33.2 in /usr/local/lib/python3.11/dist-packages (from google-api-core[grpc]!=2.0.*,!=2.1.*,!=2.2.*,!=2.3.*,!=2.4.*,!=2.5.*,!=2.6.*,!=2.7.*,<3.0.0dev,>=1.34.1->google-cloud-aiplatform==1.83.0->generative-ai-hub-sdk[all]) (1.71.0)\n",
            "Requirement already satisfied: cachetools<6.0,>=2.0.0 in /usr/local/lib/python3.11/dist-packages (from google-auth<3.0.0dev,>=2.14.1->google-cloud-aiplatform==1.83.0->generative-ai-hub-sdk[all]) (5.5.2)\n",
            "Requirement already satisfied: pyasn1-modules>=0.2.1 in /usr/local/lib/python3.11/dist-packages (from google-auth<3.0.0dev,>=2.14.1->google-cloud-aiplatform==1.83.0->generative-ai-hub-sdk[all]) (0.4.2)\n",
            "Requirement already satisfied: rsa<5,>=3.1.4 in /usr/local/lib/python3.11/dist-packages (from google-auth<3.0.0dev,>=2.14.1->google-cloud-aiplatform==1.83.0->generative-ai-hub-sdk[all]) (4.9.1)\n",
            "Requirement already satisfied: google-cloud-core<3.0.0,>=2.4.1 in /usr/local/lib/python3.11/dist-packages (from google-cloud-bigquery!=3.20.0,<4.0.0dev,>=1.15.0->google-cloud-aiplatform==1.83.0->generative-ai-hub-sdk[all]) (2.4.3)\n",
            "Requirement already satisfied: google-resumable-media<3.0.0,>=2.0.0 in /usr/local/lib/python3.11/dist-packages (from google-cloud-bigquery!=3.20.0,<4.0.0dev,>=1.15.0->google-cloud-aiplatform==1.83.0->generative-ai-hub-sdk[all]) (2.7.2)\n",
            "Requirement already satisfied: grpc-google-iam-v1<1.0.0,>=0.14.0 in /usr/local/lib/python3.11/dist-packages (from google-cloud-resource-manager<3.0.0dev,>=1.3.3->google-cloud-aiplatform==1.83.0->generative-ai-hub-sdk[all]) (0.14.2)\n",
            "Requirement already satisfied: google-crc32c<2.0dev,>=1.0 in /usr/local/lib/python3.11/dist-packages (from google-cloud-storage<3.0.0dev,>=1.32.0->google-cloud-aiplatform==1.83.0->generative-ai-hub-sdk[all]) (1.7.1)\n",
            "Requirement already satisfied: jsonpatch<2.0,>=1.33 in /usr/local/lib/python3.11/dist-packages (from langchain-core<0.4.0,>=0.3.27->langchain-aws==0.2.15->generative-ai-hub-sdk[all]) (1.33)\n",
            "Requirement already satisfied: orjson<4.0.0,>=3.9.14 in /usr/local/lib/python3.11/dist-packages (from langsmith<0.4,>=0.1.17->langchain~=0.3.0->generative-ai-hub-sdk[all]) (3.10.18)\n",
            "Requirement already satisfied: requests-toolbelt<2.0.0,>=1.0.0 in /usr/local/lib/python3.11/dist-packages (from langsmith<0.4,>=0.1.17->langchain~=0.3.0->generative-ai-hub-sdk[all]) (1.0.0)\n",
            "Requirement already satisfied: zstandard<0.24.0,>=0.23.0 in /usr/local/lib/python3.11/dist-packages (from langsmith<0.4,>=0.1.17->langchain~=0.3.0->generative-ai-hub-sdk[all]) (0.23.0)\n",
            "Requirement already satisfied: python-dotenv>=0.21.0 in /usr/local/lib/python3.11/dist-packages (from pydantic-settings<3.0.0,>=2.4.0->langchain-community~=0.3.0->generative-ai-hub-sdk[all]) (1.1.0)\n",
            "Requirement already satisfied: typing-inspection>=0.4.0 in /usr/local/lib/python3.11/dist-packages (from pydantic-settings<3.0.0,>=2.4.0->langchain-community~=0.3.0->generative-ai-hub-sdk[all]) (0.4.1)\n",
            "Requirement already satisfied: six>=1.5 in /usr/local/lib/python3.11/dist-packages (from python-dateutil<3.0.0,>=2.1->aiobotocore==2.21.1->aiobotocore[boto3]==2.21.1->aioboto3==14.1.0->generative-ai-hub-sdk[all]) (1.17.0)\n",
            "Requirement already satisfied: greenlet>=1 in /usr/local/lib/python3.11/dist-packages (from SQLAlchemy<3,>=1.4->langchain~=0.3.0->generative-ai-hub-sdk[all]) (3.2.2)\n",
            "Requirement already satisfied: regex>=2022.1.18 in /usr/local/lib/python3.11/dist-packages (from tiktoken<1,>=0.7->langchain-openai>=0.3.7->generative-ai-hub-sdk[all]) (2024.11.6)\n",
            "Requirement already satisfied: jsonpointer>=1.9 in /usr/local/lib/python3.11/dist-packages (from jsonpatch<2.0,>=1.33->langchain-core<0.4.0,>=0.3.27->langchain-aws==0.2.15->generative-ai-hub-sdk[all]) (3.0.0)\n",
            "Requirement already satisfied: pyasn1<0.7.0,>=0.6.1 in /usr/local/lib/python3.11/dist-packages (from pyasn1-modules>=0.2.1->google-auth<3.0.0dev,>=2.14.1->google-cloud-aiplatform==1.83.0->generative-ai-hub-sdk[all]) (0.6.1)\n",
            "Requirement already satisfied: mypy-extensions>=0.3.0 in /usr/local/lib/python3.11/dist-packages (from typing-inspect<1,>=0.4.0->dataclasses-json<0.7,>=0.5.7->langchain-community~=0.3.0->generative-ai-hub-sdk[all]) (1.1.0)\n"
          ]
        }
      ],
      "source": [
        "pip install requests hana-ml hdbcli \"generative-ai-hub-sdk[all]\" cryptography pypdf"
      ]
    },
    {
      "cell_type": "code",
      "source": [
        "from hdbcli import dbapi\n",
        "import hana_ml.dataframe as dataframe\n",
        "from gen_ai_hub.proxy.langchain.openai import OpenAIEmbeddings\n",
        "from gen_ai_hub.proxy.core.proxy_clients import get_proxy_client\n",
        "from langchain.chains import RetrievalQA\n",
        "from langchain.text_splitter import CharacterTextSplitter\n",
        "from langchain.text_splitter import TokenTextSplitter\n",
        "from langchain.document_loaders import TextLoader\n",
        "from langchain.document_loaders import PyPDFLoader\n",
        "from langchain_community.vectorstores.hanavector import HanaDB"
      ],
      "metadata": {
        "id": "rpIF0neT6-Ou"
      },
      "execution_count": 2,
      "outputs": []
    },
    {
      "cell_type": "code",
      "source": [
        "from google.colab import files\n",
        "uploaded = files.upload()"
      ],
      "metadata": {
        "colab": {
          "base_uri": "https://localhost:8080/",
          "height": 73
        },
        "id": "7m0zno6I7spq",
        "outputId": "1c051251-f818-4fc8-f3eb-2fe4767494df"
      },
      "execution_count": 3,
      "outputs": [
        {
          "output_type": "display_data",
          "data": {
            "text/plain": [
              "<IPython.core.display.HTML object>"
            ],
            "text/html": [
              "\n",
              "     <input type=\"file\" id=\"files-23253971-dd51-4f56-aa53-fad5c24f7a5e\" name=\"files[]\" multiple disabled\n",
              "        style=\"border:none\" />\n",
              "     <output id=\"result-23253971-dd51-4f56-aa53-fad5c24f7a5e\">\n",
              "      Upload widget is only available when the cell has been executed in the\n",
              "      current browser session. Please rerun this cell to enable.\n",
              "      </output>\n",
              "      <script>// Copyright 2017 Google LLC\n",
              "//\n",
              "// Licensed under the Apache License, Version 2.0 (the \"License\");\n",
              "// you may not use this file except in compliance with the License.\n",
              "// You may obtain a copy of the License at\n",
              "//\n",
              "//      http://www.apache.org/licenses/LICENSE-2.0\n",
              "//\n",
              "// Unless required by applicable law or agreed to in writing, software\n",
              "// distributed under the License is distributed on an \"AS IS\" BASIS,\n",
              "// WITHOUT WARRANTIES OR CONDITIONS OF ANY KIND, either express or implied.\n",
              "// See the License for the specific language governing permissions and\n",
              "// limitations under the License.\n",
              "\n",
              "/**\n",
              " * @fileoverview Helpers for google.colab Python module.\n",
              " */\n",
              "(function(scope) {\n",
              "function span(text, styleAttributes = {}) {\n",
              "  const element = document.createElement('span');\n",
              "  element.textContent = text;\n",
              "  for (const key of Object.keys(styleAttributes)) {\n",
              "    element.style[key] = styleAttributes[key];\n",
              "  }\n",
              "  return element;\n",
              "}\n",
              "\n",
              "// Max number of bytes which will be uploaded at a time.\n",
              "const MAX_PAYLOAD_SIZE = 100 * 1024;\n",
              "\n",
              "function _uploadFiles(inputId, outputId) {\n",
              "  const steps = uploadFilesStep(inputId, outputId);\n",
              "  const outputElement = document.getElementById(outputId);\n",
              "  // Cache steps on the outputElement to make it available for the next call\n",
              "  // to uploadFilesContinue from Python.\n",
              "  outputElement.steps = steps;\n",
              "\n",
              "  return _uploadFilesContinue(outputId);\n",
              "}\n",
              "\n",
              "// This is roughly an async generator (not supported in the browser yet),\n",
              "// where there are multiple asynchronous steps and the Python side is going\n",
              "// to poll for completion of each step.\n",
              "// This uses a Promise to block the python side on completion of each step,\n",
              "// then passes the result of the previous step as the input to the next step.\n",
              "function _uploadFilesContinue(outputId) {\n",
              "  const outputElement = document.getElementById(outputId);\n",
              "  const steps = outputElement.steps;\n",
              "\n",
              "  const next = steps.next(outputElement.lastPromiseValue);\n",
              "  return Promise.resolve(next.value.promise).then((value) => {\n",
              "    // Cache the last promise value to make it available to the next\n",
              "    // step of the generator.\n",
              "    outputElement.lastPromiseValue = value;\n",
              "    return next.value.response;\n",
              "  });\n",
              "}\n",
              "\n",
              "/**\n",
              " * Generator function which is called between each async step of the upload\n",
              " * process.\n",
              " * @param {string} inputId Element ID of the input file picker element.\n",
              " * @param {string} outputId Element ID of the output display.\n",
              " * @return {!Iterable<!Object>} Iterable of next steps.\n",
              " */\n",
              "function* uploadFilesStep(inputId, outputId) {\n",
              "  const inputElement = document.getElementById(inputId);\n",
              "  inputElement.disabled = false;\n",
              "\n",
              "  const outputElement = document.getElementById(outputId);\n",
              "  outputElement.innerHTML = '';\n",
              "\n",
              "  const pickedPromise = new Promise((resolve) => {\n",
              "    inputElement.addEventListener('change', (e) => {\n",
              "      resolve(e.target.files);\n",
              "    });\n",
              "  });\n",
              "\n",
              "  const cancel = document.createElement('button');\n",
              "  inputElement.parentElement.appendChild(cancel);\n",
              "  cancel.textContent = 'Cancel upload';\n",
              "  const cancelPromise = new Promise((resolve) => {\n",
              "    cancel.onclick = () => {\n",
              "      resolve(null);\n",
              "    };\n",
              "  });\n",
              "\n",
              "  // Wait for the user to pick the files.\n",
              "  const files = yield {\n",
              "    promise: Promise.race([pickedPromise, cancelPromise]),\n",
              "    response: {\n",
              "      action: 'starting',\n",
              "    }\n",
              "  };\n",
              "\n",
              "  cancel.remove();\n",
              "\n",
              "  // Disable the input element since further picks are not allowed.\n",
              "  inputElement.disabled = true;\n",
              "\n",
              "  if (!files) {\n",
              "    return {\n",
              "      response: {\n",
              "        action: 'complete',\n",
              "      }\n",
              "    };\n",
              "  }\n",
              "\n",
              "  for (const file of files) {\n",
              "    const li = document.createElement('li');\n",
              "    li.append(span(file.name, {fontWeight: 'bold'}));\n",
              "    li.append(span(\n",
              "        `(${file.type || 'n/a'}) - ${file.size} bytes, ` +\n",
              "        `last modified: ${\n",
              "            file.lastModifiedDate ? file.lastModifiedDate.toLocaleDateString() :\n",
              "                                    'n/a'} - `));\n",
              "    const percent = span('0% done');\n",
              "    li.appendChild(percent);\n",
              "\n",
              "    outputElement.appendChild(li);\n",
              "\n",
              "    const fileDataPromise = new Promise((resolve) => {\n",
              "      const reader = new FileReader();\n",
              "      reader.onload = (e) => {\n",
              "        resolve(e.target.result);\n",
              "      };\n",
              "      reader.readAsArrayBuffer(file);\n",
              "    });\n",
              "    // Wait for the data to be ready.\n",
              "    let fileData = yield {\n",
              "      promise: fileDataPromise,\n",
              "      response: {\n",
              "        action: 'continue',\n",
              "      }\n",
              "    };\n",
              "\n",
              "    // Use a chunked sending to avoid message size limits. See b/62115660.\n",
              "    let position = 0;\n",
              "    do {\n",
              "      const length = Math.min(fileData.byteLength - position, MAX_PAYLOAD_SIZE);\n",
              "      const chunk = new Uint8Array(fileData, position, length);\n",
              "      position += length;\n",
              "\n",
              "      const base64 = btoa(String.fromCharCode.apply(null, chunk));\n",
              "      yield {\n",
              "        response: {\n",
              "          action: 'append',\n",
              "          file: file.name,\n",
              "          data: base64,\n",
              "        },\n",
              "      };\n",
              "\n",
              "      let percentDone = fileData.byteLength === 0 ?\n",
              "          100 :\n",
              "          Math.round((position / fileData.byteLength) * 100);\n",
              "      percent.textContent = `${percentDone}% done`;\n",
              "\n",
              "    } while (position < fileData.byteLength);\n",
              "  }\n",
              "\n",
              "  // All done.\n",
              "  yield {\n",
              "    response: {\n",
              "      action: 'complete',\n",
              "    }\n",
              "  };\n",
              "}\n",
              "\n",
              "scope.google = scope.google || {};\n",
              "scope.google.colab = scope.google.colab || {};\n",
              "scope.google.colab._files = {\n",
              "  _uploadFiles,\n",
              "  _uploadFilesContinue,\n",
              "};\n",
              "})(self);\n",
              "</script> "
            ]
          },
          "metadata": {}
        },
        {
          "output_type": "stream",
          "name": "stdout",
          "text": [
            "Saving irpa-r998-genaixl-sk.json to irpa-r998-genaixl-sk.json\n"
          ]
        }
      ]
    },
    {
      "cell_type": "code",
      "source": [
        "#This script is used to get the access token for the BTP LLM API\n",
        "import json\n",
        "import requests\n",
        "\n",
        "with open(\"irpa-r998-genaixl-sk.json\", \"r\") as key_file:\n",
        "    svcKey = json.load(key_file)\n",
        "authUrl = svcKey[\"url\"]\n",
        "clientid = svcKey[\"clientid\"]\n",
        "clientsecret = svcKey[\"clientsecret\"]\n",
        "apiUrl = svcKey[\"serviceurls\"][\"AI_API_URL\"]\n",
        "\n",
        "# request token\n",
        "params = {\"grant_type\": \"client_credentials\" }\n",
        "resp = requests.post(f\"{authUrl}/oauth/token\",\n",
        "                    auth=(clientid, clientsecret),\n",
        "                    params=params)\n",
        "\n",
        "BtpLlmApiUrl = apiUrl\n",
        "BtpLlmAccessToken = resp.json()[\"access_token\"]\n"
      ],
      "metadata": {
        "id": "Q6Ue93eL9No7"
      },
      "execution_count": 8,
      "outputs": []
    },
    {
      "cell_type": "code",
      "source": [
        "# Set the environment variables for the BTP LLM API\n",
        "import os\n",
        "\n",
        "# Define Keys HERE\n",
        "env_vars = {\n",
        " \"AICORE_AUTH_URL\": authUrl,\n",
        " \"AICORE_CLIENT_ID\": clientid,\n",
        " \"AICORE_CLIENT_SECRET\": clientsecret,\n",
        " \"AICORE_RESOURCE_GROUP\": \"default\",\n",
        " \"AICORE_BASE_URL\": apiUrl\n",
        "}\n",
        "\n",
        "os.environ.update(env_vars)"
      ],
      "metadata": {
        "id": "BSWnQR8R_EIF"
      },
      "execution_count": 9,
      "outputs": []
    },
    {
      "cell_type": "markdown",
      "source": [
        "Retrieval-Augmented Generation (RAG)\n",
        "In this section, we will explore Retrieval-Augmented Generation (RAG), a powerful technique for combining the strengths of retrieval and generation. RAG uses a combination of information retrieval and language models to generate responses based on retrieved content from external knowledge sources.\n",
        "\n",
        "Why is RAG important?\n",
        "RAG provides a solution for answering complex queries by:\n",
        "\n",
        "Retrieving relevant information from large collections of unstructured data.\n",
        "Generating a coherent and context-aware response based on retrieved content.\n",
        "Use cases include:\n",
        "\n",
        "Question answering systems.\n",
        "Document summarization.\n",
        "Chatbots that need up-to-date or specific external knowledge.\n",
        "Motivating example\n",
        "Large language models have not likely been trained on specific company information, espcially not company internal information. Like in the example below"
      ],
      "metadata": {
        "id": "37lriJyy_8D8"
      }
    },
    {
      "cell_type": "code",
      "source": [
        "from gen_ai_hub.proxy.native.openai import chat\n",
        "\n",
        "messages = [ {\"role\": \"user\", \"content\": \"Can I be reimboursed if I need to cancel my booked business trip because of personal reasons at SAP?\"} ]\n",
        "\n",
        "kwargs = dict(model_name='gpt-4', messages=messages)\n",
        "response = chat.completions.create(**kwargs)\n",
        "import json\n",
        "response_dict = json.loads(response.json())\n",
        "message_value = response_dict['choices'][0]['message']['content']\n",
        "message_value"
      ],
      "metadata": {
        "colab": {
          "base_uri": "https://localhost:8080/",
          "height": 105
        },
        "id": "d9bl5aJs_-X7",
        "outputId": "a3bf1d04-6a74-43a4-e83a-4c4ebe38d246"
      },
      "execution_count": 13,
      "outputs": [
        {
          "output_type": "stream",
          "name": "stderr",
          "text": [
            "<ipython-input-13-a810070b0a86>:8: PydanticDeprecatedSince20: The `json` method is deprecated; use `model_dump_json` instead. Deprecated in Pydantic V2.0 to be removed in V3.0. See Pydantic V2 Migration Guide at https://errors.pydantic.dev/2.10/migration/\n",
            "  response_dict = json.loads(response.json())\n"
          ]
        },
        {
          "output_type": "execute_result",
          "data": {
            "text/plain": [
              "\"SAP's cancellation policy will largely depend on the specific travel policy of your SAP office, the terms of the trip booking, and possibly your reason for cancelling. In some cases, you might be reimbursed if you cancel far enough in advance, while in others, you may not be.\\n\\nKnowing the details of the situation, it's strongly advised that you discuss your cancellation and possible reimbursement with your manager, HR, or the person in charge of travel arrangements in your office to get a definitive answer. \\n\\nAlso, keep in mind that many travel insurance policies often cover unforeseen personal reasons that may require trip cancellation or interruption. Please check your SAP benefits which include travel insurance.\""
            ],
            "application/vnd.google.colaboratory.intrinsic+json": {
              "type": "string"
            }
          },
          "metadata": {},
          "execution_count": 13
        }
      ]
    },
    {
      "cell_type": "code",
      "source": [
        "from google.colab import files\n",
        "\n",
        "uploaded = files.upload()"
      ],
      "metadata": {
        "colab": {
          "base_uri": "https://localhost:8080/",
          "height": 107
        },
        "id": "TGDjW--dDlx-",
        "outputId": "be46bd45-5f29-4012-dc1b-d9dca7780b19"
      },
      "execution_count": 14,
      "outputs": [
        {
          "output_type": "display_data",
          "data": {
            "text/plain": [
              "<IPython.core.display.HTML object>"
            ],
            "text/html": [
              "\n",
              "     <input type=\"file\" id=\"files-a7897122-22e2-4452-b840-26561797926d\" name=\"files[]\" multiple disabled\n",
              "        style=\"border:none\" />\n",
              "     <output id=\"result-a7897122-22e2-4452-b840-26561797926d\">\n",
              "      Upload widget is only available when the cell has been executed in the\n",
              "      current browser session. Please rerun this cell to enable.\n",
              "      </output>\n",
              "      <script>// Copyright 2017 Google LLC\n",
              "//\n",
              "// Licensed under the Apache License, Version 2.0 (the \"License\");\n",
              "// you may not use this file except in compliance with the License.\n",
              "// You may obtain a copy of the License at\n",
              "//\n",
              "//      http://www.apache.org/licenses/LICENSE-2.0\n",
              "//\n",
              "// Unless required by applicable law or agreed to in writing, software\n",
              "// distributed under the License is distributed on an \"AS IS\" BASIS,\n",
              "// WITHOUT WARRANTIES OR CONDITIONS OF ANY KIND, either express or implied.\n",
              "// See the License for the specific language governing permissions and\n",
              "// limitations under the License.\n",
              "\n",
              "/**\n",
              " * @fileoverview Helpers for google.colab Python module.\n",
              " */\n",
              "(function(scope) {\n",
              "function span(text, styleAttributes = {}) {\n",
              "  const element = document.createElement('span');\n",
              "  element.textContent = text;\n",
              "  for (const key of Object.keys(styleAttributes)) {\n",
              "    element.style[key] = styleAttributes[key];\n",
              "  }\n",
              "  return element;\n",
              "}\n",
              "\n",
              "// Max number of bytes which will be uploaded at a time.\n",
              "const MAX_PAYLOAD_SIZE = 100 * 1024;\n",
              "\n",
              "function _uploadFiles(inputId, outputId) {\n",
              "  const steps = uploadFilesStep(inputId, outputId);\n",
              "  const outputElement = document.getElementById(outputId);\n",
              "  // Cache steps on the outputElement to make it available for the next call\n",
              "  // to uploadFilesContinue from Python.\n",
              "  outputElement.steps = steps;\n",
              "\n",
              "  return _uploadFilesContinue(outputId);\n",
              "}\n",
              "\n",
              "// This is roughly an async generator (not supported in the browser yet),\n",
              "// where there are multiple asynchronous steps and the Python side is going\n",
              "// to poll for completion of each step.\n",
              "// This uses a Promise to block the python side on completion of each step,\n",
              "// then passes the result of the previous step as the input to the next step.\n",
              "function _uploadFilesContinue(outputId) {\n",
              "  const outputElement = document.getElementById(outputId);\n",
              "  const steps = outputElement.steps;\n",
              "\n",
              "  const next = steps.next(outputElement.lastPromiseValue);\n",
              "  return Promise.resolve(next.value.promise).then((value) => {\n",
              "    // Cache the last promise value to make it available to the next\n",
              "    // step of the generator.\n",
              "    outputElement.lastPromiseValue = value;\n",
              "    return next.value.response;\n",
              "  });\n",
              "}\n",
              "\n",
              "/**\n",
              " * Generator function which is called between each async step of the upload\n",
              " * process.\n",
              " * @param {string} inputId Element ID of the input file picker element.\n",
              " * @param {string} outputId Element ID of the output display.\n",
              " * @return {!Iterable<!Object>} Iterable of next steps.\n",
              " */\n",
              "function* uploadFilesStep(inputId, outputId) {\n",
              "  const inputElement = document.getElementById(inputId);\n",
              "  inputElement.disabled = false;\n",
              "\n",
              "  const outputElement = document.getElementById(outputId);\n",
              "  outputElement.innerHTML = '';\n",
              "\n",
              "  const pickedPromise = new Promise((resolve) => {\n",
              "    inputElement.addEventListener('change', (e) => {\n",
              "      resolve(e.target.files);\n",
              "    });\n",
              "  });\n",
              "\n",
              "  const cancel = document.createElement('button');\n",
              "  inputElement.parentElement.appendChild(cancel);\n",
              "  cancel.textContent = 'Cancel upload';\n",
              "  const cancelPromise = new Promise((resolve) => {\n",
              "    cancel.onclick = () => {\n",
              "      resolve(null);\n",
              "    };\n",
              "  });\n",
              "\n",
              "  // Wait for the user to pick the files.\n",
              "  const files = yield {\n",
              "    promise: Promise.race([pickedPromise, cancelPromise]),\n",
              "    response: {\n",
              "      action: 'starting',\n",
              "    }\n",
              "  };\n",
              "\n",
              "  cancel.remove();\n",
              "\n",
              "  // Disable the input element since further picks are not allowed.\n",
              "  inputElement.disabled = true;\n",
              "\n",
              "  if (!files) {\n",
              "    return {\n",
              "      response: {\n",
              "        action: 'complete',\n",
              "      }\n",
              "    };\n",
              "  }\n",
              "\n",
              "  for (const file of files) {\n",
              "    const li = document.createElement('li');\n",
              "    li.append(span(file.name, {fontWeight: 'bold'}));\n",
              "    li.append(span(\n",
              "        `(${file.type || 'n/a'}) - ${file.size} bytes, ` +\n",
              "        `last modified: ${\n",
              "            file.lastModifiedDate ? file.lastModifiedDate.toLocaleDateString() :\n",
              "                                    'n/a'} - `));\n",
              "    const percent = span('0% done');\n",
              "    li.appendChild(percent);\n",
              "\n",
              "    outputElement.appendChild(li);\n",
              "\n",
              "    const fileDataPromise = new Promise((resolve) => {\n",
              "      const reader = new FileReader();\n",
              "      reader.onload = (e) => {\n",
              "        resolve(e.target.result);\n",
              "      };\n",
              "      reader.readAsArrayBuffer(file);\n",
              "    });\n",
              "    // Wait for the data to be ready.\n",
              "    let fileData = yield {\n",
              "      promise: fileDataPromise,\n",
              "      response: {\n",
              "        action: 'continue',\n",
              "      }\n",
              "    };\n",
              "\n",
              "    // Use a chunked sending to avoid message size limits. See b/62115660.\n",
              "    let position = 0;\n",
              "    do {\n",
              "      const length = Math.min(fileData.byteLength - position, MAX_PAYLOAD_SIZE);\n",
              "      const chunk = new Uint8Array(fileData, position, length);\n",
              "      position += length;\n",
              "\n",
              "      const base64 = btoa(String.fromCharCode.apply(null, chunk));\n",
              "      yield {\n",
              "        response: {\n",
              "          action: 'append',\n",
              "          file: file.name,\n",
              "          data: base64,\n",
              "        },\n",
              "      };\n",
              "\n",
              "      let percentDone = fileData.byteLength === 0 ?\n",
              "          100 :\n",
              "          Math.round((position / fileData.byteLength) * 100);\n",
              "      percent.textContent = `${percentDone}% done`;\n",
              "\n",
              "    } while (position < fileData.byteLength);\n",
              "  }\n",
              "\n",
              "  // All done.\n",
              "  yield {\n",
              "    response: {\n",
              "      action: 'complete',\n",
              "    }\n",
              "  };\n",
              "}\n",
              "\n",
              "scope.google = scope.google || {};\n",
              "scope.google.colab = scope.google.colab || {};\n",
              "scope.google.colab._files = {\n",
              "  _uploadFiles,\n",
              "  _uploadFilesContinue,\n",
              "};\n",
              "})(self);\n",
              "</script> "
            ]
          },
          "metadata": {}
        },
        {
          "output_type": "stream",
          "name": "stdout",
          "text": [
            "Saving GlobalTravelPolicy (English).pdf to GlobalTravelPolicy (English).pdf\n",
            "Saving SAP Global Car Fleet Policy_internal_ENGLISH.pdf to SAP Global Car Fleet Policy_internal_ENGLISH.pdf\n"
          ]
        }
      ]
    },
    {
      "cell_type": "code",
      "source": [
        "#Policy download links- https://one.int.sap/company/policies_and_guidelines/travel_and_mobility#procurement___travel_b9ff/sap_global_car_fleet_policy_\n",
        "\n",
        "from langchain.document_loaders import PyPDFLoader\n",
        "\n",
        "# Load PDF\n",
        "loaders = [\n",
        "    # Multiple documents on purpose - data\n",
        "    PyPDFLoader(\"GlobalTravelPolicy (English).pdf\"),\n",
        "    PyPDFLoader(\"SAP Global Car Fleet Policy_internal_ENGLISH.pdf\"),\n",
        "]\n",
        "docs = []\n",
        "for loader in loaders:\n",
        "    docs.extend(loader.load())"
      ],
      "metadata": {
        "id": "LAynblGNA7M3"
      },
      "execution_count": 15,
      "outputs": []
    },
    {
      "cell_type": "markdown",
      "source": [
        "Why Split Documents and Maintain Overlaps?\n",
        "\n",
        "n retrieval-augmented generation (RAG), splitting large documents into smaller chunks is essential for efficient retrieval and better generation. Here's why:\n",
        "# New\n",
        "1. Memory Constraints: Large documents can be too big to process all at once in memory. Splitting into smaller, manageable chunks ensures the system can handle them efficiently.\n",
        "2. Improved Retrieval: Splitting allows the retrieval engine to match relevant sections more accurately, rather than considering an entire large document.\n",
        "3. Maintaining Context with Overlap: When splitting, overlaps between chunks help preserve context. This is important because the boundary of one chunk might split a coherent idea. The overlap helps ensure that the retrieval engine doesn’t lose important information that might span two chunks.\n",
        "\n",
        "# Chunking Strategies\n",
        "1. Fixed Size Chunking\n",
        "Splits text into fixed-sized chunks based on tokens or characters.\n",
        "Positives: Simple and easy to implement.\n",
        "Negatives: Often breaks sentences or paragraphs, leading to incomplete context.\n",
        "2. Sliding window Approch\n",
        "Moves a fixed-size window across the text, creating overlapping chunks.\n",
        "Positives: Maintains context across chunks.\n",
        "Negatives: Introduces redundancy, increasing computational overhead.\n",
        "\n",
        "3.Recursive Splitting\n",
        "\n",
        "\n",
        "*   Divides text at semantic or structural boundaries like sentences or paragraphs.\n",
        "*   Positives: Preserves meaning by aligning chunks with natural breaks.\n",
        "*   Negatives: Computationally intensive and requires advanced parsing techniques.\n",
        "\n",
        "Selecting the right chunking strategy is vital for the accuracy in outputof LLM-based applications. Fixed-size chunking offers simplicity but may lose meaning. Sliding windows maintain continuity but add redundancy. Recursive splitting ensures semantic integrity but requires careful implementation.\n",
        "\n",
        "\n",
        "# Exercise: Explore Chunking with Overlaps\n",
        "\n",
        "Let's experiment with chunking and overlaps. Adjust the chunk_size and chunk_overlap values in the code below and observe how the number of chunks changes.\n",
        "\n",
        "\n"
      ],
      "metadata": {
        "id": "_2rZAJgREk49"
      }
    },
    {
      "cell_type": "code",
      "source": [
        "from langchain.text_splitter import RecursiveCharacterTextSplitter\n",
        "\n",
        "#modify the chunk_size and chunk_overlap parameters\n",
        "\n",
        "text_splitter= RecursiveCharacterTextSplitter(\n",
        "    chunk_size=1500,\n",
        "    chunk_overlap=150\n",
        ")\n",
        "\n",
        "splits=text_splitter.split_documents(docs)\n",
        "print(splits)\n",
        "print(len(splits))"
      ],
      "metadata": {
        "colab": {
          "base_uri": "https://localhost:8080/"
        },
        "id": "IeR3MHuDD4La",
        "outputId": "9e181558-7170-4048-a68f-c914ae527c16"
      },
      "execution_count": 20,
      "outputs": [
        {
          "output_type": "stream",
          "name": "stdout",
          "text": [
            "[Document(metadata={'producer': 'Microsoft® Word for Microsoft 365', 'creator': 'Microsoft® Word for Microsoft 365', 'creationdate': '2023-10-13T07:56:38+02:00', 'author': 'Stoehr, Iris', 'moddate': '2023-10-13T07:56:38+02:00', 'source': 'GlobalTravelPolicy (English).pdf', 'total_pages': 10, 'page': 0, 'page_label': '1'}, page_content='Version 5.3. September 1 2023  \\n  Document Classification: INTERNAL \\nThe online version of this document is the officially released version. \\n                                                                                                                             Any copies or print-outs are not controlled  \\n \\n \\nSAP GLOBAL TRAVEL POLICY \\n \\n \\n \\n \\n \\n \\n \\n \\n  \\nVersion Number: 5.3. \\nEffective Date: September 1 2023 \\nDocument Classification: INTERNAL'), Document(metadata={'producer': 'Microsoft® Word for Microsoft 365', 'creator': 'Microsoft® Word for Microsoft 365', 'creationdate': '2023-10-13T07:56:38+02:00', 'author': 'Stoehr, Iris', 'moddate': '2023-10-13T07:56:38+02:00', 'source': 'GlobalTravelPolicy (English).pdf', 'total_pages': 10, 'page': 1, 'page_label': '2'}, page_content='SAP Global Travel Policy  \\n \\n \\nVersion 5.3. September 1 2023 \\nDocument Classification: INTERNAL  \\nThe online version of this document is the officially released version. \\nAny copies or print-outs are not controlled. \\n2 \\nCOVER SHEET \\n \\nObjective The SAP Global Travel Policy defines the standards and principles for business \\ntrips. Country-specific tax and legal regulations are defined in the local \\namendments. \\nRationale   \\n \\nBenefits and Strategy \\nAlignment \\n \\nRisk of Non-compliance \\nto SAP \\nNon-compliance with the Global Travel Policy may lead to legal, tax or financial \\nrisk, and may even put SAP’s reputation at risk. \\nApplicability  \\nPrimary group \\napplicable to \\nThe Global Travel Policy applies for all business trips of all employees, within all \\nSAP companies in which SAP is the majority shareholder unless otherwise stated \\nin this document. \\nIndirectly Affected \\nAreas \\n \\nClassification Level The Global Travel Policy is for internal use. \\nEnforcement Non-compliance with the Global Travel Policy may lead to legal, tax or financial \\nrisk, and may even put SAP’s reputation at risk. \\nOwnership  \\nPolicy Owner Nikolaus Kirner, GPO Chief Procurement Officer \\nPolicy Manager Anne Delgado Schilz, GPO Category Manager Travel \\nSponsor  Dominik Asam, Chief Financial Officer \\n \\nReviewers \\n \\nReviewed LoB internally. According to SAP Policy Management Procedure no \\nother review needed as changes are not-substantive.'), Document(metadata={'producer': 'Microsoft® Word for Microsoft 365', 'creator': 'Microsoft® Word for Microsoft 365', 'creationdate': '2023-10-13T07:56:38+02:00', 'author': 'Stoehr, Iris', 'moddate': '2023-10-13T07:56:38+02:00', 'source': 'GlobalTravelPolicy (English).pdf', 'total_pages': 10, 'page': 1, 'page_label': '2'}, page_content='Reviewers \\n \\nReviewed LoB internally. According to SAP Policy Management Procedure no \\nother review needed as changes are not-substantive. \\n \\nApprovers Approved LoB internally. According to SAP Policy Management Procedure no \\nother approval needed as changes are not-substantive. \\n \\nDocument Information  \\nEffective Date September 1 2023 \\nReview Cycle / Update \\nDue Date \\nAnnual review;  \\nNext review due: September 2024 \\n \\nVersion History   For details see DOCUMENT CHANGE HISTORY at end of this document'), Document(metadata={'producer': 'Microsoft® Word for Microsoft 365', 'creator': 'Microsoft® Word for Microsoft 365', 'creationdate': '2023-10-13T07:56:38+02:00', 'author': 'Stoehr, Iris', 'moddate': '2023-10-13T07:56:38+02:00', 'source': 'GlobalTravelPolicy (English).pdf', 'total_pages': 10, 'page': 2, 'page_label': '3'}, page_content='SAP Global Travel Policy  \\n \\n \\nVersion 5.3. September 1 2023 \\nDocument Classification: INTERNAL  \\nThe online version of this document is the officially released version. \\nAny copies or print-outs are not controlled. \\n3 \\n \\nCONTENTS \\n \\nPURPOSE .............................................................................................................................................. 4 \\n1 TRAVEL PLANNING ..................................................................................................................... 4 \\n1.1. Booking Channels ................................................................................................................. 4 \\n1.2. Subscriber Cards .................................................................................................................. 4 \\n2 MEANS OF TRANSPORT ............................................................................................................. 5 \\n2.1. Flights .................................................................................................................................... 5 \\n2.2. Rental Cars ........................................................................................................................... 6 \\n2.3. Private Cars ........................................................................................................................... 6'), Document(metadata={'producer': 'Microsoft® Word for Microsoft 365', 'creator': 'Microsoft® Word for Microsoft 365', 'creationdate': '2023-10-13T07:56:38+02:00', 'author': 'Stoehr, Iris', 'moddate': '2023-10-13T07:56:38+02:00', 'source': 'GlobalTravelPolicy (English).pdf', 'total_pages': 10, 'page': 2, 'page_label': '3'}, page_content='2.3. Private Cars ........................................................................................................................... 6 \\n2.4. Taxi and Transfer ................................................................................................................... 6 \\n2.5. Trains ..................................................................................................................................... 6 \\n2.6. Ferry ...................................................................................................................................... 6 \\n3. ACCOMMODATION ...................................................................................................................... 6 \\n4. TELECOMMUNICATION ............................................................................................................... 7 \\n5. CREDIT CARD PROGRAM / PAYMENT IN ADVANCE ............................................................... 7 \\n5.1. Credit Card Program ............................................................................................................. 7 \\n5.2. Payment Without Corporate Credit Card .............................................................................. 7 \\n5.3. Payment in Advance ............................................................................................................. 7 \\n6. TRAVEL EXPENSES SETTLEMENT AND REIMBURSEMENT .................................................. 7'), Document(metadata={'producer': 'Microsoft® Word for Microsoft 365', 'creator': 'Microsoft® Word for Microsoft 365', 'creationdate': '2023-10-13T07:56:38+02:00', 'author': 'Stoehr, Iris', 'moddate': '2023-10-13T07:56:38+02:00', 'source': 'GlobalTravelPolicy (English).pdf', 'total_pages': 10, 'page': 2, 'page_label': '3'}, page_content='6. TRAVEL EXPENSES SETTLEMENT AND REIMBURSEMENT .................................................. 7 \\n6.1. Travel Expense Settlement ................................................................................................... 7 \\n6.2. Reimbursable Expenses ....................................................................................................... 7 \\n7. TRAVEL INSURANCE ................................................................................................................... 8 \\n8. HEALTH ON BUSINESS TRIPS ................................................................................................... 8 \\n9. TRAVEL RISKS ............................................................................................................................. 8 \\nL1 Managers .................................................................................................................................. 8 \\nDOCUMENT CHANGE HISTORY ......................................................................................................... 9'), Document(metadata={'producer': 'Microsoft® Word for Microsoft 365', 'creator': 'Microsoft® Word for Microsoft 365', 'creationdate': '2023-10-13T07:56:38+02:00', 'author': 'Stoehr, Iris', 'moddate': '2023-10-13T07:56:38+02:00', 'source': 'GlobalTravelPolicy (English).pdf', 'total_pages': 10, 'page': 3, 'page_label': '4'}, page_content='SAP Global Travel Policy  \\n \\n \\nVersion 5.3. September 1 2023 \\nDocument Classification: INTERNAL  \\nThe online version of this document is the officially released version. \\nAny copies or print-outs are not controlled. \\n4 \\nPURPOSE  \\nThe Global Travel Policy is based on SAP’s values, strategies, and principles. According to \\nSAP’s sustainability strategy, you should only go on business trips if they are unavoidable. \\nFirst consider alternatives such as videoconferencing. Take into account the overall cost of \\nthe trip and ensure that travel expenditure decisions are made in the best interest of SAP \\nand its customers. Non-compliance with the Global Travel Policy may result in disciplinary \\nmeasures.  You can find more information, such as booking channels, in SAP Corporate \\nPortal at quick link . \\nBusiness Trip Definition \\nBusiness trips are journeys to locations other than your regular place of work and home that \\nfulfill a business purpose. If you set out on a business trip from home, the trip begins as soon \\nas you leave the house. If you set out on a business trip from work, the trip begins as soon \\nas you leave the company’s premises. \\n \\n1 TRAVEL PLANNING \\n▪ If economically reasonable, you should choose the most environmentally friendly \\ntransportation for business trips. \\n▪ If you have a medical condition and a certificate issued by an external medical \\nprofessional, SAP advises you not to travel.'), Document(metadata={'producer': 'Microsoft® Word for Microsoft 365', 'creator': 'Microsoft® Word for Microsoft 365', 'creationdate': '2023-10-13T07:56:38+02:00', 'author': 'Stoehr, Iris', 'moddate': '2023-10-13T07:56:38+02:00', 'source': 'GlobalTravelPolicy (English).pdf', 'total_pages': 10, 'page': 3, 'page_label': '4'}, page_content='▪ If you have a medical condition and a certificate issued by an external medical \\nprofessional, SAP advises you not to travel. \\n▪ You must align with your manager or the cost object owner (cost center, internal \\norder, WBS element, sales order) about your planned trips before you book. \\n▪ All travel must be within existing budgets. \\n▪ If you need to stay over the weekend for business reasons, the same regulations as \\nstated in this document apply. \\n▪ If a business trip includes private elements you have to bear any additional costs that \\nare incurred. For more information please contact HRdirect. \\n \\n1.1. Booking Channels \\nYou must use the travel agencies and online booking systems chosen by SAP to book all \\nbusiness trips unless: \\n▪ The SAP customer is paying for the trip directly and requires that you book the trip \\nusing the customer’s own travel agency \\n▪ You are attending an event and are required to make your reservation through a \\ndifferent booking channel \\nIf you need to cancel a trip or part of it, please do so in time to avoid cancelation fees. \\nBenefits provided by travel industry bonus programs (for example, frequent flyer points) can \\nbe used for private travel as well. Please check whether doing so will lead to a taxable non-\\ncash benefit you would need to report to the tax authorities. Travel industry bonus programs \\nmust not influence the choice of the supplier. \\n1.2. Subscriber Cards'), Document(metadata={'producer': 'Microsoft® Word for Microsoft 365', 'creator': 'Microsoft® Word for Microsoft 365', 'creationdate': '2023-10-13T07:56:38+02:00', 'author': 'Stoehr, Iris', 'moddate': '2023-10-13T07:56:38+02:00', 'source': 'GlobalTravelPolicy (English).pdf', 'total_pages': 10, 'page': 3, 'page_label': '4'}, page_content='must not influence the choice of the supplier. \\n1.2. Subscriber Cards \\nYou are allowed to order subscriber cards (for example a train discount card) if their use \\nsaves money for SAP.'), Document(metadata={'producer': 'Microsoft® Word for Microsoft 365', 'creator': 'Microsoft® Word for Microsoft 365', 'creationdate': '2023-10-13T07:56:38+02:00', 'author': 'Stoehr, Iris', 'moddate': '2023-10-13T07:56:38+02:00', 'source': 'GlobalTravelPolicy (English).pdf', 'total_pages': 10, 'page': 4, 'page_label': '5'}, page_content='SAP Global Travel Policy  \\n \\n \\nVersion 5.3. September 1 2023 \\nDocument Classification: INTERNAL  \\nThe online version of this document is the officially released version. \\nAny copies or print-outs are not controlled. \\n5 \\n2 MEANS OF TRANSPORT \\n2.1. Flights \\nThe standard class for flights is coach (economy) class. \\nPlease ensure that you consider the lowest proposed air fare indicated by the booking \\nchannel. \\nThe lowest proposed fare for flights is the lowest price that fulfills the following conditions: \\n▪ Time: The flight can depart up to two hours before or after the requested departure \\ntime, and arrive up to two hours before or after the requested arrival time. \\n▪ Airport: Flights can depart or land at nearby alternative airports. \\n▪ Airlines: You can travel with an airline other than the requested airline. \\nYou can only accept a higher fare if business requirements make it necessary (for example, \\nurgent and fixed customer meeting schedules). \\n \\nEmployees may book flights in business class if \\n▪ One segment of the round-trip travel (outbound or return flight) is longer than eight \\nhours and the employee has already taken two round-trips within one calendar year \\nwhere one segment of the round-trip travel (outbound or return flight) was longer than \\neight hours.  \\n▪ All eligible flights taken from January 1st onwards, within the calendar year count \\ntowards this “two-flight” rule. These prerequisites must be fulfilled each calendar \\nyear.'), Document(metadata={'producer': 'Microsoft® Word for Microsoft 365', 'creator': 'Microsoft® Word for Microsoft 365', 'creationdate': '2023-10-13T07:56:38+02:00', 'author': 'Stoehr, Iris', 'moddate': '2023-10-13T07:56:38+02:00', 'source': 'GlobalTravelPolicy (English).pdf', 'total_pages': 10, 'page': 4, 'page_label': '5'}, page_content='towards this “two-flight” rule. These prerequisites must be fulfilled each calendar \\nyear. \\n▪ Executives (GETs, SETs, ETs) may book flights in business class if one segment of \\nthe round-trip travel (outbound or return flight) is longer than two hours.  \\n▪ All employees may book flights in business class if the flight is billed to an SAP \\ncustomer. Such trips are billable if the trip is \\no part of a customer project or  \\no the travel expenses will be charged to the customer or  \\no the costs incurred are posted to sales orders. \\n \\nPlease note: \\n▪ Any detours that would make shorter flights eligible for the “two-flight” rule are not \\npermitted. \\n▪ If different airlines are available for the planned trip, but with different flight durations, \\nthe flight with the shortest connection available must be booked. \\n▪ If a flight has been booked in business class, all of the directly connecting flights can \\nalso be booked in business class. \\n \\nIn the case of serious health problems, certified by an external medical specialist, SAP \\nadvises not to travel (especially by airplane). If travel is absolutely necessary, and the \\ndoctor’s order requires avoiding unhealthy conditions, an upgrade to business class can be \\napproved by the local CFO.'), Document(metadata={'producer': 'Microsoft® Word for Microsoft 365', 'creator': 'Microsoft® Word for Microsoft 365', 'creationdate': '2023-10-13T07:56:38+02:00', 'author': 'Stoehr, Iris', 'moddate': '2023-10-13T07:56:38+02:00', 'source': 'GlobalTravelPolicy (English).pdf', 'total_pages': 10, 'page': 5, 'page_label': '6'}, page_content='SAP Global Travel Policy  \\n \\n \\nVersion 5.3. September 1 2023 \\nDocument Classification: INTERNAL  \\nThe online version of this document is the officially released version. \\nAny copies or print-outs are not controlled. \\n6 \\n2.2. Rental Cars \\nPlease make sure you comply with local terms and conditions for car rental, for example \\nminimum age, driver’s license. \\nThe standard class for rental cars is “compact” or comparable. If you travel with colleagues \\nyou may book “midsize”. \\nWhen you collect your rental car, inspect the car first and report any damage you find before \\nyou accept the vehicle. \\nFill the gas tank before you return the car, as this avoids additional costs. Please check \\nregulations with the car rental agency when you collect your rental car. \\nAll rates shown as SAP rates include all the insurance cover necessary. Therefore you must \\ndecline all additional insurance. An exception may apply if more than one person is traveling \\nin a vehicle. At the latest, please check this when you collect your car from the rental station. \\nIf you have an accident, you must: \\n▪ Inform the police without delay. \\n▪ Write down the names, address, telephone numbers, and driver’s license \\nnumbers of everyone involved, including witnesses.  \\n▪ Notify the rental car company without delay. \\n \\n2.3. Private Cars \\nPrivate cars may be used for business trips if permitted according to your local amendment. \\n2.4. Taxi and Transfer \\nFor any local agreements please refer to the local amendment.'), Document(metadata={'producer': 'Microsoft® Word for Microsoft 365', 'creator': 'Microsoft® Word for Microsoft 365', 'creationdate': '2023-10-13T07:56:38+02:00', 'author': 'Stoehr, Iris', 'moddate': '2023-10-13T07:56:38+02:00', 'source': 'GlobalTravelPolicy (English).pdf', 'total_pages': 10, 'page': 5, 'page_label': '6'}, page_content='2.4. Taxi and Transfer \\nFor any local agreements please refer to the local amendment. \\n2.5. Trains \\nThe standard class is first class. \\n2.6. Ferry \\nThe standard class is first class. \\n \\n3. ACCOMMODATION \\nYou must book accommodations with SAP-preferred hotels as indicated in the booking \\nchannel unless: \\n▪ There is no SAP-preferred hotel within reasonable distance from the travel \\ndestination. \\n▪ Another hotel is cheaper than the SAP-preferred hotel (please make sure you take \\namenities included into consideration). \\n \\nThe use of apartments or flats is specifically regulated in the local amendment. \\nThe negotiated hotel rates are the rate cap for accommodations in the destination city, \\ncountry, or region. \\nThe SAP Guesthouse Cloud44 in Walldorf must always be the first choice for trips to \\nWalldorf or St. Leon-Rot.'), Document(metadata={'producer': 'Microsoft® Word for Microsoft 365', 'creator': 'Microsoft® Word for Microsoft 365', 'creationdate': '2023-10-13T07:56:38+02:00', 'author': 'Stoehr, Iris', 'moddate': '2023-10-13T07:56:38+02:00', 'source': 'GlobalTravelPolicy (English).pdf', 'total_pages': 10, 'page': 6, 'page_label': '7'}, page_content='SAP Global Travel Policy  \\n \\n \\nVersion 5.3. September 1 2023 \\nDocument Classification: INTERNAL  \\nThe online version of this document is the officially released version. \\nAny copies or print-outs are not controlled. \\n7 \\n \\n4. TELECOMMUNICATION \\nPlease refer to the relevant section in SAP Corporate Portal. \\n \\n5. CREDIT CARD PROGRAM / PAYMENT IN ADVANCE  \\n5.1. Credit Card Program \\nTo reduce your administrative effort and to benefit from the negotiated advantages please \\nuse a corporate credit card as per SAP’s Global Credit Card Program for all expenses \\nrelated to your business trip. \\nFor tax and liability reasons, you are not permitted to use this corporate credit card for \\npersonal expenses. \\n5.2. Payment Without Corporate Credit Card \\nPlease refer to the local amendment. \\n5.3. Payment in Advance \\nSAP does not provide any payments in advance. \\n \\n6. TRAVEL EXPENSES SETTLEMENT AND REIMBURSEMENT \\n6.1. Travel Expense Settlement \\nYou must settle all travel expenses in accordance with the local amendment and the Code of \\nBusiness Conduct, not later than 30 calendar days after the end of the trip. \\n6.2. Reimbursable Expenses \\nThe following trip related expenses will be reimbursed: \\n▪ Transportation \\n▪ Parking fees \\n▪ Cost of private car usage based on local reimbursement rates \\n▪ Accommodation \\n▪ Cancellation fees \\n▪ Meals in accordance with the country-specific rules defined in the local amendments \\n▪ Course and seminar fees \\n▪ Tips (local practice in the destination country)'), Document(metadata={'producer': 'Microsoft® Word for Microsoft 365', 'creator': 'Microsoft® Word for Microsoft 365', 'creationdate': '2023-10-13T07:56:38+02:00', 'author': 'Stoehr, Iris', 'moddate': '2023-10-13T07:56:38+02:00', 'source': 'GlobalTravelPolicy (English).pdf', 'total_pages': 10, 'page': 6, 'page_label': '7'}, page_content='▪ Course and seminar fees \\n▪ Tips (local practice in the destination country) \\n▪ Medication and/or vaccinations prescribed or recommended by a doctor that are \\nnecessary for an international business trip if they are not covered already \\n▪ All travel documents required for business trips (for example, visa costs, foreign \\ntravel tax, extending and issuing a passport, international driver’s license, the cost of \\ndocuments required to issue a passport, such as photos).'), Document(metadata={'producer': 'Microsoft® Word for Microsoft 365', 'creator': 'Microsoft® Word for Microsoft 365', 'creationdate': '2023-10-13T07:56:38+02:00', 'author': 'Stoehr, Iris', 'moddate': '2023-10-13T07:56:38+02:00', 'source': 'GlobalTravelPolicy (English).pdf', 'total_pages': 10, 'page': 7, 'page_label': '8'}, page_content='SAP Global Travel Policy  \\n \\n \\nVersion 5.3. September 1 2023 \\nDocument Classification: INTERNAL  \\nThe online version of this document is the officially released version. \\nAny copies or print-outs are not controlled. \\n8 \\n▪ Laundry services while on the trip \\n▪ Communication costs incurred during day-to-day business  \\n▪ Baggage fees \\n▪ Purchase of business required low-value items (up to €100)  \\n▪ Charges for currency exchanges \\n▪ Gifts for business partners (in alignment with SAP’s and business partner’s policies) \\n▪ Business-relevant entertainment costs (in alignment with SAP’s and business \\npartner’s policies). \\nOnly cost object owners (cost center, internal order, WBS element, sales order) are \\nallowed to entertain SAP employees without customer participation. \\n▪ Car services; please refer to the local amendment \\nNo other expenses will be reimbursed. \\n \\n7. TRAVEL INSURANCE \\nSAP has insurance policies that provide various types of travel insurance coverage for \\nemployees on business trips. Please check what coverage applies for your entity. \\n \\n8. HEALTH ON BUSINESS TRIPS \\nIf you are traveling by plane, you will receive relevant information by e-mail before your trip. \\n \\n9. TRAVEL RISKS \\nIf you are traveling by plane, you will receive relevant information by e-mail before your trip. \\nL1 Managers \\nNo more than 50% of the L1 managers of one Board area are allowed to travel in the same \\naircraft (corporate jets, commercial airplanes, helicopters).'), Document(metadata={'producer': 'Microsoft® Word for Microsoft 365', 'creator': 'Microsoft® Word for Microsoft 365', 'creationdate': '2023-10-13T07:56:38+02:00', 'author': 'Stoehr, Iris', 'moddate': '2023-10-13T07:56:38+02:00', 'source': 'GlobalTravelPolicy (English).pdf', 'total_pages': 10, 'page': 8, 'page_label': '9'}, page_content='SAP Global Travel Policy  \\n \\n \\nVersion 5.3. September 1 2023 \\nDocument Classification: INTERNAL  \\nThe online version of this document is the officially released version. \\nAny copies or print-outs are not controlled. \\n9 \\nDOCUMENT CHANGE HISTORY \\nThis document was produced by SAP Global Travel Management.  \\n \\nVersion Date Remarks \\n1 August 08 Complete travel policy \\n2 May 09 Update \\n3 July 09 Update \\n3.1 October 2009 Add content 2.2.2 \\n3.2 March 2010 Change content 2.2.2 \\n3.2 July 2010 Change content 2.1.1 \\n3.2 August 10 Change content 2.1.1 \\n3.2 November 10 2.1.4, 2.5.3 added and additional entry to 4.2.1 Passport fees \\n4.0 Mai 2011 Format in general  \\n1.1 Add word “to the regular workplace” \\n1.2 “Change word “must” -> “should”  \\n1.3 Delete text passage “Compliance with the Policy” \\n2.1.1 Add word “or” (definition of billable); add “equally \\nrepresented” (arbitration committee) \\n2.1.2 Add word “Meeting” \\n2.2.1 Add text passage “medical certificate”  \\n2.2.2 Add “within one calendar year”; change “ELT” -> “SLT”  \\n2.2.3 Delete “apartment booking” \\n2.4.7 Delete text passage \\n2.5.1 Change class of service train  \\n2.5.3 Delete text passage \\n3. Changes in wording \\n4.2.1 Add following text: “Please note that the reimbursement \\nwithout receipt is not possible. Receipts not being issued by the \\nrespective service provider and credit card statements cannot be \\nconsidered. Private expenses will not be reimbursed.” \\n4.3.1 Delete Word “nonprescription medication”'), Document(metadata={'producer': 'Microsoft® Word for Microsoft 365', 'creator': 'Microsoft® Word for Microsoft 365', 'creationdate': '2023-10-13T07:56:38+02:00', 'author': 'Stoehr, Iris', 'moddate': '2023-10-13T07:56:38+02:00', 'source': 'GlobalTravelPolicy (English).pdf', 'total_pages': 10, 'page': 8, 'page_label': '9'}, page_content='considered. Private expenses will not be reimbursed.” \\n4.3.1 Delete Word “nonprescription medication” \\n4.1 January 2012 Add content 2.1.5 \\n5.0 July 2012 Overall structure changed \\nElimination of process related descriptions \\nElimination of non reimbursable cost'), Document(metadata={'producer': 'Microsoft® Word for Microsoft 365', 'creator': 'Microsoft® Word for Microsoft 365', 'creationdate': '2023-10-13T07:56:38+02:00', 'author': 'Stoehr, Iris', 'moddate': '2023-10-13T07:56:38+02:00', 'source': 'GlobalTravelPolicy (English).pdf', 'total_pages': 10, 'page': 9, 'page_label': '10'}, page_content='SAP Global Travel Policy  \\n \\n \\nVersion 5.3. September 1 2023 \\nDocument Classification: INTERNAL  \\nThe online version of this document is the officially released version. \\nAny copies or print-outs are not controlled. \\n10 \\n5.1 November \\n2012 \\n6.2 Add “SAP’s” (in alignment with SAP’s and business partner’s \\npolicies) \\n5.2 April 2013  2.1 Exchanged SVP and Members of SLT by “Members of the \\nGlobal Leadership Team (GLT) and Extended Leadership Team \\n(EGLT)” \\n5.2 July 2014 Update of Layout / Conversion to SE  \\n5.2 December \\n2022 \\nVersion specification of Review Cycle/Update \\n5.3 September \\n2023 \\nUpdate of Layout / Conversion to New Global Travel Policy \\nUpdate Naming Convention Guesthouse Kalipeh to Cloud44 \\nUpdate Naming Convention EGLT / GLT to SET / GET / ET \\nAdded Hyperlinks'), Document(metadata={'producer': 'Microsoft® Word for Microsoft 365', 'creator': 'Microsoft® Word for Microsoft 365', 'creationdate': '2024-02-05T15:47:46+01:00', 'moddate': '2024-02-05T15:47:46+01:00', 'source': 'SAP Global Car Fleet Policy_internal_ENGLISH.pdf', 'total_pages': 12, 'page': 0, 'page_label': '1'}, page_content='SAP Global Car Fleet Policy \\n  \\n \\nVersion Number: 3.0  \\nDocument Classification: INTERNAL  \\nEffective Date : February 1st 2024  \\n \\n  \\n   \\nVersion 3.0  \\n     Document Classification: INTERNAL  \\nThe online version of this document is the officially released version.  \\n                                                                                                                             Any copies or print-outs are not controlled'), Document(metadata={'producer': 'Microsoft® Word for Microsoft 365', 'creator': 'Microsoft® Word for Microsoft 365', 'creationdate': '2024-02-05T15:47:46+01:00', 'moddate': '2024-02-05T15:47:46+01:00', 'source': 'SAP Global Car Fleet Policy_internal_ENGLISH.pdf', 'total_pages': 12, 'page': 1, 'page_label': '2'}, page_content=\"SAP Global Car Fleet Policy \\n  \\n  \\nVersion 3.0  \\nDocument Classification: Internal  \\nThe online version of this document is the officially rel eased version. Any \\ncopies or print-outs are not controlled.  \\n2  \\nCOVER SHEET  \\nObjective  \\nThe SAP Global Car Fleet Policy defines the standards and principles for company cars.   \\nRationale    \\nWhy – the benefits and \\nstrategy alignment  Benefit from a globally standardized structure to improve car fleet processes.  \\nRisk of Non-compliance to \\nSAP  \\nNon-compliance with the Global Car Policy may lead to legal, tax or financial risk and may even \\nput SAP's reputation at risk.  \\nApplicability    \\nPrimary group applicable  \\nto  \\nUnless otherwise stated in this document, the Global Car Fleet Policy applies to all company cars of \\nall employees within all SAP companies in which SAP is the majority shareholder.  \\nIndirectly Affected Areas  Human Resource, Total Rewards, Finance & Administration, Facilities  \\nConfidentiality  INTERNAL  \\nEnforcement  \\nViolations of this Policy may lead to disciplinary actions, which align with applicable labor laws, up \\nto and including termination of company car entitlement and employment.  \\nOwnership    \\nDocument Owners  Nikolaus Kirner, Chief Procurement Officer \\nSteffen Krautwasser, Head of Global Car Fleet  \\nDocument Manager  Jürgen Rennar, Head of CoE Global Car Fleet \\nSponsor    Dominik Asam, CFO, Executive Board  \\nReviewers  \\n  \\n• GPO Car Fleet \\n• HR Total Rewards  \\n• Sustainability\"), Document(metadata={'producer': 'Microsoft® Word for Microsoft 365', 'creator': 'Microsoft® Word for Microsoft 365', 'creationdate': '2024-02-05T15:47:46+01:00', 'moddate': '2024-02-05T15:47:46+01:00', 'source': 'SAP Global Car Fleet Policy_internal_ENGLISH.pdf', 'total_pages': 12, 'page': 2, 'page_label': '3'}, page_content='SAP Global Car Fleet Policy \\n  \\n  \\nVersion 3.0  \\nDocument Classification: Internal  \\nThe online version of this document is the officially rel eased version. Any \\ncopies or print-outs are not controlled.  \\n3  \\nApprovers   • Global Policy Advisory Committee on April 6th 2023  \\n• Executive Board on November 22nd 2023 \\nDocument \\nInformation  \\n  \\nEffective Date  February 1st 2024 \\nReview Cycle / Update Due \\nDate  \\nAnnual  \\nNext due: February 1st 2025 \\n  \\n \\n \\n \\n \\n \\n DOCUMENT UPDATE BACKLOG  \\nVersion Date Updated by Reviewed by Update description \\n1.0 August 1st 2020 GPO Car Fleet GPO Car Fleet \\nHR Total Rewards \\nSustainability \\nGlobal Car Fleet Guideline Creation \\n2.0 December 8th 2021 GPO Car Fleet GPO Car Fleet \\nHR Total Rewards \\nSustainability \\n• Approvers added in Cover Sheet \\n• Next Review Due Date updated in Cover \\nSheet \\n• Chapter 2 \"Outlook\" added \\n• In Chapter 7.1. \"Limitations\", the year for \\nSAP to become carbon neutral, has been \\nchanged from 2025 to 2023 \\n• Chapter 11 “Data Protection” added \\n \\n3.0. …. GPO Car Fleet see Cover Sheet • SAP Global Car Fleet Guideline reworked \\ninto SAP Global Car Fleet Policy \\n• Document Ownership updated in Cover \\nSheet with new responsibilities under \\nDocument Owner, Document Manager, \\nSponsor and Approvers  \\n• Effective Date updated in Cover Sheet \\n• Following Review Due Date updated in \\nCover Sheet \\n• Chapter \"Introduction\" added \\n• Chapter \"Local Policies\" added \\n• Chapter \"Global minimum standards\" \\nadded'), Document(metadata={'producer': 'Microsoft® Word for Microsoft 365', 'creator': 'Microsoft® Word for Microsoft 365', 'creationdate': '2024-02-05T15:47:46+01:00', 'moddate': '2024-02-05T15:47:46+01:00', 'source': 'SAP Global Car Fleet Policy_internal_ENGLISH.pdf', 'total_pages': 12, 'page': 2, 'page_label': '3'}, page_content='Cover Sheet \\n• Chapter \"Introduction\" added \\n• Chapter \"Local Policies\" added \\n• Chapter \"Global minimum standards\" \\nadded \\n• Chapter “Responsibilities of Next Level \\nManagers” added \\n• Chapter \"Purpose and objectives\" updated'), Document(metadata={'producer': 'Microsoft® Word for Microsoft 365', 'creator': 'Microsoft® Word for Microsoft 365', 'creationdate': '2024-02-05T15:47:46+01:00', 'moddate': '2024-02-05T15:47:46+01:00', 'source': 'SAP Global Car Fleet Policy_internal_ENGLISH.pdf', 'total_pages': 12, 'page': 3, 'page_label': '4'}, page_content='SAP Global Car Fleet Policy \\n  \\n  \\nVersion 3.0  \\nDocument Classification: Internal  \\nThe online version of this document is the officially rel eased version. Any \\ncopies or print-outs are not controlled.  \\n4  \\n• Chapter \"Scope\" updated \\n• Chapter \"Supporting documents\" updated \\n• Chapter \"Data protection\" updated \\n• Chapter \"Outlook\" was removed, and \\ncontent merged into Chapter \"Global \\nminimum standards\" / Section \\n\"Limits/ordering restrictions\"  \\n• Chapter \"Authorization/Entitlement\" was \\nremoved, and content merged into Chapter \\n\"Global minimum standards\" / Section \\n\"Eligibility\"  \\n• Chapter \"Ordering of company car\" was \\nremoved, and content merged into Chapter \\n\"Global minimum standards\" / Sections \\n\"Ordering process\" and \"Limits / ordering \\nrestrictions\" \\n• Chapter \"Usage\" was removed, and content \\nmerged into Chapter \"Global minimum \\nstandards\" / Section \"Usage/return of the \\ncar\"  \\n• Chapter \"Obligation / Responsibilities\" \\nwas removed, and content merged into \\nChapter \"Global minimum standards\" / \\nSection \"Employees\\' \\nobligations/responsibilities\" \\n• Chapter \"Tax responsibility\" was removed, \\nand content merged into Chapter \"Global \\nminimum standards\" / Section \"Employees\\' \\nobligations/responsibilities\" \\n• Chapter \"Review, update, and \\nmaintenance\" was fully removed \\n• Chapter \"Validity\" was fully removed'), Document(metadata={'producer': 'Microsoft® Word for Microsoft 365', 'creator': 'Microsoft® Word for Microsoft 365', 'creationdate': '2024-02-05T15:47:46+01:00', 'moddate': '2024-02-05T15:47:46+01:00', 'source': 'SAP Global Car Fleet Policy_internal_ENGLISH.pdf', 'total_pages': 12, 'page': 4, 'page_label': '5'}, page_content='SAP Global Car Fleet Policy \\n  \\n  \\nVersion 3.0  \\nDocument Classification: Internal  \\nThe online version of this document is the officially rel eased version. Any \\ncopies or print-outs are not controlled.  \\n5  \\nCONTENTS \\n1 INTRODUCTION ................................ ................................ ................................ ..............  6 \\n2 PURPOSE AND OBJECTIVES ................................ ................................ .........................  6 \\n3 SCOPE ................................ ................................ ................................ ...............................  6 \\n4 SUPPORTING DOCUMENTS ................................ ................................ ..........................  6 \\n5 LOCAL POLICIES ................................ ................................ ................................ ............ 7 \\n5.1 Local policy management ................................ ................................ ................................ . 7 \\n5.2 Mandatory content – Deviations ................................ ................................ .......................  7 \\n6 GLOBAL MINIMUM STANDARDS ................................ ................................ ................  7 \\n6.1. Eligibility................................ ................................ ................................ .........................  7'), Document(metadata={'producer': 'Microsoft® Word for Microsoft 365', 'creator': 'Microsoft® Word for Microsoft 365', 'creationdate': '2024-02-05T15:47:46+01:00', 'moddate': '2024-02-05T15:47:46+01:00', 'source': 'SAP Global Car Fleet Policy_internal_ENGLISH.pdf', 'total_pages': 12, 'page': 4, 'page_label': '5'}, page_content=\"6.1. Eligibility................................ ................................ ................................ .........................  7 \\n6.2 Ordering process ................................ ................................ ................................ ...............  7 \\n6.3 Limits/ordering restrictions ................................ ................................ ...............................  8 \\n6.4 Usage/return of the car ................................ ................................ ................................ ...... 8 \\n6.5. Employees' obligations/responsibilities ................................ ................................ ............ 9 \\n7 DATA PROTECTION ................................ ................................ ................................ ......11 \\n8 RESPONSIBILITIES OF NEXT LEVEL MANAGERS ................................ ................... 11\"), Document(metadata={'producer': 'Microsoft® Word for Microsoft 365', 'creator': 'Microsoft® Word for Microsoft 365', 'creationdate': '2024-02-05T15:47:46+01:00', 'moddate': '2024-02-05T15:47:46+01:00', 'source': 'SAP Global Car Fleet Policy_internal_ENGLISH.pdf', 'total_pages': 12, 'page': 5, 'page_label': '6'}, page_content='SAP Global Car Fleet Policy \\n  \\n  \\nVersion 3.0  \\nDocument Classification: Internal  \\nThe online version of this document is the officially rel eased version. Any \\ncopies or print-outs are not controlled.  \\n6  \\n1 INTRODUCTION \\n \\nSAP\\'s car fleet management is based on SAP\\'s vision, strategy, and principles. SAP aims to \\nensure employee mobility and keep SAP an attractive employer.  \\n \\nAccording to SAP\\'s sustainable business strategy, SAP sees itself committed to actively \\ncontributing to environmental protection.  \\n \\nAccording to the SAP Global Environmental Policy, it is a long-term goal to reduce fleet \\nconsumption. SAP will continuously adapt the orderable company cars to guide the order \\nbehavior, create environmental awareness and offer eco-friendly company cars.   \\n \\n \\n2 PURPOSE AND OBJECTIVES  \\n \\nThe Global Car Fleet Policy (\"this Policy\") provides the basic global car fleet management \\nconditions. In addition, it defines certain rules that must be observed as a minimum standard.  \\n \\nLocal policies can be implemented.   \\n \\nThis Policy will be used by default, where no local policy is currently used. A local policy \\nsupersedes this Policy in countries where a local policy has been implemented if it observes the \\nglobal minimum standards. \\n \\n \\n3 SCOPE   \\n \\nUnless otherwise stated in this document, the Global Car Fleet Policy applies to all employees \\nwith a company car entitlement for leased and purchased cars within all SAP companies where'), Document(metadata={'producer': 'Microsoft® Word for Microsoft 365', 'creator': 'Microsoft® Word for Microsoft 365', 'creationdate': '2024-02-05T15:47:46+01:00', 'moddate': '2024-02-05T15:47:46+01:00', 'source': 'SAP Global Car Fleet Policy_internal_ENGLISH.pdf', 'total_pages': 12, 'page': 5, 'page_label': '6'}, page_content='with a company car entitlement for leased and purchased cars within all SAP companies where \\nSAP is the majority shareholder.   \\n  \\nTransfer services (excluding leased chauffeur driven cars) and car allowances are not \\nconsidered in this Policy.   \\n   \\n \\n4 SUPPORTING DOCUMENTS  \\n \\nThe following documents support this Policy:  \\n• SAP Global Environmental Policy  \\n \\n• SAP Global Procurement Policy \\n• SAP Global Governance Documents Policy'), Document(metadata={'producer': 'Microsoft® Word for Microsoft 365', 'creator': 'Microsoft® Word for Microsoft 365', 'creationdate': '2024-02-05T15:47:46+01:00', 'moddate': '2024-02-05T15:47:46+01:00', 'source': 'SAP Global Car Fleet Policy_internal_ENGLISH.pdf', 'total_pages': 12, 'page': 6, 'page_label': '7'}, page_content='SAP Global Car Fleet Policy \\n  \\n  \\nVersion 3.0  \\nDocument Classification: Internal  \\nThe online version of this document is the officially rel eased version. Any \\ncopies or print-outs are not controlled.  \\n7  \\n• SAP Policy Management Procedure \\n \\n5 LOCAL POLICIES \\n \\nLocal policies can be implemented to allow for specific local or regional distinctions or legal \\nrequirements.   \\n \\n5.1 Local policy management  \\nLocal policy management must follow the SAP Global Governance Documents Policy and the \\nSAP Policy Management Procedure.   \\n \\nIn addition, the creation, update, or withdrawal of a local policy always needs final approval \\nfrom the Head of Global Car Fleet before the roll-out.  \\n \\n5.2 Mandatory content – Deviations  \\nAll local policies must cover the Global Minimum Standards (see section 6 below) as a \\nminimum requirement.  \\n \\nDeviations from the Global Minimum Standards are only permitted, \\n• if legally required, or \\n• where already permitted in the Global Minimum Standards.   \\n \\n6 GLOBAL MINIMUM STANDARDS  \\n \\nThe regulations below define the minimum rules and standards for effective car fleet \\nmanagement.  \\n \\n6.1. Eligibility    \\nOnly eligible employees are allowed to receive a company car.  \\nEligible are employees with a contractual commitment to a company car entitlement. \\nFurther eligibility criteria can be defined locally by the Policy Owner of the local policy in \\nalignment with local Total Rewards and local Car Fleet.  \\n6.2 Ordering process'), Document(metadata={'producer': 'Microsoft® Word for Microsoft 365', 'creator': 'Microsoft® Word for Microsoft 365', 'creationdate': '2024-02-05T15:47:46+01:00', 'moddate': '2024-02-05T15:47:46+01:00', 'source': 'SAP Global Car Fleet Policy_internal_ENGLISH.pdf', 'total_pages': 12, 'page': 6, 'page_label': '7'}, page_content='alignment with local Total Rewards and local Car Fleet.  \\n6.2 Ordering process   \\nIt is only allowed to order an SAP approved car. Available company cars for all relevant \\nentities must be listed in a local car policy or supporting documents and ordered from the \\nrelevant supplier. Relevant suppliers must be selected following the SAP Global \\nProcurement Policy.'), Document(metadata={'producer': 'Microsoft® Word for Microsoft 365', 'creator': 'Microsoft® Word for Microsoft 365', 'creationdate': '2024-02-05T15:47:46+01:00', 'moddate': '2024-02-05T15:47:46+01:00', 'source': 'SAP Global Car Fleet Policy_internal_ENGLISH.pdf', 'total_pages': 12, 'page': 7, 'page_label': '8'}, page_content='SAP Global Car Fleet Policy \\n  \\n  \\nVersion 3.0  \\nDocument Classification: Internal  \\nThe online version of this document is the officially rel eased version. Any \\ncopies or print-outs are not controlled.  \\n8  \\nA precise and transparent ordering process must be in place at a local level; this process must \\nensure that  \\n▪ the ordering employee is eligible and  \\n▪ only allowed vehicles can be ordered.  \\n \\nFor final approval of the order, a two-stage approval workflow must be guaranteed:  \\n1. 1st approver = direct manager of company car driver (orderer) \\n2. 2nd approver = local car fleet manager or procurement operations \\n(optional approver = local management, e.g. HRD, local CFO, MD)  \\n \\nIf a role in a local market unit simultaneously includes the rights of the 1st and the 2nd \\napprover or if the company car driver (orderer) is simultaneously one of the approvers, \\nfurther next-level approval must be obtained.  \\n  \\n6.3 Limits/ordering restrictions  \\nThe statutory measurement standard on CO2 emissions applies to SAP company car orders. \\nUnder the EU regulation, employees can order only vehicles whose WLTP (Worldwide \\nharmonized Light vehicles Test Procedure) value does not exceed 120 CO2 limit (g/km) for \\nGlobal SAP.  \\n \\nThe maximum HP (Horse Power) for combustion engines may not exceed 140 KW / 190 HP.  \\nTotal system HP for combined engines (Hybrid, Plug-in hybrid, Fuel cell) may not exceed 176 \\nKW / 240 HP.  \\nThere is no HP or KW limitation for pure electric engines.'), Document(metadata={'producer': 'Microsoft® Word for Microsoft 365', 'creator': 'Microsoft® Word for Microsoft 365', 'creationdate': '2024-02-05T15:47:46+01:00', 'moddate': '2024-02-05T15:47:46+01:00', 'source': 'SAP Global Car Fleet Policy_internal_ENGLISH.pdf', 'total_pages': 12, 'page': 7, 'page_label': '8'}, page_content='KW / 240 HP.  \\nThere is no HP or KW limitation for pure electric engines.  \\n \\nCountries where these limits are currently exceeded, are strongly encouraged to lower the \\nlimits respectively. Conversely, an increase in the presently applicable limits is prohibited.   \\nAccording to the global car fleet strategy 2025, only emission-free vehicles can be ordered \\nfrom January 1st, 2025. This means no more combustion engines like diesel, petrol or plug-in \\nhybrid. Therefore, all local policies need to be amended respectively by then.  \\nThe following motor vehicles are not allowed to be ordered:  \\n• Two-Seater  \\n• Camping vehicles  \\n• Motorbikes (2 tires)  \\n• Trucks  \\n• Racing cars  \\n \\n6.4 Usage/return of the car \\nBusiness usage of the company car always has priority.  \\nThe company car cannot be used for personal reasons unless permitted within local law or \\nlocal policy.  \\n  \\nThird-party usage of company cars is generally not allowed unless otherwise regulated within \\nthe local policy or business required.'), Document(metadata={'producer': 'Microsoft® Word for Microsoft 365', 'creator': 'Microsoft® Word for Microsoft 365', 'creationdate': '2024-02-05T15:47:46+01:00', 'moddate': '2024-02-05T15:47:46+01:00', 'source': 'SAP Global Car Fleet Policy_internal_ENGLISH.pdf', 'total_pages': 12, 'page': 8, 'page_label': '9'}, page_content='SAP Global Car Fleet Policy \\n  \\n  \\nVersion 3.0  \\nDocument Classification: Internal  \\nThe online version of this document is the officially rel eased version. Any \\ncopies or print-outs are not controlled.  \\n9  \\n  \\nCommercial usage of company cars outside of SAP is not allowed. This includes the rental of \\nthe company car or transport of persons for a fee or the purpose of gainful activities.  \\n  \\nThe Employee is forbidden to use a company car for:  \\n• Speed races, speed tests or similar events  \\n• Providing driving or instruction lessons  \\n• Advertisement against payment  \\n  \\nCompany cars may only be used for business trips and/or private trips (when permitted by \\nlocal law or local policy) within the area covered by the insurance. The location where your \\ncompany car is insured is specified on the international insurance card (e.g. green card).  \\n \\nSAP reserves the right to charge any costs due to disregard directly to the Employee. \\nBeyond that, SAP reserves the right to withdraw the entitlement to a company car.  \\n \\nIn principle, the service life of a company car should not exceed 48 months unless not \\notherwise regulated within the local policy or business required.  \\n \\nSAP reserves the right to request the early return of the company car for safety and \\neconomical reasons. This decision must be taken on individual basis.   \\n \\nIf the authorization to use the company car is revoked, the Employee must return the'), Document(metadata={'producer': 'Microsoft® Word for Microsoft 365', 'creator': 'Microsoft® Word for Microsoft 365', 'creationdate': '2024-02-05T15:47:46+01:00', 'moddate': '2024-02-05T15:47:46+01:00', 'source': 'SAP Global Car Fleet Policy_internal_ENGLISH.pdf', 'total_pages': 12, 'page': 8, 'page_label': '9'}, page_content=\"If the authorization to use the company car is revoked, the Employee must return the \\ncompany car immediately or by a set date, including all accessories, papers, and keys. An \\nemployee is not entitled to claim compensation for loss of private use. In addition, an \\nemployee has no right to retention. \\n \\nSuppose the company car is not in the condition specified in the agreement at the end of \\nthe agreement period. In that case, Employee must bear the necessary costs to return the \\ncompany car to its contractual state. \\n \\n6.5. Employees' obligations/responsibilities \\n \\n6.5.1. Compliance   \\nBefore receiving a company car, employees must agree to comply with the conditions of \\nthis SAP Global Car Fleet Policy and the local policy version.   \\nFailure to comply with the company car regulations may not only lead to the withdrawal \\nof authorization to use the vehicle. Still, it could also lead to disciplinary action, \\nincluding termination of employment without notice in accordance with labor law and in \\nalignment with local HR. \\n \\nIn addition to this Policy's provisions, the local policy's corresponding rules must be \\nstrictly observed.\"), Document(metadata={'producer': 'Microsoft® Word for Microsoft 365', 'creator': 'Microsoft® Word for Microsoft 365', 'creationdate': '2024-02-05T15:47:46+01:00', 'moddate': '2024-02-05T15:47:46+01:00', 'source': 'SAP Global Car Fleet Policy_internal_ENGLISH.pdf', 'total_pages': 12, 'page': 9, 'page_label': '10'}, page_content=\"SAP Global Car Fleet Policy \\n  \\n  \\nVersion 3.0  \\nDocument Classification: Internal  \\nThe online version of this document is the officially rel eased version. Any \\ncopies or print-outs are not controlled.  \\n10  \\n6.5.2. Driving Permission  \\nThe Employee must have permanent/unlimited driving permission, valid in the respective \\ncountry of company car usage.  \\nEmployee warrants to have a valid driving license.  \\nThe Employee agrees to inform SAP immediately if this situation changes. Especially in \\ncase of loss of driving Permission, the Employee is committed to informing the local Car \\nFleet Team immediately. Further usage of the company car for the Employee is not \\nallowed until regaining driving Permission.  \\n  \\nThe Employee is committed to showing SAP their valid driving permission regularly, at \\nleast according to legal requirements and at any time on demand.  \\n \\n6.5.3. Operational Safety  \\nThe Employee is committed to keeping the company car in a technical and optical \\nunobjectionable condition.  \\nThis includes:  \\n• Care and Maintenance according to the manufacturer's requirements  \\n• Take care of required services on time in an authorized garage  \\n• Take care of legal state checks and services necessary on time   \\n• Change of tires (seasonal/wear)  \\n• Keep the car clean (inside & outside)  \\n  \\nStatuary safety regulations in the respective countries must be observed (safety net for \\nluggage, transportation rules, etc.). Appropriate prescribed and safety-relevant equipment\"), Document(metadata={'producer': 'Microsoft® Word for Microsoft 365', 'creator': 'Microsoft® Word for Microsoft 365', 'creationdate': '2024-02-05T15:47:46+01:00', 'moddate': '2024-02-05T15:47:46+01:00', 'source': 'SAP Global Car Fleet Policy_internal_ENGLISH.pdf', 'total_pages': 12, 'page': 9, 'page_label': '10'}, page_content='luggage, transportation rules, etc.). Appropriate prescribed and safety-relevant equipment \\nis mandatory. SAP reserves the right to charge any costs due to disregard and lack of care \\ndirectly to the Employee. Beyond that, SAP reserves the right to withdraw the \\nentitlement to a company car.  \\n \\n6.5.4. Violation of Traffic Regulations  \\nThe company car user agrees to adhere to all legal regulations in the respective countries.   \\nIn addition to this, the following is prohibited:  \\n▪ Driving under the influence of mind-altering substances including drugs and alcohol \\n▪ Usage of a mobile device while driving except if hands-free driving device is used \\n  \\nSAP reserves the right to charge any costs for disregarding any traffic violation directly \\nto the Employee. Beyond that, SAP reserves the right to withdraw the entitlement to a \\ncompany car.  \\nAn employee is liable for the payment of any penalties or fines.  \\nSAP is entitled to charge Employee for the additional administrative effort on the part \\nof SAP resulting from the violations.'), Document(metadata={'producer': 'Microsoft® Word for Microsoft 365', 'creator': 'Microsoft® Word for Microsoft 365', 'creationdate': '2024-02-05T15:47:46+01:00', 'moddate': '2024-02-05T15:47:46+01:00', 'source': 'SAP Global Car Fleet Policy_internal_ENGLISH.pdf', 'total_pages': 12, 'page': 10, 'page_label': '11'}, page_content=\"SAP Global Car Fleet Policy \\n  \\n  \\nVersion 3.0  \\nDocument Classification: Internal  \\nThe online version of this document is the officially rel eased version. Any \\ncopies or print-outs are not controlled.  \\n11  \\nIn case of traffic offences or criminal acts during the company car usage, SAP is \\nobliged to issue the name and address of the driver to the respective authority. \\nTherefore, within the scope of an official prosecution, after the vehicle was handed over \\nto third parties. Thus, the Employee is obliged to issue the name and address of the \\ndriver immediately to SAP. However, the Employee's right to withhold information \\nabout the driver of the company car against the authorities does not mean that such \\ninformation can be withheld against SAP. \\n6.5.5 Accident and Damage   \\nIn the event of an accident, the Employee must carry out the processes and actions \\nresulting from the insurance conditions prescribed by SAP in such a case. The same \\napplies to any other matter of damage to the car. \\n6.5.6 Burglary  \\nThe Employee is committed to preventing the burglary of the company car.   \\nThis includes:  \\n• locking the car  \\n• no depositing valuable equipment in the vehicle in a visible manner (laptops, mobile \\nphones, fuel and credit cards, money etc.)  \\n• no depositing of original registration documents in the car  \\n6.5.7. Tax regulations   \\nThe execution of tax effects is a valid caveat to the guideline of the respective country.\"), Document(metadata={'producer': 'Microsoft® Word for Microsoft 365', 'creator': 'Microsoft® Word for Microsoft 365', 'creationdate': '2024-02-05T15:47:46+01:00', 'moddate': '2024-02-05T15:47:46+01:00', 'source': 'SAP Global Car Fleet Policy_internal_ENGLISH.pdf', 'total_pages': 12, 'page': 10, 'page_label': '11'}, page_content='6.5.7. Tax regulations   \\nThe execution of tax effects is a valid caveat to the guideline of the respective country.   \\nEmployee agrees to bear income tax liability on private usage of the company car as assessed \\nby respective authorities. In addition, employees must comply with domestic tax laws and, \\nif required for tax withholding purposes, provide truthful information on  the private usage \\nof the company car to SAP.  \\n7 DATA PROTECTION \\n \\nThe car fleet department can use the vehicle and personal related data as described in this \\nPolicy, including (without limitation) for monitoring compliance with this Policy and for \\nthe purposes of managing, developing and improving the car fleet for SAP employees. This \\nincludes safety and economical reasons.   \\n8 RESPONSIBILITIES OF NEXT LEVEL MANAGERS \\n \\nNext level managers have the important fiduciary responsibility for ensuring that this Policy \\nand other related policies, standards, procedures, and rules regarding car fleet management \\nare implemented and enforced within their area of responsibility.'), Document(metadata={'producer': 'Microsoft® Word for Microsoft 365', 'creator': 'Microsoft® Word for Microsoft 365', 'creationdate': '2024-02-05T15:47:46+01:00', 'moddate': '2024-02-05T15:47:46+01:00', 'source': 'SAP Global Car Fleet Policy_internal_ENGLISH.pdf', 'total_pages': 12, 'page': 11, 'page_label': '12'}, page_content='SAP Global Car Fleet Policy \\n  \\n  \\nVersion 3.0  \\nDocument Classification: Internal  \\nThe online version of this document is the officially rel eased version. Any \\ncopies or print-outs are not controlled.  \\n12')]\n",
            "39\n"
          ]
        }
      ]
    },
    {
      "cell_type": "markdown",
      "source": [
        "# Semantic Search and Distance Functions\n",
        "Semantic search helps in retrieving documents that are semantically similar to a query, not just those with exact keyword matches. Common distance functions used in semantic search are:\n",
        "\n",
        "1. L2 (Euclidean) Distance:\n",
        "Measures the straight-line distance between two points (vectors). It's commonly used in geometric contexts but may not capture similarity well in high-dimensional spaces. When to use: • Image search and spatial data: L2 distance is often used when the data represents physical space or continuous attributes, such as in image search or geographical location data. In these cases, the exact “distance” between two points in the vector space is meaningful.\n",
        "\n",
        "2. Cosine Similarity:\n",
        "Measures the cosine of the angle between two vectors. This is often used in text retrieval tasks because it focuses on the direction rather than the magnitude of the vectors. When to use: • Text-based retrieval: Cosine similarity works well in natural language processing tasks, where the direction of the vector (representing the semantics of the text) matters more than its magnitude. • Document clustering: When clustering text documents or searching for documents with similar topics, cosine similarity helps retrieve semantically related information even if the length of the documents varies.\n",
        "\n",
        "# Other possible distance measures include:\n",
        "\n",
        "\n",
        "*   Manhattan Distance: Based on the sum of absolute differences. It works well when comparing structured (tabular) data with features that are unrelated or only loosely related.\n",
        "\n",
        "*   List item: Measures the intersection over union of sets of tokens. Jaccard similarity is ideal for tasks where you compare sets of elements, such as keyword sets, tags, or lists. It measures how similar two sets are based on shared elements.\n",
        "\n",
        "# Exercise: Compare Distance Metrics\n",
        "\n",
        "Using the vectors below, calculate the L2 distance and cosine similarity between two text embeddings. Experiment with different metrics and see how the values change.\n",
        "\n",
        "\n",
        "\n",
        "\n",
        "\n"
      ],
      "metadata": {
        "id": "T9iKLRfSHJ5Q"
      }
    },
    {
      "cell_type": "code",
      "source": [
        "from gen_ai_hub.proxy.native.openai import embeddings\n",
        "\n",
        "response = embeddings.create(\n",
        "    input=\"yugandhar chaudhary\",\n",
        "    model_name=\"text-embedding-3-small\"\n",
        "\n",
        ")\n",
        "print(response.data)"
      ],
      "metadata": {
        "colab": {
          "base_uri": "https://localhost:8080/"
        },
        "id": "SUdS7dNQGWKG",
        "outputId": "afed133d-1005-4621-f2a7-4f5a52dce64f"
      },
      "execution_count": 39,
      "outputs": [
        {
          "output_type": "stream",
          "name": "stdout",
          "text": [
            "[Embedding(embedding=[-0.005370229948312044, -0.007774475030601025, -0.018489256501197815, -0.0025198031216859818, -0.0029611699283123016, 0.011671342886984348, 0.014444731175899506, -0.002038312144577503, -0.05254030227661133, -0.025563964620232582, 0.04157514497637749, -0.05500553548336029, 0.0029499351512640715, -0.011684182099997997, 0.0383652038872242, 0.010329587385058403, 0.0053349207155406475, 0.014996840618550777, 0.011266889981925488, 0.059525132179260254, -0.010515764355659485, 0.016024021431803703, 0.02963416837155819, 0.016190938651561737, 0.016434893012046814, 0.01698700338602066, 0.011221950873732567, 0.006224073935300112, 0.044810764491558075, -0.03582293167710304, -0.03970054164528847, -0.03582293167710304, 0.02372787892818451, -0.011786900460720062, 0.005062075797468424, 0.018925808370113373, -0.0027252391446381807, 0.0021105357445776463, 0.02539704740047455, 0.03353745490312576, -0.02714325487613678, -0.043757904320955276, 0.012249131686985493, 0.04414309933781624, 0.06676675379276276, -0.03844224289059639, -0.003425006289035082, 0.004420087672770023, -0.03777457773685455, 0.023355524986982346, -0.00010281839786330238, -0.005235412623733282, 0.017988504841923714, 0.0621958002448082, 0.004172922112047672, 0.015869945287704468, -0.04743007570505142, 0.03854496404528618, 0.011485165916383266, -0.04401469975709915, -0.03438488021492958, -0.0653287023305893, 0.031329017132520676, 0.03179124742746353, 0.016447734087705612, -0.06887247413396835, -0.04203737899661064, 0.01669168844819069, -0.009321666322648525, 0.00465762335807085, 0.007036189083009958, -0.005350970197468996, 0.02922329492866993, -0.028452910482883453, 0.0021249803248792887, -0.003909707069396973, 0.036618996411561966, -0.025551123544573784, 0.0048020705580711365, 0.01403385866433382, -0.0024331347085535526, 0.024575302377343178, 0.002893761033192277, 0.02942873165011406, -0.04668537154793739, 0.018360858783125877, -0.002080041216686368, 0.06784529983997345, -0.020851772278547287, 0.017564792186021805, -0.001184467924758792, 0.034128084778785706, -0.0352323055267334, -0.003075122833251953, 0.008326584473252296, 0.04619745910167694, 0.06892383843660355, 0.024113070219755173, 0.03741506487131119, -0.030507272109389305, -0.0025791870430111885, 0.006297902669757605, 0.03284410759806633, 0.0331779420375824, 0.05130768567323685, -0.03582293167710304, -0.0434754304587841, -0.026270151138305664, -0.012146414257586002, 0.001998187741264701, -0.048431579023599625, 0.02311156876385212, 0.008641159161925316, -0.011780480854213238, -0.006009008269757032, -0.013237793929874897, 0.028324512764811516, -0.006394200958311558, 0.0036978512071073055, -0.0600900799036026, -0.02860698662698269, 0.011581464670598507, 0.007479160558432341, -0.0807877779006958, -0.0414467491209507, 0.014508930034935474, -0.03715826943516731, -0.045940663665533066, -0.06080910935997963, -0.015715867280960083, 0.055570486932992935, -0.04537571594119072, 0.013597306795418262, 0.00973253883421421, 0.026039035990834236, -0.031226297840476036, -0.002969194669276476, -0.035078227519989014, -0.02704053558409214, -0.018669012933969498, 0.0032966085709631443, -0.0051647936925292015, -0.0009027956984937191, 0.002911415882408619, 0.01875889115035534, 0.014637327753007412, -0.02601335570216179, 0.0403938889503479, 0.024061711505055428, -0.00864757876843214, -0.014508930034935474, 0.004590214695781469, 0.05233486369252205, -0.025961996987462044, -0.048637013882398605, -0.031765569001436234, 0.015446232631802559, 0.0018890497740358114, 0.050408899784088135, -0.02860698662698269, 0.02891514077782631, -0.012974577955901623, -0.05675174295902252, -0.008358684368431568, 0.06820481270551682, -0.051127929240465164, -0.045324355363845825, 0.014894122257828712, -0.030918143689632416, -0.02465234138071537, -0.001354594831354916, 0.029351692646741867, -0.005434428807348013, -0.013892621733248234, 0.020235463976860046, 0.05634086951613426, -0.011549364775419235, -0.0383395254611969, 0.010111311450600624, 0.014984001405537128, 0.036824434995651245, 0.022931812331080437, 0.03286978602409363, -0.029685527086257935, 0.0009493398247286677, 0.026912139728665352, 0.05531369149684906, -0.04339839145541191, -0.026912139728665352, 0.03035319410264492, -0.027708204463124275, -0.008121148683130741, 0.03679875284433365, 0.03895583376288414, 0.04496484249830246, -0.0013882991624996066, 0.036824434995651245, -0.025666682049632072, -0.006044317502528429, -0.0038968673907220364, -0.021673517301678658, -0.035180944949388504, 0.0023256016429513693, -0.03253595530986786, -0.035899970680475235, -0.02507605217397213, 0.01884876936674118, 0.02082609198987484, -0.004368728492408991, 0.03220212087035179, 0.03251027315855026, -0.06923198699951172, 0.016332175582647324, 0.042217135429382324, -0.001568055828101933, -0.011793320067226887, -0.06173356994986534, 0.021840432658791542, 0.02101868949830532, -0.02465234138071537, 0.0031714208889752626, 0.024909136816859245, 0.015202277339994907, -0.021159926429390907, -0.006580377463251352, 0.011151332408189774, -0.03618244454264641, -0.016036860644817352, 0.0055531966499984264, 0.05603271722793579, 0.015048199333250523, -0.04203737899661064, -0.007954231463372707, 0.01434201281517744, -0.003505254629999399, -0.013828422874212265, 0.038390886038541794, 0.043038878589868546, 0.04265368729829788, 0.031354695558547974, -0.05829251557588577, 0.024472584947943687, 0.0056880139745771885, -0.012030855752527714, -0.020774733275175095, -0.005575666204094887, -0.009783897548913956, -0.004782810807228088, 0.016203777864575386, 0.011786900460720062, 0.008390783332288265, 0.04072772338986397, -0.026026194915175438, -0.0018104063346982002, -0.04704488441348076, -0.058600667864084244, -0.030815426260232925, 0.015523270703852177, 0.05408107116818428, -0.060038723051548004, -0.024292828515172005, -0.02909489907324314, -0.015317834913730621, 0.023779237642884254, -0.02050509862601757, 0.03076406754553318, -0.05767620727419853, -0.007331503555178642, 0.02145524136722088, 0.000448187900474295, 0.038699038326740265, -0.03497551009058952, -0.023175768554210663, -0.02019694447517395, -0.05634086951613426, 0.026282990351319313, 0.02009422518312931, 0.016550451517105103, -0.030096398666501045, 0.010092051699757576, -0.03045591339468956, 0.04172922298312187, 0.01906704530119896, 0.05551912635564804, 0.00910980999469757, -0.0005035593640059233, 0.05767620727419853, 0.013379030860960484, -0.0058581409975886345, -0.00460947398096323, 0.005171213764697313, -0.04845725744962692, 0.00895573291927576, -0.018784569576382637, -0.009257467463612556, 0.033922649919986725, 0.04167786240577698, 0.05053729936480522, 0.029069218784570694, -0.00907129142433405, 0.014059538021683693, 0.0786820575594902, -0.01050934474915266, 0.01222345232963562, -0.04743007570505142, -0.010406626388430595, 0.10297488421201706, -0.015125238336622715, 0.07092683762311935, 0.0007671756902709603, -0.026552625000476837, 0.01563882827758789, -0.005543566774576902, 0.00253745773807168, -0.030122078955173492, -0.016832927241921425, -0.02000434696674347, 0.005389489699155092, -0.024909136816859245, -0.009122650139033794, -0.013648665510118008, 0.010451565496623516, 0.051025208085775375, -0.0352323055267334, -0.03448759764432907, -0.009713279083371162, -0.0004002394271083176, -0.03970054164528847, -0.004924048203974962, -0.026026194915175438, 0.00021667096007149667, -0.003498834790661931, -0.0373123437166214, 0.005588505882769823, -0.008146828040480614, -0.039520785212516785, -0.011215531267225742, -0.0036336523480713367, -0.019760392606258392, -0.06091182678937912, 0.00448107672855258, 0.013224953785538673, -0.0035309342201799154, 0.007241625338792801, -0.038390886038541794, 0.0155361108481884, 0.00030133314430713654, 0.05243758484721184, -0.009783897548913956, 0.024215789511799812, -0.0047892308793962, 0.003262904239818454, 0.008044110611081123, 0.046377215534448624, 0.01928532123565674, -0.07421381771564484, -0.025345688685774803, 0.02549976482987404, -0.018091222271323204, 0.04288480058312416, 0.010669841431081295, -0.006593217141926289, 0.046967845410108566, 0.055467765778303146, -0.005376650020480156, -0.010586382821202278, -0.038801755756139755, -0.019413718953728676, 0.021095726639032364, 0.0076203979551792145, -0.061887647956609726, -0.021930310875177383, -0.036413561552762985, -0.04165218397974968, -0.02195599116384983, -0.017551952973008156, 0.0021281903609633446, 0.013173595070838928, 0.011793320067226887, 0.011902458034455776, -0.022199947386980057, -0.011857518926262856, 0.02578224055469036, -0.06959150731563568, 0.04902220889925957, 0.020800413563847542, -0.008044110611081123, -0.016948483884334564, 0.01916976273059845, -0.0036785914562642574, 0.023239966481924057, 0.027194613590836525, 0.025743721053004265, 0.024498263373970985, -0.030301835387945175, -0.032381877303123474, 0.003370437305420637, 0.002455604262650013, 0.03394832834601402, 0.025769399479031563, 0.011793320067226887, 0.027502767741680145, 0.0331779420375824, -0.016178099438548088, -0.018900128081440926, 0.053413406014442444, 0.015728706493973732, 0.025204449892044067, -0.014791404828429222, -0.007703856565058231, 0.01300025824457407, -0.04237120971083641, -0.010271809063851833, 0.004185762256383896, -0.023997513577342033, -0.02619311213493347, -0.043244313448667526, 0.011697022244334221, -0.00023171755310613662, 0.053413406014442444, 0.015728706493973732, 0.0014829924330115318, -0.028324512764811516, 0.010502924211323261, -0.004837379790842533, 0.018270980566740036, 0.0013120630756020546, -0.02164783701300621, 0.04804638400673866, 0.0016707738395780325, -0.03980325907468796, -0.0007631632615812123, -0.0048694792203605175, -0.019002845510840416, 0.07108091562986374, 0.01937519945204258, -0.008930053561925888, 0.005681594368070364, -0.024626661092042923, -0.07072140276432037, -0.023458242416381836, 0.027605485171079636, -0.01688428595662117, -0.05107656866312027, -0.044913481920957565, 0.006304322741925716, 0.05202671140432358, -0.009982913732528687, 0.023124409839510918, 0.0056783840991556644, -0.01014983095228672, -0.004121563397347927, 0.009096970781683922, 0.02270069718360901, 0.003970696125179529, -0.0025631373282521963, 0.005498627666383982, -0.02932601422071457, -0.036105409264564514, 0.00465762335807085, 0.01967051438987255, 0.03928966820240021, -0.03887879475951195, -0.03998301550745964, -0.01771887019276619, -0.01730799674987793, -0.008666838519275188, 0.020556457340717316, 0.014791404828429222, -0.0393923856317997, 0.002169919665902853, 0.026706703007221222, -0.06060367077589035, -0.0006764949066564441, -0.03158581256866455, 0.008300905115902424, -0.016422053799033165, -0.024844937026500702, -0.020055705681443214, -0.0013249028706923127, 0.0035662436857819557, -0.03335769847035408, 0.01258296612650156, -0.010483664460480213, -0.0014372507575899363, 0.055159613490104675, 0.008377944119274616, -0.015420553274452686, 0.007581878919154406, 0.018052704632282257, -0.030276156961917877, 0.021057207137346268, 0.006102096289396286, -0.013622986152768135, -0.0011788505362346768, -0.008358684368431568, -0.0023657260462641716, 0.010547863319516182, 0.003794149262830615, -0.034872788935899734, -0.03086678497493267, 0.029248975217342377, 0.00507491547614336, -0.044502612203359604, 0.018489256501197815, 0.02081325277686119, -0.039726220071315765, 0.01300025824457407, 0.045221637934446335, 0.009058451279997826, 0.0031858657021075487, 0.0181297417730093, -0.011889618821442127, -0.02185327373445034, -0.02258513867855072, 0.018001344054937363, 0.017269479110836983, 0.06101454421877861, 0.013468909077346325, 0.025435566902160645, -0.0010127361165359616, -0.06491783261299133, -0.03903287276625633, -0.04219145327806473, 0.014611647464334965, 0.007382862735539675, 0.04640289768576622, -0.05967921018600464, 0.026655344292521477, 0.0010271808132529259, 0.003723530564457178, -0.013173595070838928, 0.03302386403083801, 0.03546341881155968, -0.01476572547107935, -0.016845766454935074, 0.03292114660143852, -0.013224953785538673, 0.007305823732167482, 0.0027123994659632444, -0.0014460780657827854, -0.006612476892769337, -0.004163292236626148, 0.008416463620960712, 0.0037139009218662977, 0.026282990351319313, -0.00864757876843214, 0.00056294328533113, 0.012576545588672161, -0.018296658992767334, 0.015715867280960083, -0.007793734781444073, -0.016422053799033165, -0.005129484459757805, 0.03964918106794357, 0.005861350800842047, -0.0005328500992618501, -0.008204607293009758, -0.02973688580095768, 0.0018473205855116248, 0.03428216278553009, 0.0017092932248488069, 0.02331700548529625, -0.002028682269155979, -0.02329132705926895, 0.023971833288669586, -0.007260884623974562, -0.033819928765296936, -0.0010287858312949538, -0.014367692172527313, -0.00781299453228712, -0.02289329282939434, -0.01274988241493702, -0.02402319200336933, 0.013789903372526169, 0.00792213249951601, -0.010323167778551579, 0.035668857395648956, -0.0038262486923485994, 0.008724617771804333, 0.013687185011804104, -0.007254465017467737, -0.019811751320958138, -0.009443644434213638, -0.04134403169155121, 0.023162929341197014, 0.013353351503610611, -0.022752055898308754, -0.022867614403367043, 0.02704053558409214, 0.0039000774268060923, 0.04275640472769737, 0.014778564684092999, 0.03428216278553009, -0.0038262486923485994, 0.0005749805131927133, -0.033203620463609695, -0.0035983428824692965, 0.0033158683218061924, -0.012435308657586575, 0.027091896161437035, -0.034872788935899734, -0.005013926420360804, -0.038801755756139755, 0.004821330308914185, -0.030430233106017113, -0.005129484459757805, 0.026860779151320457, -0.013173595070838928, -0.005103805102407932, 0.012884699739515781, 0.00823028665035963, 0.0007258477271534503, 0.047892309725284576, 0.014303493313491344, -0.0001999190862989053, -0.0067344545386731625, -0.031020862981677055, -0.016627490520477295, -0.017783068120479584, 0.026706703007221222, -0.005854931194335222, -0.004535645712167025, 0.011587884277105331, 0.013687185011804104, 0.021699195727705956, -0.014752885326743126, -0.010374526493251324, 0.022328345105051994, 0.006850012578070164, 0.0036978512071073055, 0.000632759474683553, -0.0014637327985838056, 0.01025896891951561, 0.031354695558547974, -0.012910380028188229, 0.02799067832529545, -0.032073721289634705, 0.015433392487466335, -0.01728231832385063, 0.01938803866505623, 0.024395545944571495, -0.011530105024576187, 0.027528448030352592, 0.029377372935414314, -0.06650996208190918, 0.003213150193914771, -0.0056944340467453, 0.02799067832529545, 0.013751383870840073, -0.022020189091563225, 0.026552625000476837, 0.0012566916411742568, -0.006721614859998226, 0.024305667728185654, -0.0006122961058281362, -0.006631736643612385, 0.005874190479516983, -0.028093397617340088, 0.013186434283852577, -0.0024844936560839415, -0.02237970381975174, 0.010477244853973389, -0.006978409830480814, 0.013918301090598106, 0.016293656080961227, -0.04506755992770195, 0.028221795335412025, 0.005354180466383696, 0.020646335557103157, 0.03998301550745964, 0.029505770653486252, 0.019221121445298195, -0.029300333932042122, -0.013494588434696198, -0.03584861382842064, 0.017436394467949867, -0.0038358785677701235, 0.011273310519754887, 0.01471436582505703, 0.024678019806742668, 0.012396789155900478, -0.016935644671320915, 0.030609989538788795, 0.02829883247613907, 0.023792076855897903, 0.03168852999806404, 0.004095883574336767, -0.012043695896863937, 0.006927051115781069, -0.03430784121155739, -0.03615676611661911, 0.009334506466984749, 0.014419051818549633, -0.020325342193245888, 0.02246958203613758, 0.007594718597829342, -0.030892465263605118, 0.024382706731557846, -0.009957234375178814, -0.03749210014939308, -0.015304994769394398, 0.01264074444770813, 0.00959130097180605, 0.022546621039509773, -0.03541206195950508, 0.0035469839349389076, -0.007331503555178642, -0.023740718141198158, -0.011632823385298252, 0.005312451161444187, 0.008223867043852806, 0.007646077778190374, -0.002766968449577689, -0.06399336457252502, 0.05305389314889908, -0.01717960089445114, -0.02652694657444954, 0.001993372803553939, -0.025743721053004265, 0.002903390908613801, 0.03469303250312805, -0.011067873798310757, 0.02113424614071846, 0.01791146583855152, -0.007472740951925516, -0.014213615097105503, 0.0007832254050299525, -0.04052228480577469, 0.01113849226385355, -0.007691016886383295, -0.029659846797585487, 0.01907988451421261, 0.008795236237347126, 0.0009180429042316973, 0.001712503144517541, 0.037954334169626236, 0.026886459439992905, 0.01357162743806839, -0.0016948484117165208, 0.012679263949394226, 0.004115143325179815, -0.015202277339994907, 0.003217965131625533, -0.026244470849633217, 0.036824434995651245, 0.00639741076156497, 0.015433392487466335, -0.03387128934264183, 0.015420553274452686, -0.02289329282939434, 0.008666838519275188, 0.0034185864496976137, -0.047892309725284576, -0.03489847108721733, -0.04257664829492569, -0.011279730126261711, 0.002624126151204109, -0.010342427529394627, -0.004840590059757233, 0.020068546757102013, -0.0007443049107678235, -0.0036946411710232496, -0.0016643540002405643, -0.02881242334842682, 0.04321863502264023, 0.03667035698890686, -0.02632150985300541, -0.03774889558553696, -0.0155361108481884, 0.007100387942045927, 0.015561790205538273, 0.018309498205780983, -0.03875039890408516, 0.027502767741680145, -0.0012278021313250065, 0.012435308657586575, -0.02454962208867073, -0.007235205266624689, 0.020594976842403412, 0.007755215745419264, -0.03328065946698189, -0.004134403076022863, -0.0018954697297886014, -0.05747076869010925, -0.024511104449629784, 0.07524099946022034, 0.010002173483371735, 0.044708047062158585, 0.004012425430119038, 0.019529275596141815, 0.044605329632759094, -0.0014404606772586703, 0.06650996208190918, 0.029813924804329872, -0.008840175345540047, -0.00937944557517767, -0.024164430797100067, -0.022918973118066788, 0.027477087453007698, 0.04196033999323845, 0.01676872745156288, -0.00885301548987627, 0.01206937525421381, 0.0017269478412345052, 0.015086718834936619, 0.015009680762887001, -0.009090550243854523, -0.04301320016384125, 0.006156665273010731, 0.05004938691854477, 0.027091896161437035, 0.006695935502648354, 0.004647993482649326, -0.007337923161685467, 0.009289567358791828, 0.0037748897448182106, 0.012056535109877586, -0.018181100487709045, 0.013892621733248234, 0.019516436383128166, -0.02569236233830452, 0.007601138669997454, -0.026783742010593414, 0.023227127268910408, -0.001787936664186418, -0.031842608004808426, 0.021519439294934273, -0.012409629300236702, -0.013115815818309784, 0.01211431436240673, -0.042833443731069565, 0.022122908383607864, 0.004317369777709246, 0.003643282223492861, 0.059833284467458725, -0.053002532571554184, -0.029377372935414314, -0.028838103637099266, 0.011177011765539646, -0.031971003860235214, -0.00283598224632442, 0.01864333264529705, 0.014534609392285347, -0.034667354077100754, 0.006384571082890034, -0.06573957204818726, -0.009636241011321545, 0.014650166966021061, -0.018412217497825623, -0.0101048918440938, 0.01832233928143978, 0.0030317886266857386, -0.010053533129394054, -0.029685527086257935, -0.009860936552286148, -0.015664508566260338, 0.02422862872481346, 0.025127412751317024, -0.01321211364120245, -0.025974836200475693, -0.011491586454212666, -0.003280558856204152, -0.0018312708707526326, 0.0176033116877079, 0.002919440623372793, 0.008153248578310013, -0.008082629181444645, -0.025024693459272385, 0.004326999187469482, 0.020543618127703667, 0.0002896971127483994, -0.008775976486504078, -0.018823089078068733, 0.03587429225444794, 0.036721717566251755, -0.0009653895394876599, 0.0030430234037339687, 0.0176033116877079, -0.00995081476867199, -0.0003294201160315424, 0.007851514033973217, 0.019709033891558647, -0.029659846797585487, -0.03695283085107803, -0.021262643858790398, -0.0004237121029291302, -0.0017397876363247633, -0.008326584473252296, 0.027425728738307953, 0.029248975217342377, -0.039109911769628525, 0.0023496763315051794, -0.0017991714412346482, -0.06846160441637039, -0.0020623866003006697, -0.005883820354938507, -0.01875889115035534, 0.015998341143131256, 0.026860779151320457, 0.0289921797811985, 0.0331265814602375, -0.030841106548905373, 0.01575438678264618, -0.017436394467949867, 0.0007479160558432341, 0.03045591339468956, 0.020672015845775604, 0.025949155911803246, 0.0035245143808424473, -0.02196883037686348, 0.04080475866794586, 0.018514934927225113, -0.03977758064866066, 0.05988464504480362, 0.011934557929635048, -0.020171264186501503, -0.01667884923517704, 0.0310722216963768, -0.025448406115174294, 0.015869945287704468, -0.03690147399902344, -0.0191569235175848, -0.03908423334360123, -0.010169090703129768, -0.0006407843320630491, 0.010515764355659485, 0.002686719875782728, -0.02673238143324852, 0.023471083492040634, 0.019323840737342834, 0.041703544557094574, -0.026154592633247375, -0.010746879503130913, 0.019529275596141815, -0.06871840357780457, 0.046762410551309586, 0.005704063922166824, 0.009392284788191319, 0.009238207712769508, -0.02662966400384903, 0.03130333870649338, 0.02145524136722088, 0.03780025616288185, -0.041292671114206314, -0.020877450704574585, 0.05500553548336029, -0.015728706493973732, 0.005171213764697313, 0.016717368736863136, 0.02299601212143898, 0.028350191190838814, 0.036310844123363495, -0.01628081686794758, 0.020376700907945633, 0.011896038427948952, 0.05788164213299751, 0.041806261986494064, -0.016627490520477295, -0.01959347538650036, -0.006179134827107191, -0.03161149099469185, -0.017667511478066444, -0.02412591129541397, -0.028632666915655136, -0.007151746656745672, -0.015459071844816208, -0.007389282342046499, -0.020389540120959282, -0.0404195673763752, 0.020787572488188744, 0.013173595070838928, 0.020761894062161446, -0.0072095259092748165, 0.025718040764331818, 0.05480010062456131, 0.03220212087035179, -0.00014163860760163516, -0.03348609805107117, -0.030687028542160988, 0.0070297690108418465, 0.01211431436240673, 0.04206305742263794, 0.0310979001224041, -0.033742889761924744, -0.016948483884334564, -0.0009998963214457035, -0.0517699159681797, 0.015805745497345924, -0.05397835373878479, -0.007838673889636993, 0.006041107699275017, -0.022045869380235672, 0.018720371648669243, 0.0039931656792759895, 0.021712034940719604, -0.003909707069396973, -0.037466421723365784, -0.059730567038059235, -0.0032516694627702236, 0.020543618127703667, 0.0032548794988542795, 0.030276156961917877, 0.035155266523361206, -0.010079212486743927, 0.018052704632282257, -0.008949313312768936, 0.0011315039591863751, 0.003060678020119667, -0.016948483884334564, -0.06276074796915054, -0.01959347538650036, 0.007100387942045927, 0.01925964094698429, -0.021622156724333763, 0.01811690255999565, 0.040265489369630814, 0.03356313332915306, -0.00858980044722557, -0.0022902924101799726, -0.015780065208673477, -0.00012207803956698626, -0.013841262087225914, 0.002153869951143861, 0.013700025156140327, -0.018463576212525368, -0.006233703810721636, 0.048637013882398605, -0.011048614047467709, 0.008275225758552551, 0.021506600081920624, -0.05957648903131485, -0.005951229017227888, -0.038185447454452515, -0.003280558856204152, -0.000410471111536026, 0.0037492101546376944, 0.059525132179260254, -0.02008138597011566, 0.03469303250312805, 0.007684596814215183, -0.02775956317782402, -0.003293398767709732, -0.0032661142759025097, -0.013314832001924515, 0.004792440682649612, -0.048534296452999115, -0.009308826178312302, 0.004567745141685009, 0.013289152644574642, 0.025730879977345467, -0.06245259568095207, 0.013789903372526169, 0.01565166935324669, -0.00463515380397439, 0.020248303189873695, 0.026180272921919823, -0.005890240427106619, -0.0321507602930069, -0.004368728492408991, 0.00968759972602129, -0.007235205266624689, 0.011928138323128223, -0.04298751801252365, 0.023239966481924057, 0.04488780349493027, 0.0004124773258809, 0.0289921797811985, 0.007703856565058231, 0.014894122257828712, 0.03125197812914848, -0.022752055898308754, -0.00437193876132369, -0.007870773784816265, -0.005476158112287521, -0.014431891031563282, 0.028452910482883453, -0.02506321296095848, -0.029582809656858444, -0.025936316698789597, -0.014984001405537128, -0.006805073469877243, 0.021403880789875984, -0.04083044081926346, 0.012647164054214954, -0.008583379909396172, -0.01914408430457115, 0.02132684364914894, 0.002007817616686225, 0.021314002573490143, 0.001938803936354816, -0.01387978158891201, 0.008795236237347126, -0.029146257787942886, -0.005309241358190775, -0.007395702414214611, 0.00849350169301033, 0.02942873165011406, -0.015317834913730621, 0.02868402563035488, 0.0227777361869812, 0.055775921791791916, 0.028119076043367386, -0.0155361108481884, -0.0007599533419124782, 0.017757389694452286, 0.009084130637347698, 2.725941340031568e-05, -9.47935477597639e-05, -0.015433392487466335, 0.028401551768183708, 0.02609039470553398, 0.012730622664093971, -0.011857518926262856, 0.009963654913008213, 0.024305667728185654, -0.039109911769628525, -0.02609039470553398, -0.00849350169301033, -0.012383949011564255, 0.0025856068823486567, 0.007363602984696627, -0.004773180931806564, -0.004384778439998627, -0.026681022718548775, 0.0310979001224041, 0.018720371648669243, -0.03086678497493267, -0.006567537784576416, -0.032458916306495667, -0.005874190479516983, -0.015998341143131256, 0.016088221222162247, -0.03638788312673569, 0.017462074756622314, 0.025217290967702866, -0.009308826178312302, 0.018155422061681747, -0.02186611294746399, 0.021570798009634018, -0.006978409830480814, 0.0002489709877409041, -0.01403385866433382, -0.0012037275591865182, -0.0186304934322834, -0.004542065318673849, -0.010836758650839329, 0.10076644271612167, 0.016614651307463646, -0.006130985915660858, 0.006545068230479956, 0.03086678497493267, -0.02569236233830452, -0.02402319200336933, -0.0165889710187912, 0.002476468915119767, -0.018078383058309555, 0.007183846086263657, 0.043680865317583084, -0.04093315824866295, 0.003415376413613558, 0.015035360120236874, -0.016113899648189545, 0.007408542092889547, 0.0039000774268060923, -0.03055863082408905, -0.015972662717103958, -0.050614338368177414, -0.004294900223612785, -0.019041365012526512, 0.014264974743127823, -0.022970331832766533, -0.011074293404817581, 0.02528148889541626, 0.00494330795481801, 0.030378874391317368, 0.012505927123129368, 0.01773170940577984, -0.012724203057587147, 0.016242297366261482, 0.03171420842409134, 0.003518094541504979, 0.024421224370598793, 0.024485424160957336, -0.029916642233729362, 0.013828422874212265, -0.019310999661684036, 0.025255810469388962, 0.0002016243670368567, 0.008435722440481186, 0.008827335201203823, -0.03163716942071915, 0.006586797535419464, -0.0034699453972280025, -0.028093397617340088, -0.007164586801081896, 0.02142956107854843, 0.03086678497493267, -0.010361687280237675, 0.03076406754553318, 0.018771730363368988, -0.016011182218790054, -0.01678156666457653, -0.004262800794094801, -0.0030237636528909206, 0.01905420608818531, 0.05731669440865517, -0.01269210409373045, -0.003495624987408519, 0.015985501930117607, -0.0028648716397583485, 0.03410240635275841, 0.010541443713009357, -0.04321863502264023, -0.015574630349874496, 0.021211285144090652, 0.011170592159032822, -0.004031684715300798, 0.00838436372578144, -0.0033383378759026527, 0.0011523684952408075, -0.006275433115661144, 0.00864757876843214, -0.004535645712167025, 0.009700438939034939, -0.027117574587464333, 0.003649702062830329, 0.0025823968462646008, 0.02569236233830452, 0.0004550090234261006, 0.027091896161437035, 0.014444731175899506, 0.021159926429390907, -0.002758943708613515, -0.01118985190987587, -0.013404710218310356, 0.004837379790842533, 0.00655148783698678, -0.015292155556380749, -0.004513176158070564, 0.034770071506500244, -0.027374370023608208, 0.01834801770746708, -0.023021690547466278, -0.009141909889876842, 0.05654630810022354, 0.0069719902239739895, -0.014906962402164936, -0.002627336187288165, -0.029813924804329872, 0.01352026779204607, -0.010438725352287292, 0.00036914311931468546, -0.010278228670358658, 0.004404038190841675, 0.0002592026721686125, -0.005004297010600567, 0.0002718418254517019, 0.006214444059878588, 0.0011676157591864467, 0.002511778147891164, -0.0036047629546374083, 0.019195443019270897, -0.052899815142154694, -0.008872274309396744, -0.06712626665830612, -0.006204814650118351, 0.0076203979551792145, 0.025011854246258736, -0.01936236023902893, 0.026758061721920967, 0.03325498104095459, -0.0331265814602375, -0.024999015033245087, 0.028940821066498756, 0.022033030167222023, -0.0028600567020475864, 0.0068114930763840675, -0.0295314509421587, 0.05056297779083252, -0.003803779138252139, 0.01927248202264309, 0.023689359426498413, -0.006850012578070164, 0.0036946411710232496, 0.018296658992767334, -0.002840797184035182, -0.01507387962192297, 0.03998301550745964, -0.0003019350115209818, 0.049689874053001404, 0.029480090364813805, 0.013468909077346325, -0.03307522460818291, -0.02662966400384903, -0.0008129173656925559, 0.0006588402320630848, 0.008775976486504078, 0.047815270721912384, -0.05141040310263634, -0.006772974040359259, 0.001049650483764708, 0.005347760394215584, 0.052155107259750366, -0.04360382631421089, 0.000355300260707736, -0.014829923398792744, 0.01698700338602066, 0.0028006727807223797, -0.023483922705054283, -0.023650839924812317, -0.02205870859324932, -0.024421224370598793, -0.018681852146983147, -0.014508930034935474, -0.005549986846745014, 0.015510431490838528, -0.0006785010918974876, -0.004047734662890434, 0.033511776477098465, -0.0031617910135537386, -0.018617652356624603, 0.005842091049998999, 0.012704943306744099, 0.010888117365539074, -0.0027926480397582054, 0.023702198639512062, 0.02300885133445263, -0.037569139152765274, -0.0078001548536121845, -0.0014340408379212022, -0.014483250677585602, 0.040445245802402496, 0.0016739838756620884, 0.004095883574336767, 0.018810249865055084, -0.02361232042312622, -0.0016033651772886515, 0.008127568289637566, 0.010201189666986465, 0.011465906165540218, -0.03810841217637062, 0.002222883515059948, -0.011870359070599079, -0.0035501939710229635, 0.009283146820962429, 0.011074293404817581, 0.01676872745156288, -0.04216577485203743, -0.006920631043612957, -0.03654196113348007, 0.012980998493731022, -0.03928966820240021, 0.053207967430353165, -0.02799067832529545, -0.01925964094698429, -0.03505254536867142, 0.022302664816379547, -0.004805280361324549, 0.018078383058309555, 0.04016277194023132, -0.011729121208190918, -0.0019660883117467165, 0.03605404868721962, -0.009764637798070908, 0.006272223312407732, 0.0001534752664156258, 0.028119076043367386, 0.010111311450600624, 0.011433807201683521, 0.018591973930597305, 0.024934815242886543, 0.02288045361638069, 0.01791146583855152, -0.015459071844816208, -0.011144912801682949, 0.009905875660479069, 0.0051070149056613445, 0.006984829902648926, 0.0034859951119869947, -0.030532950535416603, 0.008089049719274044, -0.012204192578792572, -0.019092723727226257, 0.020594976842403412, 0.015728706493973732, 0.005447268486022949, -0.027939319610595703, 0.016088221222162247, -0.016717368736863136, -0.0034795752726495266, -0.0036111827939748764, 0.05189831182360649, 0.018104063346982002, -0.06753714382648468, 0.029993681237101555, 0.009706859476864338, 0.040856119245290756, 0.039726220071315765, 0.003726740600541234, 0.016319336369633675, -0.03448759764432907, 0.01741071604192257, -0.01824530027806759, -0.00017243398178834468, -0.0021089306101202965, -0.0023320214822888374, 0.026077553629875183, 0.004795650485903025, -0.0020511518232524395, -0.017359357327222824, 0.024716539308428764, 0.005716903600841761, -0.038699038326740265, -0.0008265596115961671, -0.009385865181684494, -0.017038362100720406, -0.013712864369153976, -0.004272430203855038, 0.013006677851080894, -0.030995182693004608, -0.013391871005296707, 0.0018922598101198673, 0.00554035697132349, 0.01925964094698429, 0.019837429746985435, 0.0067344545386731625, -0.02829883247613907, 0.007870773784816265, 0.02321428805589676, 0.049561478197574615, -0.006044317502528429, -0.020633496344089508, -0.0383138470351696, 0.03803137317299843, 0.014162256382405758, 0.01109355315566063, 0.019400877878069878, 0.014316333457827568, 0.031431734561920166, -0.0007503235246986151, -0.003136111656203866, -0.01538203377276659, 0.002604866400361061, -0.04113859310746193, -0.018977167084813118, -0.022610818967223167, 0.0027123994659632444, -0.019349519163370132, -0.009231788106262684, 0.01129898987710476, 0.0024379496462643147, 0.0062786429189145565, 0.04404037818312645, -0.0021795493084937334, -0.008095469325780869, 0.0031393214594572783, 0.0233298446983099, 0.018476415425539017, -0.00864757876843214, 0.005582086276262999, 0.019208282232284546, 0.01667884923517704, 0.04134403169155121, 0.038493603467941284, -0.0003613189037423581, -0.0040605743415653706, -0.007761635351926088, -0.025769399479031563, -0.00045059536932967603, -0.0165889710187912, -0.041472427546978, -0.022713536396622658, -0.030378874391317368, 0.0006524203345179558, -0.012756302021443844, -0.04206305742263794, -0.016961324959993362, -0.01352026779204607, 0.0038294587284326553, 0.0019018895691260695, -0.032458916306495667, 0.0013192854821681976, -0.0002646194479893893, 0.018938647583127022, 0.010753300040960312, 0.009912295266985893, -0.02456246316432953, -0.023034531623125076, 0.006721614859998226, 0.028735384345054626, 0.00032420395291410387, 0.0056398650631308556, 0.008050530217587948, 0.03710690885782242, -0.027297331020236015, -0.006214444059878588, -0.049150604754686356, -0.008583379909396172, -0.02259797975420952, -0.0013650270411744714, 0.004352679010480642, -0.02155795879662037, -0.014585968106985092, -0.016807246953248978, -0.009854516945779324, 0.0009413149673491716, -0.0036785914562642574, 0.006371731404215097, -0.0016290446510538459, -0.03695283085107803, 0.001121071632951498, 0.002978824544698, -0.044091738760471344, 0.014650166966021061, -0.020684855058789253, 0.00525467237457633, 0.004410457797348499, 0.028401551768183708, -0.004307739902287722, 0.016961324959993362, 0.0310979001224041, -0.0160625409334898, 0.006025057751685381, -0.0010199585231021047, 0.014098057523369789, -0.019195443019270897, -0.015304994769394398, 0.021724876016378403, 0.011581464670598507, 0.007954231463372707, 0.0008297695312649012, 0.015677347779273987, -0.011087133549153805, 0.014393371529877186, -0.0023978252429515123], index=0, object='embedding')]\n"
          ]
        }
      ]
    },
    {
      "cell_type": "code",
      "source": [
        "len(response.data[0].embedding)"
      ],
      "metadata": {
        "colab": {
          "base_uri": "https://localhost:8080/"
        },
        "id": "cGt_-VP9JjpL",
        "outputId": "15a8d954-8b55-40c4-d609-479abd8b6e41"
      },
      "execution_count": 40,
      "outputs": [
        {
          "output_type": "execute_result",
          "data": {
            "text/plain": [
              "1536"
            ]
          },
          "metadata": {},
          "execution_count": 40
        }
      ]
    },
    {
      "cell_type": "code",
      "source": [
        "embedding_model = OpenAIEmbeddings(proxy_model_name='text-embedding-3-small')"
      ],
      "metadata": {
        "id": "BdhY3sGPLbxd"
      },
      "execution_count": 42,
      "outputs": []
    },
    {
      "cell_type": "code",
      "source": [
        "sentence1 = \"The Global Travel Policy is based on SAP’s values, strategies, and principles\"\n",
        "sentence2 = \"Business trips are journeys to locations other than your regular place of work and home that fulfill a business purpose\"\n",
        "sentence3 = \"SAP's Cloud Strategy is sound and customer adoption shows they value our company's offerings\""
      ],
      "metadata": {
        "id": "KGtXNG9-LmAE"
      },
      "execution_count": 74,
      "outputs": []
    },
    {
      "cell_type": "code",
      "source": [
        "from gen_ai_hub.proxy.langchain.openai import ChatOpenAI\n",
        "from gen_ai_hub.proxy.core.proxy_clients import get_proxy_client\n",
        "\n",
        "proxy_client = get_proxy_client('gen-ai-hub')\n",
        "chat_llm = ChatOpenAI(proxy_model_name='gpt-4', proxy_client=proxy_client, temperature=0.0)"
      ],
      "metadata": {
        "id": "m5hHRv6xMFu-"
      },
      "execution_count": 75,
      "outputs": []
    },
    {
      "cell_type": "code",
      "source": [
        "embedding1=embedding_model.embed_query(sentence1)\n",
        "embedding2=embedding_model.embed_query(sentence2)\n",
        "embedding3=embedding_model.embed_query(sentence3)\n",
        "print(embedding1)\n",
        "print(embedding2)\n",
        "print(embedding3)\n",
        "print(len(embedding1))\n",
        "print(len(embedding2))\n",
        "print(len(embedding3))"
      ],
      "metadata": {
        "colab": {
          "base_uri": "https://localhost:8080/"
        },
        "id": "FzOCHDHRMf9T",
        "outputId": "89399944-31d5-4f7b-941a-056c258fa1f1"
      },
      "execution_count": 76,
      "outputs": [
        {
          "output_type": "stream",
          "name": "stdout",
          "text": [
            "[-0.016352646052837372, 0.007334559690207243, 0.06922657042741776, 0.034074559807777405, 0.00033197019365616143, -0.03465817868709564, -0.03234613686800003, 0.021739928051829338, 0.01624041050672531, 0.01904628612101078, 0.010600599460303783, -0.0038356324657797813, -0.06567994505167007, -0.03775586560368538, -0.024377450346946716, -0.022918395698070526, -0.032391034066677094, -0.023232653737068176, 0.011784679256379604, -0.02388361655175686, 0.027677161619067192, 0.045769449323415756, -0.069675512611866, 0.0665329322218895, -0.03194209188222885, -0.013109052553772926, 0.005628587212413549, 0.0360274463891983, -0.05854179710149765, -0.04556742683053017, 0.037082456052303314, -0.0065208557061851025, 0.03921492397785187, -0.01704850234091282, 0.020280871540308, 0.023344887420535088, -0.01268255989998579, 0.06455759704113007, 0.023120418190956116, 0.001118843094445765, -0.020033953711390495, 0.020258424803614616, 0.024871284142136574, 0.010247059166431427, -0.022884724661707878, 0.029719838872551918, -0.017856594175100327, -0.007076419424265623, 0.011055151000618935, -0.011526538990437984, -0.017665795981884003, -0.005106694530695677, 0.03308688849210739, -0.02662215195596218, -0.027811842039227486, -0.0032772631384432316, 0.019147297367453575, -0.003956285305321217, -0.04713871702551842, 0.035825423896312714, 0.007654429879039526, 0.0008607024792581797, 0.006414232309907675, 0.033446040004491806, 0.02963005006313324, 0.019057510420680046, -0.016195517033338547, -0.0034764802549034357, -0.013266181573271751, -0.02431011013686657, 0.014422202482819557, 0.04933852329850197, 0.018058618530631065, -0.019001392647624016, -0.001489920192398131, -0.02754247933626175, -0.0284852534532547, 0.03322157263755798, 0.009910354390740395, -0.042514633387327194, -0.020011506974697113, 0.023008182644844055, 0.0272282212972641, 0.017059726640582085, -0.05176280066370964, -0.02763226628303528, -0.022615360096096992, -0.035825423896312714, 0.011795902624726295, 0.05391771346330643, 0.019237086176872253, 0.027407797053456306, 0.03768852725625038, 0.029495367780327797, 0.007631982676684856, -0.05073023959994316, 0.02826078236103058, -0.0075758653692901134, -0.02187460847198963, -0.012873359024524689, -0.012806017883121967, -0.03189719840884209, -0.0004857672902289778, 0.021941950544714928, 0.08471500873565674, 0.00809214636683464, -0.01952889747917652, 0.03068505972623825, 0.01572412997484207, -0.0015011436771601439, -0.10738648474216461, -0.013389640487730503, 0.011717338114976883, 0.04172898828983307, -0.000980653683654964, -0.016857702285051346, -0.06509632617235184, 0.012592771090567112, 0.03077484853565693, 0.009955247864127159, -0.004753153771162033, 0.0058025517500936985, 0.012413195334374905, -0.07582598924636841, -0.026958856731653214, -0.02039310708642006, -0.04071887210011482, -0.0052049001678824425, -0.016116952523589134, -0.0481712780892849, -0.017284195870161057, -0.0030696282628923655, -0.009955247864127159, -0.03775586560368538, 0.021751150488853455, 0.02954026311635971, -0.005488293245434761, 0.003989955876022577, -0.004545519128441811, -0.02227865532040596, -0.056701142340898514, 0.04664488136768341, 0.02422032132744789, 0.016229186207056046, -0.06128033250570297, -0.053378984332084656, -0.028619935736060143, 0.05584815517067909, -0.015409871004521847, 0.059215206652879715, -0.041684094816446304, 0.0005510039045475423, 0.01655466854572296, 0.03764363378286362, 0.023659147322177887, -0.027475137263536453, 0.0005124231101945043, 0.02065124735236168, 0.0012626441894099116, 0.012705006636679173, -0.041482072323560715, 0.019809484481811523, -0.014051826670765877, 0.037306927144527435, 0.038765981793403625, -0.02920355647802353, -0.016262857243418694, 0.0013377013383433223, -0.07474853843450546, -0.0638841837644577, -0.05351366847753525, -0.05750923603773117, -0.033760301768779755, 0.02268270216882229, -0.027677161619067192, -0.033446040004491806, 0.0038973616901785135, 0.0367233045399189, -0.004079743754118681, 0.04235750436782837, -0.027789395302534103, -0.005502322688698769, -0.06541058421134949, -0.04083110764622688, -0.02680172771215439, 0.008574756793677807, -0.03921492397785187, -0.023861169815063477, 0.014051826670765877, 0.024646814912557602, 0.02931579202413559, 0.006083139218389988, 0.05917031317949295, -0.01555577665567398, -0.006352503318339586, -0.006436679512262344, -0.02545490674674511, -0.029248451814055443, -0.01638631522655487, 0.03391743078827858, 0.0039282264187932014, -0.035421378910541534, 0.03391743078827858, 0.0036139683797955513, -0.07057338953018188, -0.026667045429348946, 0.023861169815063477, -0.014321191236376762, -0.029809625819325447, -0.01699238456785679, 0.027901630848646164, 0.008159487508237362, -0.03503977879881859, 0.008973191492259502, 0.009163990616798401, -0.005129141267389059, -0.0023849946446716785, 0.005392893683165312, 0.05746433883905411, 0.05144854262471199, -0.020785929635167122, -0.020000284537672997, 0.01351309847086668, -0.018810592591762543, -0.04749786853790283, 0.013434533961117268, -0.014074274338781834, -0.06810422241687775, -0.03405211120843887, -0.08893504738807678, 0.04233505576848984, 0.006711655296385288, -0.00026690895901992917, -0.04781212657690048, 0.03131357580423355, -0.059753935784101486, -0.0036448328755795956, 0.006475961767137051, 0.013726345263421535, -0.011167386546730995, -0.024871284142136574, 0.04978746548295021, 0.030640166252851486, -0.03014633245766163, 0.018327981233596802, 0.005544411018490791, 0.0072784423828125, -0.0029433639720082283, -0.013726345263421535, 0.026375234127044678, -0.00018974737031385303, 0.04592657834291458, 0.044108372181653976, -0.010982198640704155, -0.024063192307949066, 0.010516422800719738, 0.006986631080508232, 0.006027021445333958, -0.01200914941728115, -0.048261068761348724, -0.0022503125946968794, 0.028754618018865585, 0.013210063800215721, -0.05589304864406586, -0.04736318811774254, -0.010303176939487457, 0.007469241973012686, -0.0215042345225811, 0.052436210215091705, -0.003355827648192644, -0.02774450182914734, -0.0240182988345623, -0.00547706987708807, -0.009012473747134209, -0.02327754721045494, -0.03149315342307091, -0.004006790928542614, -0.013389640487730503, -0.009685884229838848, 0.005437787622213364, -0.022929618135094643, -0.024242768064141273, -0.010219000279903412, -0.04132494330406189, 0.035017333924770355, 0.01701483130455017, 0.003684115130454302, 0.06563504785299301, -0.017026055604219437, 0.019371768459677696, -0.020471671596169472, 0.02076348289847374, -0.019798260182142258, -0.02379382774233818, -0.005030935630202293, -0.0031425810884684324, -0.004758765455335379, -0.0003175900783389807, -0.0193044263869524, -0.04040461406111717, 0.027003750205039978, 0.006279550492763519, -0.010376129299402237, 0.023322440683841705, 0.0003787932510022074, -0.0005541605059988797, 0.016835255548357964, -0.054950274527072906, -0.007755441125482321, 0.035398930311203, -0.025522248819470406, 0.005653840024024248, 0.06559015810489655, -0.04298602044582367, -0.018058618530631065, -0.023726487532258034, 0.033850088715553284, 0.043255385011434555, -0.028238335624337196, -0.018092287704348564, 0.002073542447760701, -0.019697248935699463, 0.0341418981552124, 0.016599562019109726, 0.019023839384317398, -0.0050589945167303085, -0.029989203438162804, -0.009309896267950535, 0.021436892449855804, -0.0158139169216156, 0.02033698931336403, -0.018855486065149307, 0.0004527982382569462, -0.051403649151325226, -0.03692532703280449, 0.006548914592713118, 0.04287378489971161, -0.015308859758079052, -0.008153875358402729, -0.0011896913638338447, -0.016745468601584435, -0.05010172352194786, 0.01517417747527361, -0.011537762358784676, -0.051942378282547, 0.011302068829536438, -0.02734045498073101, -0.017463771626353264, 0.0777115449309349, 0.007890122942626476, -0.0022194478660821915, -0.04686935245990753, 0.0033249631524086, 0.07667897641658783, -0.040651530027389526, -0.04255952686071396, 0.023187758401036263, 0.011661220341920853, -0.004539907444268465, 0.0005948456819169223, -0.025207990780472755, -0.0627618357539177, 0.012480536475777626, -0.00503374170511961, -0.002370965201407671, 0.0029293345287442207, -0.027924077585339546, 0.025836506858468056, -0.00840640440583229, -0.006436679512262344, -0.017800476402044296, -0.036476388573646545, -0.03254816308617592, 0.012424418702721596, -0.014837472699582577, -0.0322563499212265, 0.004744736477732658, 0.06383929401636124, 0.008103369735181332, -0.03472552075982094, 0.016543444246053696, 0.03068505972623825, 0.005864280741661787, -0.008120205253362656, -0.006975407712161541, 0.04080865904688835, 0.010314400307834148, -0.019461555406451225, 0.02422032132744789, 0.004018014296889305, -0.04651020094752312, 0.037710972130298615, -0.031470704823732376, 0.010263894684612751, -0.010623046196997166, 0.02630789391696453, 0.03706001117825508, 0.013782463036477566, 0.04875490069389343, -0.03977609798312187, -0.010286341421306133, 0.004680200945585966, 0.01529763638973236, -0.0303708016872406, -0.07991135120391846, -0.012020372785627842, -0.08170711249113083, 0.04067397862672806, -0.028013866394758224, -0.029989203438162804, 0.014725237153470516, 0.0004570070595946163, 0.0455898717045784, 0.01195303164422512, 0.011055151000618935, -0.0036420270334929228, -0.00777788832783699, 0.03973120450973511, -0.003939449787139893, 0.021863386034965515, 0.05135875567793846, 0.03120134025812149, -0.006526467390358448, -0.0026445381809026003, 0.01784537173807621, 0.0020819599740207195, -0.00438277842476964, -0.004438895732164383, 0.002030051313340664, -0.041571859270334244, -0.0240182988345623, 0.026442576199769974, 0.05167301371693611, -0.04624083638191223, -0.02794652432203293, 0.017744360491633415, 0.011156163178384304, -0.050550661981105804, 0.035735636949539185, 0.0278567373752594, 0.049922145903110504, -0.018238194286823273, -0.010634269565343857, 0.028552593663334846, -0.024265214800834656, -0.011616326868534088, 0.008243663236498833, 0.058182645589113235, -0.02837301790714264, -0.007143760100007057, -0.004831718280911446, 0.03611723706126213, -0.014253850094974041, -0.01821574755012989, -0.07416491210460663, 0.020292095839977264, 0.001846266444772482, 0.012379525229334831, 0.0303708016872406, -0.0026178823318332434, 0.02431011013686657, 0.02608342282474041, 0.0025266914162784815, 0.050775133073329926, 0.058811161667108536, -0.03681309148669243, -0.003061210736632347, 0.0045258780010044575, -0.007693712133914232, 0.03140336275100708, 0.009899130091071129, 0.014725237153470516, -0.018170852214097977, 0.03481530770659447, 0.03331135958433151, 0.008776780217885971, -0.03367051109671593, -0.03519690781831741, -0.011807125993072987, -0.03589276596903801, 0.05427686497569084, 0.04572455585002899, -0.024893732741475105, -0.004088161513209343, 0.00391700305044651, -0.011060763150453568, 0.010364905931055546, 0.012132607400417328, 0.006240268237888813, -0.014343637973070145, 0.03252571448683739, -0.00809214636683464, 0.00423406669870019, -0.008905850350856781, -0.028193442150950432, -0.004649336449801922, -0.02482639066874981, -0.025634482502937317, -0.0436369851231575, -0.01045469380915165, 0.0045904130674898624, 0.019315650686621666, -0.025814058259129524, 0.026779280975461006, 0.016408761963248253, 0.028193442150950432, -0.010572540573775768, -0.029360685497522354, 0.03131357580423355, -0.02920355647802353, -0.051179178059101105, -0.010089930146932602, -0.03737426921725273, 0.002528094220906496, -0.021695032715797424, -0.003597133094444871, 0.017665795981884003, 0.02098795212805271, -0.00970833096653223, -0.023008182644844055, 2.805875919875689e-05, -0.03297465294599533, 0.0021507039200514555, 0.01121228002011776, 0.04170653969049454, -0.00464091869071126, 0.0001216171876876615, -0.06554526090621948, -0.013412087224423885, -0.05261578783392906, 0.01795760728418827, -0.02713843248784542, -0.03369295969605446, -0.029585156589746475, -0.020482894033193588, -0.003148192772641778, 0.03634170442819595, 0.016543444246053696, 0.0005734509322792292, 0.008647710084915161, 0.03243592754006386, 0.00032109743915498257, -0.00939407292753458, -0.013120275922119617, 0.012839688919484615, -0.017609678208827972, 0.006762160919606686, -0.009988918900489807, 0.02691396325826645, 0.026734385639429092, 0.020381882786750793, 0.005238570272922516, -0.0022938037291169167, 0.015522105619311333, -0.01136940997093916, -0.01773313619196415, -0.02650991640985012, 0.021807268261909485, -0.0013608498265966773, 0.040853556245565414, -0.03393987566232681, -0.009276226162910461, -0.009242555126547813, -0.011930584907531738, -0.0013229704927653074, 0.03486020490527153, -0.025410013273358345, 0.017744360491633415, 0.010611822828650475, 0.007390677463263273, -0.025746718049049377, 0.010224612429738045, -0.035533614456653595, 0.0360274463891983, 0.03497243672609329, 0.03652128204703331, -0.01936054416000843, -0.06460248678922653, 0.026330340653657913, 0.021066516637802124, 0.018036171793937683, -0.002439709147438407, 0.010045035742223263, -0.0007183042471297085, -0.04107802361249924, 0.002574391197413206, 0.0164424329996109, 0.006818278692662716, 0.00978128332644701, 0.01548843551427126, 0.04664488136768341, 0.00957926083356142, 0.04092089459300041, -0.03088708221912384, -0.008372734300792217, 0.029248451814055443, -0.033446040004491806, 0.044691991060972214, -0.03005654364824295, 0.020426778122782707, -0.014119167812168598, -0.051942378282547, -0.014635449275374413, 0.0015376200899481773, 0.002585614798590541, -0.02093183435499668, -0.010965363122522831, 0.021526681259274483, 0.000892268551979214, -0.017654571682214737, 0.023210207000374794, 0.0016961520304903388, -0.02176237478852272, 0.01163877360522747, 0.016027163714170456, -0.019831931218504906, -0.029091322794556618, 0.004991653375327587, 0.039820991456508636, 0.0025252883788198233, -0.01587003469467163, -0.009545589797198772, 0.03200943395495415, -0.010073094628751278, -0.008973191492259502, 0.03858640789985657, 0.01595982350409031, -0.02316531166434288, -0.0034119451884180307, 0.015892481431365013, 0.04330027848482132, 0.010875575244426727, -0.011346962302923203, -0.017688242718577385, -0.0025617647916078568, 0.014410979114472866, -0.020348213613033295, -0.018327981233596802, -0.011189833283424377, -0.015769023448228836, 0.010342459194362164, 0.028103653341531754, 0.031066659837961197, -0.04444507509469986, 0.0500568263232708, 0.01730664260685444, -0.028103653341531754, -0.001125857699662447, 0.028148548677563667, -0.0051796468906104565, 0.04139228165149689, -0.00809214636683464, 0.00276659382507205, -0.0006618360057473183, -0.007328948006033897, 0.010190941393375397, -0.023973405361175537, 0.0006179941701702774, 0.051268965005874634, 0.011863243766129017, -0.03968631103634834, 0.00696418434381485, -0.019596237689256668, 0.003389498218894005, 0.00709325447678566, 0.0042228433303534985, 0.01221117191016674, 0.039708755910396576, -0.00820999313145876, -0.029876967892050743, -0.07353639602661133, 0.03961896896362305, 0.022806160151958466, -0.008288557641208172, -0.0036700856871902943, 0.015106836333870888, -0.03600500151515007, -0.03014633245766163, 0.028732169419527054, 0.013760016299784184, 0.004503430798649788, 0.01529763638973236, -0.04013524949550629, -0.01801372319459915, 0.013019264675676823, -0.025073308497667313, -0.006818278692662716, -0.005249794106930494, 0.026150764897465706, 0.02124609239399433, -0.034905098378658295, -0.001773313619196415, 0.002175956731662154, -0.02451213262975216, -0.0008677171426825225, 0.0010999033693224192, 0.04024748504161835, 0.008204380981624126, -0.006857560947537422, -0.06343524158000946, -0.01045469380915165, 0.03326646611094475, -0.046689774841070175, -0.04453486204147339, -0.06128033250570297, 0.00547706987708807, -0.010538870468735695, -0.0024775885976850986, -0.0030724341049790382, -0.030729953199625015, -0.007177430670708418, -0.00514036463573575, -0.021571574732661247, -0.0016596756177023053, 0.005886727944016457, -0.017800476402044296, 0.013995709829032421, -0.03005654364824295, -0.00473351264372468, 0.03524180129170418, -0.03472552075982094, -0.009629766456782818, 0.013389640487730503, -0.01056692935526371, -0.04709382355213165, 0.009814954362809658, 0.005221735220402479, 0.003939449787139893, -0.01621796377003193, 0.03171762079000473, -0.027722055092453957, -0.023748934268951416, -0.010909246280789375, 0.01101025752723217, -0.015028271824121475, -0.030438141897320747, -0.0011889899615198374, -0.01294070016592741, 0.017778029665350914, -0.0051319473423063755, 0.014276296831667423, -0.026734385639429092, -0.00876555684953928, -0.0030668224208056927, -0.043345171958208084, -0.011537762358784676, -0.01910240389406681, -0.0021787628065794706, -0.0018168047536164522, -0.033648066222667694, 0.03279507905244827, 0.006200985983014107, 0.008333452045917511, -0.019023839384317398, 0.030034096911549568, -0.022413337603211403, -0.023659147322177887, -0.005693122278898954, 0.0070539722219109535, -0.016947491094470024, 0.006324444431811571, 0.07129170000553131, -0.020348213613033295, -0.011105657555162907, 0.02453457936644554, 0.026262998580932617, 0.000972937501501292, 0.020898165181279182, 0.008064087480306625, 0.025522248819470406, 0.010853128507733345, 0.03445615619421005, -0.02756492607295513, 0.009006861597299576, 0.01847388781607151, 0.013962038792669773, -0.03654373064637184, -0.008299781009554863, -0.012042819522321224, -0.008933909237384796, 0.010886798612773418, -0.0008978802943602204, -0.02920355647802353, 0.005914786830544472, -0.03131357580423355, 0.009169602766633034, -0.003218339756131172, -0.01221117191016674, 0.015028271824121475, -0.01356921624392271, 0.008064087480306625, 0.00397592643275857, -0.02390606328845024, 0.01225606631487608, -0.01026950590312481, 0.02787918411195278, 0.02630789391696453, -0.016251632943749428, 0.015073166228830814, 0.05185258761048317, 0.014343637973070145, -0.0013783866306766868, 0.017710689455270767, 0.01225606631487608, 0.03450104966759682, 0.0009953845292329788, -0.044602204114198685, 0.020325765013694763, -0.027385350316762924, -0.009147156029939651, 0.011302068829536438, 0.036970220506191254, -0.024669261649250984, 0.011975478380918503, -0.030617719516158104, -0.01638631522655487, -0.022211315110325813, 0.035533614456653595, -0.014994601719081402, -0.016835255548357964, 0.0180473942309618, -0.02368159405887127, -0.04570210725069046, 0.0024888119660317898, 0.04018014296889305, 0.024265214800834656, -0.03905779495835304, -0.02102162316441536, 0.006195374298840761, -0.015084389597177505, -0.01361411064863205, -0.006616255734115839, 0.009046143852174282, -0.0005141767906025052, -0.01006748341023922, 0.001635825727134943, 0.04000056907534599, 0.0006151883280836046, 0.00010951684816973284, 0.026869067922234535, 0.03180741146206856, -0.020460447296500206, -0.05135875567793846, -0.008176323026418686, 0.022121526300907135, -0.03046059049665928, 0.04321049153804779, -0.01756478287279606, -0.05423197150230408, -0.0227612666785717, -0.03717224672436714, -0.03858640789985657, -0.029809625819325447, 0.0018476693658158183, -0.010314400307834148, 0.0035802978090941906, -0.01554455328732729, -0.0007863467326387763, 0.012794794514775276, 0.03643149510025978, 0.005676287226378918, -0.045253168791532516, 0.016655679792165756, -0.03869864344596863, 0.03322157263755798, -0.025005966424942017, 0.03634170442819595, -0.027677161619067192, -0.0007267218898050487, 0.03272773697972298, 0.04253707826137543, 0.006554526276886463, -0.009596096351742744, 0.007048360537737608, -0.011728561483323574, -0.01941666193306446, -0.016577115282416344, 0.03393987566232681, -0.006621867418289185, 0.007379454094916582, 0.014859919436275959, 0.021739928051829338, 0.04031482711434364, 0.023008182644844055, 0.023434676229953766, -0.05037108436226845, -0.05153832957148552, 0.028619935736060143, -0.011290845461189747, -0.03984344005584717, 0.00996647123247385, 0.01753111369907856, -0.04026993364095688, 0.00826611090451479, 0.03328891098499298, -0.010600599460303783, -0.040539298206567764, 0.0063749500550329685, -0.009298672899603844, 0.018125958740711212, 0.007783500012010336, -0.014960930682718754, 0.01607205718755722, 0.004065714310854673, 0.008928297087550163, 0.01082506962120533, 0.012525430880486965, -0.01736276037991047, 0.029876967892050743, 0.009534366428852081, -0.0049776239320635796, -0.032099220901727676, -0.025791611522436142, 0.01958501525223255, 0.026465022936463356, 0.028821958228945732, -0.03205432742834091, 0.02985452115535736, 0.018451441079378128, -0.028552593663334846, 0.06572484225034714, 0.005628587212413549, -0.014826248399913311, -0.021436892449855804, 0.009640989825129509, -0.014523213729262352, -0.006425456143915653, -0.002317653503268957, -0.034703075885772705, -0.02963005006313324, 0.01921463944017887, 0.005432175938040018, -0.006992242764681578, 0.050146616995334625, -0.023344887420535088, 0.007996746338903904, -0.020112518221139908, 0.048575326800346375, -0.02451213262975216, -0.02079715207219124, 0.04190856218338013, 0.04401858150959015, -0.010376129299402237, 0.006212209351360798, 0.025499800220131874, -0.0075590298511087894, -0.011672443710267544, 0.004057296551764011, 0.02639768086373806, -0.015376200899481773, 0.05436665192246437, -0.032705292105674744, -0.017452549189329147, -0.021436892449855804, -0.00975322537124157, 0.0048120771534740925, -0.026779280975461006, -0.0196523554623127, 0.028664829209446907, -0.06101096794009209, 0.012334630824625492, 0.008170710876584053, -0.028417911380529404, -0.023950956761837006, 0.04987725242972374, 0.04318804293870926, -0.008260498754680157, -0.008810450322926044, -0.022615360096096992, -0.006150480359792709, -0.007491688709706068, 0.007300889119505882, 0.028305677697062492, -0.02165013924241066, -0.017609678208827972, 0.02067369408905506, -0.009713943116366863, 0.014747683890163898, 0.02093183435499668, 0.010544481687247753, 0.006902454886585474, 0.036700859665870667, 0.008322227746248245, -0.029989203438162804, 0.006851949263364077, 0.0015179789625108242, -0.010033812373876572, 0.02682417444884777, 0.022525573149323463, 0.010202164761722088, 0.012020372785627842, -0.009680272080004215, -0.010909246280789375, 0.024781497195363045, 0.003381080459803343, 0.00945019070059061, 0.003061210736632347, -0.04781212657690048, -0.014388532377779484, -0.028642382472753525, 0.025634482502937317, 0.04110047221183777, 0.016150621697306633, -0.01381613314151764, -0.007098866160959005, -0.015971045941114426, 0.008479357697069645, 0.010342459194362164, 0.0161618459969759, -0.01566801220178604, 0.026420127600431442, 0.021066516637802124, -0.0487997941672802, 0.009988918900489807, 0.0017171960789710283, -0.03120134025812149, 0.021145081147551537, 0.013580439612269402, 0.02588140033185482, 0.01529763638973236, -0.040741320699453354, 0.005305911414325237, 0.013479428365826607, -0.03097687102854252, 0.023928510025143623, -0.000166598882060498, 0.02390606328845024, -0.01393959205597639, 0.0626271516084671, -0.026128318160772324, -0.0025337061379104853, 0.020684918388724327, -0.0057211811654269695, 0.01524151861667633, 0.017003608867526054, 0.035847872495651245, 0.04520827531814575, 0.00761514762416482, 0.004492207430303097, -0.04000056907534599, 0.021066516637802124, 0.01200914941728115, -0.01945033296942711, 0.0017691048560664058, -0.010791399516165257, 0.002048289403319359, -0.006268327124416828, 0.015993492677807808, 0.037082456052303314, -0.006868784315884113, -0.03268284350633621, -0.022469455376267433, 0.012469313107430935, 0.006548914592713118, -0.0015965434722602367, -0.03005654364824295, 0.002638926263898611, -0.012087713927030563, -0.026667045429348946, -0.027520032599568367, 0.00858036894351244, -0.022783713415265083, 0.02050534263253212, 0.011217892169952393, 0.01355799287557602, -0.006992242764681578, -0.029607603326439857, 0.014096721075475216, 0.00789573509246111, 0.03306444361805916, -0.00469703646376729, -0.019461555406451225, 9.902769306791015e-06, -0.01381613314151764, -0.0021128247026354074, 0.012772347778081894, -0.0303708016872406, -0.009141543880105019, 0.01548843551427126, -0.027699608355760574, -0.011605103500187397, 0.009859847836196423, 0.029966754838824272, 0.040337271988391876, -0.028305677697062492, -0.01664445549249649, 0.018002500757575035, -0.0016400344902649522, 0.005552828777581453, -0.004938341677188873, -0.022200090810656548, 0.009057368151843548, 0.009798118844628334, 0.03737426921725273, -0.0019374573603272438, -0.0005930920597165823, -0.0007624967838637531, -0.004952371120452881, -0.01961868442595005, -0.0021661361679434776, 0.0209093876183033, 0.011015868745744228, -0.01667812652885914, 0.0012275706976652145, 0.007267219014465809, -0.015589446760714054, 0.00785084068775177, -0.00022569764405488968, -0.06469227373600006, -0.016779137775301933, 0.0013966247206553817, 0.007480465341359377, -0.0030022873543202877, -0.020606353878974915, 0.005406923126429319, -0.004887836053967476, -0.0028704111464321613, -0.02983207441866398, 0.025432460010051727, -0.008311004377901554, 0.020292095839977264, -0.014040603302419186, -0.011616326868534088, 0.03611723706126213, -0.024961072951555252, -0.06392908096313477, -0.006307609379291534, -0.014152838848531246, 0.024601921439170837, -0.005740822292864323, -0.01294070016592741, 0.015567000024020672, 0.047632552683353424, 0.014714013785123825, -0.010701610706746578, 0.016779137775301933, -0.028148548677563667, -0.024893732741475105, -0.043165598064661026, -0.010718446224927902, -0.01162755023688078, 0.029248451814055443, 0.017688242718577385, 0.025499800220131874, 0.010886798612773418, 0.03317667916417122, 0.021380774676799774, 0.039506733417510986, 0.006099974270910025, 0.007143760100007057, 0.019338097423315048, 0.007530970964580774, -0.011206668801605701, 0.0025463325437158346, 0.021728703752160072, -0.01324373483657837, 0.028305677697062492, -0.008170710876584053, -0.019439108669757843, -0.007856452837586403, -0.011318903416395187, -0.00629077386111021, 0.03472552075982094, 0.0014548467006534338, -0.0004738423158414662, 0.02857504040002823, -0.03465817868709564, 0.031268682330846786, -0.0011700502363964915, 0.002651552902534604, -0.0043968078680336475, -0.01756478287279606, 0.0004748945066239685, -0.019798260182142258, 0.009500696323812008, -0.011548985727131367, -0.028215888887643814, -0.048889584839344025, 0.02170625701546669, -0.001306135323829949, 0.0037374268285930157, 0.04875490069389343, -0.02765471301972866, 0.03409700468182564, -0.02093183435499668, 0.024803943932056427, -0.012110160663723946, -0.026060976088047028, 0.0015825140289962292, -0.021055294200778008, -0.012233619578182697, -0.004276155028492212, 0.007261606864631176, 0.0001500266807852313, 0.0013405072968453169, -0.01744132488965988, -0.03398476913571358, -0.01675669103860855, -0.006504020653665066, -0.04359208792448044, 0.0006348294555209577, -0.008754333481192589, -0.002512661973014474, 0.030213672667741776, -0.06478206813335419, -0.0021955978590995073, -0.0494283102452755, 0.005070217885077, 0.008608427830040455, 0.018294312059879303, -0.004713871516287327, -0.021066516637802124, 0.013232511468231678, 0.015162954106926918, 0.0075029125437140465, -0.004172337707132101, 0.031134000048041344, 0.02327754721045494, 0.04392879456281662, 0.02070736512541771, -0.022918395698070526, 0.005780104547739029, 0.00907981488853693, -0.023210207000374794, -0.014141615480184555, -0.044691991060972214, -0.012222396209836006, -0.02505086176097393, 0.01853000558912754, -0.022312326356768608, -0.0050589945167303085, -0.03221145644783974, -0.009596096351742744, -0.0023232654202729464, -0.01512928307056427, -0.015275188721716404, 0.047318294644355774, -0.002275565406307578, -0.020325765013694763, -0.003827214939519763, -0.027003750205039978, -0.014208955690264702, -0.016027163714170456, -0.015005825087428093, -0.011487256735563278, 0.013771239668130875, 0.04114536568522453, 0.03634170442819595, -0.0018925633048638701, 0.009371626190841198, 0.004890641663223505, -0.06536568701267242, 0.011672443710267544, -0.037419162690639496, -0.02015741355717182, 0.01996661350131035, -0.02007884904742241, 0.005370446480810642, 0.018462663516402245, -0.0077891116961836815, -0.01712706685066223, -0.029091322794556618, 0.005954069085419178, 0.015275188721716404, -0.006582585163414478, -0.009725166484713554, -0.009186438284814358, -0.02388361655175686, -0.002807278884574771, -0.005709957797080278, -0.019315650686621666, -0.0005015503265894949, 0.010140435770154, -0.010505199432373047, 0.0005254002753645182, -0.03692532703280449, -0.02347956970334053, 0.00785084068775177, 0.0186759103089571, 0.012143831700086594, -0.0017662988975644112, -0.019225861877202988, -0.0016723021399229765, 0.03452349826693535, 0.02033698931336403, -0.0009764448623172939, -0.007424348033964634, -0.019237086176872253, -0.011038316413760185, -0.02107774093747139, 0.03618457540869713, 0.0303708016872406, 0.01523029524832964, 0.0011041122488677502, 0.003209922229871154, 0.005493905395269394, -0.006083139218389988, 0.005914786830544472, -0.005909174680709839, 0.01419773232191801, 0.01451199036091566, 0.007811558898538351, 0.010522034950554371, 0.009983306750655174, 0.01952889747917652, -0.02931579202413559, 0.0392373688519001, -0.01362533401697874, 0.015331306494772434, -0.008473745547235012, -0.0040039848536252975, 0.008299781009554863, -0.00840640440583229, -0.0034035276621580124, 0.021728703752160072, 0.0018013723893091083, -0.034837756305933, -0.012435642071068287, -0.05041598156094551, -0.022469455376267433, 0.043030913919210434, -0.0029854520689696074, -0.02268270216882229, -0.0116948913782835, 0.03196454048156738, -0.04040461406111717, -0.009562425315380096, -0.009018085896968842, -0.03263795003294945, 0.02156035043299198, -0.0480365976691246, 0.020202307030558586, 0.024983519688248634, -0.002957393415272236, -0.010533258318901062, 0.022042961791157722, 0.014714013785123825, 0.00036862195702269673, 0.020123742520809174, 0.00933795515447855, 0.002103004138916731, -0.0073570068925619125, 0.03973120450973511, 0.008743109181523323, 0.017340313643217087, -0.015881258994340897, 0.006487185135483742, -0.006818278692662716, -0.0009413713705725968, 0.01727297343313694, 0.006335667800158262, 0.01429874449968338, 0.0015081583987921476, 0.001888354541733861, -0.020808376371860504, -0.0030584048945456743, 0.04464709758758545, 0.023838723078370094, 0.03544382378458977, -0.007755441125482321, 0.013367192819714546, -0.01858612336218357, -0.0013910130364820361, 0.02462436817586422, 0.0256569292396307, 0.0118856905028224, -0.01950645074248314, -0.02050534263253212, -0.030393248423933983, 0.020258424803614616, -0.04749786853790283, 0.03497243672609329, 0.04038216918706894, 0.017766807228326797, -0.011285233311355114, 0.013905921019613743, 0.0028676053043454885, 0.0014660701854154468, 0.005909174680709839, -0.0020160218700766563, -0.0167903620749712, 0.03016877919435501, -0.003846856066957116, -0.029652496799826622, -0.015387424267828465, -0.04875490069389343, -0.016520997509360313, 0.004699842073023319, -0.037912994623184204, -0.009775672107934952, -0.017205631360411644, 0.02516309544444084, 0.03995567560195923, -0.019809484481811523, -0.0023302799090743065, -0.007979911752045155, -0.0023232654202729464, 0.010016976855695248, 0.009932801127433777, 0.008462522178888321, 0.010482752695679665, 0.013782463036477566, 0.03443371132016182, 0.027093539014458656, -0.0031622222159057856, 0.01873202808201313, -0.009478248655796051, 0.01973091997206211, -0.04067397862672806, 0.03182985633611679, -0.02471415512263775, 0.010235835798084736, -0.016969937831163406, -0.03378274664282799, -0.005056188441812992, -0.02743024379014969, 0.02462436817586422, 0.01598227024078369, -0.018698357045650482, 0.010757728479802608, -0.02462436817586422, -0.02630789391696453, 0.013266181573271751, 0.000217455395613797, 0.004483789671212435, -0.001402236521244049, 0.04013524949550629, -0.005432175938040018, -0.01015165913850069, -0.0064647383987903595, -0.008181934244930744, 0.0034343921579420567, -0.01299681793898344, -0.013546769507229328, -0.004753153771162033, 0.02888929843902588, -0.0335807241499424, 0.004343496169894934, 0.009528755210340023, 0.0096522131934762, -0.0028479641769081354, -0.005370446480810642, 0.02453457936644554, 0.01686892658472061, -0.0016975549515336752, 0.004727900959551334, 0.01727297343313694, -0.01773313619196415, -0.0005699435714632273, 0.01162755023688078, -0.04484912008047104, 0.002439709147438407, 0.02567937783896923, 0.023973405361175537, 0.02693640999495983, -0.021728703752160072, -0.020954281091690063, 0.021032845601439476, 0.019809484481811523, 0.012065267190337181, -0.024557026103138924, -0.003978732042014599, 0.006341279949992895, 0.002716087969020009, -0.0013734763488173485, 0.015275188721716404, 0.0079069584608078, 0.006773384753614664, 0.02242456004023552, 0.007671264931559563, -0.0026613734662532806, 0.02942802757024765, -0.023120418190956116, -0.020640023052692413, -0.015409871004521847, 0.00629077386111021, 0.007446794770658016, 0.02482639066874981, -0.001704569673165679, -0.008007969707250595, 0.027385350316762924, -0.01890038140118122, -0.02619565837085247, -0.014669119380414486, 0.006930513773113489, 0.005819386802613735, -0.02588140033185482, 0.0494283102452755, -0.004368748981505632, 0.02067369408905506, 0.020235978066921234, 0.0069810193963348866, 0.0341418981552124, 0.009141543880105019, 0.022323548793792725, -0.013322299346327782, 0.006066303700208664, 0.034276582300662994, 0.0309993177652359, -0.01554455328732729, 0.007227936759591103, -0.04197590425610542, -0.010667940601706505, -0.007530970964580774, 0.008462522178888321, 0.0009476846316829324, -0.04673467203974724, 0.01195303164422512, 0.022435784339904785, -0.010707222856581211, -0.005210511852055788, 0.028328124433755875, 0.023344887420535088, -0.006403008941560984, 0.0052049001678824425, -0.03683554008603096, -0.022054186090826988, -0.0030696282628923655, 0.0031509988475590944, -0.004130249377340078, -0.03362561762332916, 0.03941694647073746, -0.030438141897320747, -0.024287663400173187, 0.0011974076041951776, -0.010841905139386654, 0.04067397862672806, 4.192373125988524e-06, -0.03160538896918297, -0.0028395464178174734, -0.011818349361419678, -0.0027062674053013325, -0.011986702680587769, 0.021268539130687714, 0.01732908934354782, -0.008496192283928394]\n",
            "[-0.04709406569600105, 0.016258960589766502, 0.02103518508374691, 0.013239792548120022, -0.05954194441437721, -0.011779703199863434, -0.025761913508176804, 0.022581888362765312, 0.06280858814716339, 0.045064788311719894, -0.04021432250738144, 0.03412649407982826, -0.010443350300192833, -0.05152382701635361, -0.003424404188990593, 0.04551023989915848, -0.042218852788209915, -0.013054188340902328, -0.010325800627470016, 0.014068826101720333, 0.02522984705865383, 0.07770644873380661, -0.008401700295507908, -0.017780916765332222, -0.04023906961083412, -0.008667733520269394, -0.03197348117828369, 0.020663974806666374, 0.044446107000112534, -0.0834973081946373, 0.10334462672472, -0.029152290895581245, 0.024437934160232544, 0.003248079912737012, 0.00892757996916771, 0.0237945057451725, -0.0011267743539065123, 0.0361805185675621, 0.04768799990415573, 0.032022975385189056, -0.0026959064416587353, 0.014514276757836342, 0.008834777399897575, -0.015244321897625923, -0.03306236118078232, 0.03734363988041878, -0.05305815860629082, 0.040882498025894165, 0.028632597997784615, 0.04350570961833, -0.027320992201566696, -0.011488922871649265, 0.02275511994957924, -0.033532559871673584, -0.01530618965625763, -0.03420073539018631, -0.01959984190762043, -0.03301286697387695, -0.0036966244224458933, -0.02746947668492794, 0.04147643223404884, -0.011501296423375607, 0.006078549660742283, 0.02204982191324234, -0.023349054157733917, 0.04174865409731865, 0.011099153198301792, 0.01301706675440073, -0.04805921018123627, -0.021517755463719368, 0.014440035447478294, 0.025464946404099464, -0.015961993485689163, 0.034670934081077576, -0.011699274182319641, 0.023101581260561943, 0.03358205407857895, 0.014712255448102951, 0.0208372063934803, -0.040164828300476074, 0.023559406399726868, -0.02367076836526394, -0.018139753490686417, 0.026826046407222748, -0.026628069579601288, 0.0038760420866310596, -0.06419443339109421, -0.03390376642346382, -0.006465225946158171, 0.010907362215220928, -0.0008607411873526871, -0.01951322704553604, 0.04108047857880592, 0.02010716125369072, -0.0008530076593160629, 0.03123106248676777, 0.010938296094536781, 0.03358205407857895, -0.03249317407608032, 0.039570894092321396, 0.0010919735068455338, -0.025365957990288734, 0.019537974148988724, 0.060680318623781204, 0.04595569148659706, -0.05216725543141365, -0.03756636381149292, -0.004893773701041937, 0.014006958343088627, -0.005289730150252581, -0.0696883276104927, 0.0035636078100651503, 0.003192398464307189, 0.007714963052421808, 0.0038946024142205715, 0.009707119315862656, 0.01961221545934677, -0.003916256595402956, -0.01521957479417324, -0.031923986971378326, 0.03239418566226959, 0.007312819827347994, 0.023806879296898842, -0.06246212497353554, -0.02522984705865383, 0.014464782550930977, -0.036304254084825516, 0.04031331092119217, -0.019760699942708015, 0.005995027720928192, 0.0068055009469389915, -0.01888217218220234, 0.028929565101861954, -0.008587304502725601, -0.0390017069876194, 0.012311769649386406, -0.03370578959584236, -0.014687508344650269, -0.042317841202020645, -0.01664254255592823, 0.017211729660630226, 0.032814886420965195, 0.029572995379567146, 0.01108059287071228, -0.01484836544841528, 0.027791190892457962, 0.020082414150238037, 0.04919758439064026, -0.02451217733323574, 0.026702310889959335, -0.04939556121826172, -0.015949619933962822, -0.028434619307518005, 0.05879952758550644, 0.027073519304394722, -0.04954404756426811, 0.02746947668492794, 0.03553708642721176, 0.009212173521518707, 0.015293816104531288, 0.01036910805851221, -0.0013788872165605426, -0.008989447727799416, -0.009354470297694206, -0.007139589171856642, -0.02409147284924984, 0.03726939857006073, -0.0012768047163262963, -0.043431468307971954, -0.008445007726550102, -0.05187029018998146, -0.04318399727344513, -0.04301076382398605, 0.05860154703259468, -0.006471412722021341, 0.01716223545372486, 0.028459366410970688, -0.00252886232919991, -0.023509912192821503, 0.021579625084996223, -0.005948626436293125, -0.03541335090994835, -0.05036070570349693, -0.033532559871673584, -0.014588518999516964, 0.017706675454974174, -0.021196041256189346, 0.046599119901657104, 0.03472042828798294, -0.006471412722021341, -0.010616580955684185, -0.008049051277339458, -0.04412439092993736, 0.055681370198726654, 0.013487265445291996, 0.0039874049834907055, -0.02051549218595028, 0.005682593211531639, -0.023942988365888596, 0.01747157610952854, 0.029276026412844658, -0.07503373920917511, 0.0158382561057806, 0.03969462960958481, -0.06513483077287674, 0.008494501933455467, 0.04828193411231041, 0.022111691534519196, 0.023757385089993477, 0.026256859302520752, 0.020354634150862694, -0.00842026062309742, -0.01727359928190708, 0.00878528319299221, 0.003879135474562645, -0.03063712641596794, 0.00040755668305791914, 0.023509912192821503, 0.015479421243071556, 0.048974860459566116, 0.010096888057887554, 0.0023092301562428474, 0.024722527712583542, 0.011860132217407227, 0.01634557545185089, 0.01419256255030632, -0.05305815860629082, -0.06765905022621155, -0.007052973378449678, -0.0896841287612915, 0.0006322155822999775, -0.0031073298305273056, -0.03162701800465584, -0.06647118180990219, 0.006140417885035276, 0.010610394179821014, 0.032319940626621246, -0.08008218556642532, -0.013004693202674389, 0.032418932765722275, -0.04850466176867485, 0.014835991896688938, -0.0005954813095740974, -0.03519062697887421, 0.024351319298148155, -0.024277077987790108, -0.03420073539018631, -0.043233491480350494, 0.00974423997104168, 0.03390376642346382, 0.013994584791362286, 0.027840685099363327, -0.03561133146286011, -0.01352438610047102, -0.03259216248989105, 0.015788761898875237, -0.04961828887462616, 0.042936522513628006, 0.06666915863752365, -0.0010966137051582336, 0.06355100125074387, 0.012107604183256626, 0.016989003866910934, 0.014105946756899357, -0.025279341265559196, -0.029869962483644485, -0.04714355990290642, -0.015566036105155945, 0.03145378828048706, -0.030760863795876503, -0.033037614077329636, 0.021814724430441856, -0.016989003866910934, -0.035066891461610794, -0.030785610899329185, -0.024673033505678177, -0.04172390699386597, -0.04276329278945923, 0.04268905147910118, -0.0135862547904253, -0.006044521927833557, 0.011878692544996738, 0.00161475979257375, -0.03472042828798294, -0.005314477253705263, -0.024351319298148155, 0.007108654826879501, 0.032418932765722275, -0.025539187714457512, 0.02910279668867588, -0.0240790992975235, 0.027123013511300087, -0.010845493525266647, 0.0032295195851475, 0.04335722699761391, -0.020367007702589035, 0.01990918256342411, -0.04766325280070305, 0.020342260599136353, 0.02216118574142456, -0.018399599939584732, 0.03464618697762489, 0.013091308996081352, 0.04892536252737045, -0.013326408341526985, 0.040164828300476074, -0.005521736107766628, -0.06063082441687584, -0.0014059545937925577, -0.011711648665368557, 0.0004949455033056438, 0.011618846096098423, 0.01655592769384384, -0.030958842486143112, -0.03489365801215172, -0.03830878436565399, -0.03073611669242382, 0.03892746567726135, 0.023410921916365623, -0.04021432250738144, -0.009787547402083874, -0.02042887546122074, -0.0005633871769532561, -0.006019774824380875, 0.0075850398279726505, 0.0020571171771734953, 0.004788598045706749, 0.020602107048034668, -0.06676814705133438, 0.00691686337813735, 0.004952548537403345, 0.01056708674877882, 0.0018931665690615773, 0.018708940595388412, -0.01990918256342411, 0.03274064511060715, 0.029671983793377876, 0.018659446388483047, -0.029053302481770515, 0.022223053500056267, 0.002148372819647193, 0.0006194552406668663, -0.009855602867901325, -0.015467047691345215, 0.007622160948812962, 0.060383353382349014, 0.046797096729278564, -0.004961828701198101, 0.004398828372359276, 0.046797096729278564, 0.025786660611629486, -0.003823454026132822, -0.030884599313139915, 0.007721149828284979, -0.08696192502975464, -0.030859852209687233, 0.0005954813095740974, 0.044866811484098434, -0.021789975464344025, 0.02254476770758629, -0.023410921916365623, -0.016716783866286278, -0.009472019970417023, -0.006378610152751207, 0.014328672550618649, 0.04949454963207245, -0.024153340607881546, 0.021616745740175247, 0.010641328990459442, -0.005277356598526239, 0.020032919943332672, 0.005784675478935242, 0.030686622485518456, -8.168534259311855e-05, -0.010579460300505161, -0.036205265671014786, -0.01174258254468441, 0.027840685099363327, -0.021975580602884293, 0.028855323791503906, -0.007702589500695467, 0.045163776725530624, -0.04479257017374039, -0.009038942866027355, 0.0108764274045825, 0.008395513519644737, 0.031181568279862404, -0.026182617992162704, -0.039150189608335495, 0.03155277669429779, -0.012392198666930199, 0.05122686177492142, -0.014934981241822243, 0.025464946404099464, -0.052711695432662964, -0.025167979300022125, 0.04276329278945923, 0.05553288757801056, 0.008049051277339458, -0.02694978378713131, -0.022185932844877243, -0.021480634808540344, -0.04402540251612663, -0.07409334182739258, 0.0131655503064394, 0.010659889318048954, -0.03882847726345062, -0.04622790962457657, -0.04288702830672264, 0.04229309409856796, 0.01593724638223648, -0.01846146769821644, 0.007238578051328659, -0.0017245757626369596, -0.013190298341214657, 0.016098102554678917, -0.004166822414845228, 0.003207865636795759, 0.00642810482531786, -0.014922607690095901, 0.049247078597545624, -0.028459366410970688, -0.018312983214855194, 0.06795601546764374, -0.017941774800419807, -0.04286228120326996, 0.031107325106859207, 0.01602386124432087, 0.012262275442481041, -0.04657437279820442, -0.0013665136648342013, 0.04662386700510979, 0.005892944987863302, 0.01465038675814867, -0.0699852928519249, -0.004117328207939863, 0.00354814063757658, -0.04682184383273125, -0.018820302560925484, 0.008909019641578197, 0.01603623479604721, -0.015194827690720558, -0.0025242220144718885, 0.027815937995910645, -0.03749212250113487, 0.014774123206734657, -0.0010734130628407001, 0.0035605141893029213, 0.03566082566976547, -0.048133451491594315, -0.046104174107313156, -0.028409872204065323, -0.04994000121951103, -0.004556592088192701, -0.030859852209687233, -0.004751476924866438, 0.0004400374891702086, -0.03867999091744423, 0.047118812799453735, 0.00043926414218731225, 0.009366843849420547, 0.01301706675440073, 0.016060981899499893, 0.02256951481103897, 0.058453064411878586, 0.017298346385359764, -0.02583615668118, -0.021616745740175247, 0.005394906271249056, -0.018424347043037415, 0.01734784059226513, 0.03583405539393425, 0.0706782191991806, 0.01004739385098219, 0.01086405385285616, 0.004856653045862913, 0.006595149170607328, -0.02930077351629734, -0.013747111894190311, 0.02510611154139042, 0.01455139834433794, 0.05686923861503601, -0.047712747007608414, -0.03627950698137283, 0.011668340303003788, -0.01465038675814867, 0.041204214096069336, 0.020181402564048767, -0.041006237268447876, -0.04400065541267395, 0.02000817283987999, -0.02900380641222, -0.006261060945689678, -0.012478813529014587, 0.04677234962582588, 0.007003479171544313, -0.03625475987792015, -0.004160635638982058, 0.003144450718536973, 0.004510190803557634, 0.022532394155859947, -0.022717999294400215, -0.02326243929564953, 0.03400275856256485, 0.006663204170763493, 0.026628069579601288, -0.03504214063286781, -0.027024025097489357, -0.0026696124114096165, -0.00892757996916771, -0.011185768991708755, -0.007516984827816486, 0.03264165669679642, -0.02237153798341751, -0.043035510927438736, 0.004460696596652269, 0.02162911929190159, 0.03798706829547882, -0.005329944659024477, 0.025365957990288734, -0.021196041256189346, 0.0006925370544195175, -0.04340672120451927, 0.018758434802293777, 0.026207365095615387, 0.0023726450745016336, -0.009434899315237999, -0.03962038829922676, -0.0015915591502562165, -0.014452408999204636, -0.012583989650011063, 0.0007277245749719441, -0.008488315157592297, -0.026702310889959335, 0.014006958343088627, -0.04256531596183777, 0.012596363201737404, -0.00017216756532434374, 0.03217145800590515, 0.02714776061475277, 0.010579460300505161, 0.023831626400351524, -0.01827586255967617, -0.035066891461610794, 0.00034143507946282625, -0.0224581528455019, 0.046500131487846375, -0.0010950668947771192, -0.023522285744547844, 0.019352369010448456, 0.0024082192685455084, -0.0010765064507722855, 0.02737048640847206, -0.02714776061475277, 0.0019643150735646486, -0.002457713708281517, 0.028459366410970688, 0.001662707538343966, -0.00410804757848382, 0.0074427430517971516, -0.019872061908245087, 0.0004744516627397388, 0.003110423218458891, -0.005029883701354265, 0.0009055956033989787, 0.05409754440188408, -0.004336960148066282, 0.000623708707280457, 0.0038389211986213923, -0.021604372188448906, -0.003848201362416148, -0.0036935308016836643, 0.0031676513608545065, -0.017211729660630226, 0.01486073900014162, -0.007851073518395424, 0.02816239930689335, -0.051721807569265366, 0.023955363780260086, -0.007182896602898836, 0.02490813285112381, 0.005305197089910507, -0.007263325620442629, 0.0009736506035551429, -0.03788807988166809, 0.0018111912067979574, -0.0034986461978405714, -0.029226532205939293, 0.02900380641222, 0.0029139916878193617, -0.0069477977231144905, 0.021493008360266685, 0.019352369010448456, -0.010944482870399952, 0.038234539330005646, 0.02878108248114586, -0.01837485283613205, 0.012880956754088402, -0.04061027988791466, 0.04236733540892601, 0.007653094828128815, -0.024871012195944786, -0.023410921916365623, -0.03875423222780228, -0.03944715857505798, -0.027518970891833305, -0.009156491607427597, -0.01927812770009041, 0.00017226423369720578, -0.005846543703228235, 0.03697242960333824, 0.0032202391885221004, 0.00028846043278463185, -3.5042528452322586e-06, -0.033829525113105774, 0.00487211998552084, -0.02930077351629734, -0.03880372643470764, 0.024128593504428864, 0.0010478924959897995, -0.02317582443356514, 0.010690823197364807, 0.030340159311890602, 0.012930451892316341, -0.006384796928614378, 0.05944295600056648, -0.012992319650948048, -0.04585670307278633, 0.004844279028475285, 0.004618460312485695, -0.02378213219344616, 0.05597833916544914, 0.0093977777287364, -0.03811080381274223, -0.01091973576694727, 0.001597746042534709, -0.0004961055237799883, -0.0007014306029304862, 0.002499474911019206, 0.018152127042412758, -0.014749376103281975, -0.025662925094366074, 0.06122475862503052, -0.003582168137654662, 0.04513902962207794, 0.03043914958834648, 0.01775616966187954, -0.008642986416816711, 0.028310883790254593, -0.024351319298148155, 0.0035852615255862474, 0.01500922255218029, 0.05167231336236, -0.00016366069030482322, 0.028038663789629936, 0.05464198440313339, -0.0263311006128788, 0.008333644829690456, 0.02868209220468998, 0.023720264434814453, -0.001834391849115491, 0.0263311006128788, -0.023423297330737114, -0.0033316020853817463, 0.037739597260951996, 0.04226834699511528, 0.04397590830922127, 0.02009478770196438, 0.004995856434106827, 0.011959120631217957, -0.045906197279691696, -0.007238578051328659, 0.06879742443561554, -0.010084514506161213, -0.018152127042412758, 0.0028505767695605755, -0.024264704436063766, 0.015504168346524239, 0.0056207249872386456, -0.0032542666886001825, 0.014440035447478294, 0.013697616755962372, -0.015961993485689163, 0.06879742443561554, -0.006001214496791363, -0.019228633493185043, 0.0005560403224080801, -0.026009386405348778, 0.005422746762633324, 0.049049101769924164, -0.025056617334485054, -0.013338781893253326, 0.02388112060725689, -0.014576145447790623, -0.006953984498977661, -0.0058094230480492115, 0.007714963052421808, 0.022903604432940483, -0.06206616759300232, -0.0005162127199582756, -0.018016016110777855, 0.015541289001703262, -0.02440081350505352, -0.03288912773132324, -0.021591998636722565, -0.012262275442481041, 0.0006240953807719052, -0.011612659320235252, 0.008624425157904625, 0.006078549660742283, 0.013363528996706009, -0.0009458099375478923, -0.017780916765332222, 0.01159409899264574, 0.005592884495854378, -0.027593212202191353, 0.0013819807209074497, 0.02104755863547325, 0.0009759707027114928, -0.019884435459971428, -0.032418932765722275, 0.007250951603055, 0.028211893513798714, -0.010647515766322613, -0.0036780638620257378, 0.005323757883161306, -0.012342703528702259, -0.03511638566851616, -0.0030037006363272667, 0.01571452058851719, 0.0138337267562747, -0.012280835770070553, -0.006929237395524979, -0.00939159095287323, 0.02204982191324234, 0.04108047857880592, -0.025984639301896095, -0.017607687041163445, 0.01255305577069521, -0.01301706675440073, 0.0029696731362491846, -0.04429762437939644, -0.008030490949749947, -0.022619010880589485, 0.006004307884722948, 0.018300609663128853, 0.03053813800215721, -0.031181568279862404, 0.002835109829902649, -0.03704667091369629, 0.006072362884879112, 0.008970887400209904, 0.0029542059637606144, -0.021257909014821053, 0.04697033017873764, -0.0008939953404478729, -0.017001379281282425, 0.022198306396603584, 0.024574045091867447, -0.01909252256155014, 0.03481941670179367, 0.02206219546496868, -0.01087024062871933, 0.028508862480521202, -0.009354470297694206, 0.023621274158358574, -0.03175075352191925, -0.004228690639138222, -0.04662386700510979, 0.024660659953951836, 0.010585647076368332, 0.012138538993895054, -0.009806107729673386, -0.03595779091119766, 0.016890015453100204, 0.01858520321547985, -0.04345621541142464, -0.019773073494434357, 0.001778710400685668, -0.004213223699480295, 0.06157122179865837, 0.010950669646263123, -0.010758877731859684, 0.028558356687426567, 0.0031413573306053877, -0.0115817254409194, -0.05479046702384949, -0.04065977409482002, 0.0017972708446905017, 0.006214659661054611, 0.013994584791362286, 0.005456774495542049, 0.03600728511810303, -0.023559406399726868, 0.01695188321173191, -0.015652650967240334, 0.02051549218595028, -0.06043284758925438, 0.009100810624659061, 0.003458431689068675, -0.0003429817734286189, -0.0014972102362662554, 0.015764014795422554, 0.03912544250488281, 0.04749002307653427, -0.0004021432250738144, -0.03514113277196884, 0.006551841273903847, -0.03744262829422951, 0.008562557399272919, 0.0053175706416368484, 0.016828147694468498, 0.02091144770383835, 0.02430182509124279, 0.024833891540765762, -0.039372917264699936, -0.033854272216558456, 0.04892536252737045, -0.013388276100158691, -0.030562885105609894, -0.002572169993072748, -0.022915977984666824, 0.006737445946782827, 0.00020706509531009942, -0.019315248355269432, 0.032913874834775925, -0.024722527712583542, -0.002341710962355137, 0.023769758641719818, -0.024586418643593788, -0.036898188292980194, 0.030661875382065773, 0.01593724638223648, 0.021690987050533295, 0.019525600597262383, -0.010331987403333187, 0.025489693507552147, 0.01856045611202717, 0.018597576767206192, 0.03420073539018631, 0.03736838698387146, -0.007690215948969126, 0.0053639719262719154, -0.014303925447165966, -0.01168071385473013, -0.0018483122112229466, -0.0021421860437840223, 0.010579460300505161, -0.036304254084825516, 0.02347279153764248, 0.026108376681804657, -0.022940725088119507, 0.0004029165720567107, 0.019476106390357018, -0.020367007702589035, -0.006953984498977661, 0.0017060153186321259, 0.009663810953497887, 0.00806761160492897, 0.012082857079803944, -0.01123526319861412, -0.028137652203440666, 0.010765064507722855, -0.029276026412844658, -0.010740317404270172, -0.006972544826567173, 0.004977295640856028, -0.0043122125789523125, 0.003217145800590515, 0.01123526319861412, 0.004977295640856028, -0.001602386124432087, -0.01571452058851719, 0.006824061274528503, 0.006267247721552849, 0.009119370952248573, -0.04335722699761391, 0.01775616966187954, 0.007028226274996996, -0.004086393862962723, 0.03593304380774498, 0.026479585096240044, 0.004667954985052347, 0.004831905476748943, 0.006152791436761618, -0.04132794961333275, -0.0240790992975235, 0.029770972207188606, 0.006366236601024866, 0.0014941167319193482, 0.003529580309987068, 0.0018142845947295427, -0.0008839417714625597, -0.053454115986824036, 0.011185768991708755, -0.016803400591015816, 0.002559796441346407, 0.012311769649386406, -0.017904654145240784, -0.005639285314828157, -0.006712698377668858, -0.01898116059601307, 0.018238741904497147, 0.002753134351223707, -0.004451416432857513, 0.012528308667242527, 0.00438954820856452, -0.023336680606007576, 0.014712255448102951, 0.021876592189073563, -0.03244367986917496, -0.05483996123075485, -0.044173888862133026, 0.003613102249801159, -0.008859524503350258, 0.014885486103594303, -0.0012721646344289184, -0.010146383196115494, -0.0027686015237122774, -0.026603320613503456, 0.05102888122200966, 0.018102632835507393, 0.0010045847157016397, 0.0004098767531104386, 0.0035636078100651503, -0.057215701788663864, 0.006601335946470499, -0.006044521927833557, -0.00284748338162899, -0.05929447337985039, 0.0030872225761413574, -0.004237970802932978, 0.003139810636639595, 0.008302710950374603, 0.01072175707668066, 0.012138538993895054, 0.015949619933962822, 0.020280392840504646, -0.0115817254409194, 0.03934817016124725, 0.0007640721159987152, 0.05914599075913429, -0.030711369588971138, -0.06459038704633713, -0.003681157249957323, -0.030067939311265945, -0.032517921179533005, 0.02532883733510971, 0.028855323791503906, -0.015491794794797897, 0.0006198419141583145, -0.03429972380399704, -0.0046710483729839325, -0.005558856762945652, -0.013512012548744678, -0.0017075620125979185, 0.01990918256342411, -0.03021642379462719, 0.016791027039289474, -0.021084679290652275, 0.009434899315237999, 0.04912334308028221, 0.036081526428461075, -0.03157752379775047, 0.04103098437190056, 0.0375911109149456, -0.033755283802747726, -0.027197256684303284, 0.014452408999204636, -0.011847758665680885, 0.026380596682429314, 0.024957627058029175, 0.019327621906995773, -0.0108764274045825, 0.03484416380524635, 0.025563936680555344, -0.010808372870087624, 0.01664254255592823, 0.021827097982168198, -0.028137652203440666, -0.031181568279862404, 0.018758434802293777, 0.014477156102657318, 0.009255480952560902, -0.00990509707480669, 0.06840147078037262, -0.004361707251518965, 0.03452244773507118, 0.025662925094366074, 0.023435670882463455, -0.009515327401459217, -0.04400065541267395, 0.028409872204065323, -0.007931501604616642, -0.018213994801044464, -0.009861789643764496, 0.004674141760915518, -0.008389326743781567, -0.02431419864296913, -0.015355684794485569, 0.044965799897909164, 0.05305815860629082, -0.004398828372359276, 0.06097728759050369, 0.00451328419148922, -0.017805665731430054, 0.0420951172709465, 0.020268019288778305, -0.004667954985052347, -0.009837042540311813, 0.03623001277446747, -0.012515935115516186, 0.010554713197052479, -0.009063689969480038, -0.016382696107029915, 0.014303925447165966, 0.03514113277196884, 0.009298788383603096, 0.03269115090370178, 0.011606472544372082, 0.012720099650323391, 0.02226017415523529, -0.025588683784008026, -0.004173009190708399, 0.041402190923690796, -0.025588683784008026, 0.0165435541421175, -0.04214461147785187, 0.003458431689068675, 0.01367286965250969, 0.030661875382065773, -0.0040740203112363815, 0.026974530890583992, 0.042837534099817276, 0.023621274158358574, -0.0017369494307786226, -0.00023954590142238885, -0.015615531243383884, 0.016580674797296524, -0.010591833852231503, -0.011569350957870483, -0.009502953849732876, -0.044347118586301804, 0.015504168346524239, -0.01138374675065279, -0.018820302560925484, 0.01675390638411045, 0.01828823611140251, 0.03682394698262215, -0.001979782013222575, 0.005549576599150896, -0.02848411351442337, 0.0015072637470439076, -0.0005471467738971114, 0.011018724180758, 0.0158382561057806, 0.007783018052577972, -0.013796606101095676, -0.017620060592889786, -0.03283963352441788, 0.01971120573580265, -0.037318892776966095, 0.013041813857853413, 0.00014858032227493823, 0.01622183993458748, -0.006409544497728348, 0.009465833194553852, -0.017582939937710762, 0.021703360602259636, 0.05167231336236, -0.008828590624034405, 0.005756834987550974, 0.005614538211375475, -0.004166822414845228, -0.0012458706041797996, 0.003303761361166835, -0.007065347395837307, 0.002533502411097288, -0.030340159311890602, 0.020960941910743713, 0.008166600950062275, 0.016902389004826546, 0.027617959305644035, -0.0016132129821926355, -0.0033872833009809256, 0.007448929827660322, 0.020144281908869743, 0.018523335456848145, -0.004237970802932978, 0.022940725088119507, -0.016803400591015816, 0.0027469475753605366, -0.010474284179508686, 0.026776552200317383, 0.030463896691799164, 0.03227044641971588, 0.030488643795251846, 0.013796606101095676, 0.0022226145956665277, -0.0247101541608572, 0.016890015453100204, 0.008915206417441368, 0.018139753490686417, -0.020045293495059013, 0.03672495856881142, -0.04108047857880592, 0.024029605090618134, -0.03360680118203163, -0.00378942652605474, 0.03600728511810303, 0.005224768538028002, -0.0017771637067198753, 0.04145168513059616, -0.02603413350880146, -0.04541125148534775, 0.0021514662075787783, 0.01929050125181675, -0.01056089997291565, 0.007653094828128815, 0.020564986392855644, -0.0009048222564160824, -0.03259216248989105, -0.009428711608052254, -0.010548526421189308, 0.030983589589595795, 0.0326664038002491, -0.030983589589595795, 0.030241170898079872, 0.008692480623722076, -0.011884879320859909, 0.02054023928940296, -0.02234679087996483, 0.01093210931867361, -0.018931666389107704, -0.02482151798903942, 0.007547919172793627, 0.011470362544059753, -0.019735952839255333, 0.021715734153985977, 0.008376953192055225, -0.03326033800840378, 0.014353419654071331, -0.00035419539199210703, 0.007857260294258595, -0.001972048543393612, 0.015417552553117275, -0.0016565207624807954, 0.06879742443561554, 0.010486657731235027, -0.024871012195944786, 0.020787712186574936, 0.01220659352838993, 0.010598020628094673, 0.02828613668680191, -0.0007424182840622962, -0.012416945770382881, 0.0174592025578022, -0.010851680301129818, 0.017087994143366814, 0.005756834987550974, -0.0195008534938097, 0.007807765621691942, 0.014934981241822243, -0.0418228954076767, -0.01989680901169777, -0.00968855805695057, -0.004720543045550585, 0.004763850476592779, 0.029053302481770515, 0.0014075012877583504, -0.008308897726237774, -0.02400485798716545, 0.000831353769171983, 0.03283963352441788, 0.0312558077275753, 0.0033346954733133316, -0.023732637986540794, -0.01440291479229927, 0.023151077330112457, -0.01969883218407631, -0.0244998037815094, 0.014811244793236256, -0.026801299303770065, 0.010096888057887554, -0.01818924769759178, 0.033532559871673584, -0.016011487692594528, -0.004033805802464485, 0.024932879954576492, -0.0304144024848938, 0.0063600498251616955, -0.029078049585223198, 0.03818504512310028, 0.01856045611202717, 0.01613522320985794, -0.036304254084825516, -0.04409964382648468, -0.014662761241197586, -0.02704877220094204, 0.009069876745343208, 0.01021443773061037, -0.0053454115986824036, -0.05914599075913429, -0.0005819476791657507, -0.018597576767206192, 0.011018724180758, 0.00968855805695057, 0.009533887729048729, -0.0012845383025705814, 0.028508862480521202, 0.0015049437060952187, -0.010814559645950794, -0.015788761898875237, -0.017731422558426857, -0.0069106766022741795, -0.009676184505224228, 0.0024113126564770937, 0.002784068463370204, -0.029325522482395172, -0.00974423997104168, -0.007993370294570923, -0.012540682218968868, -0.010598020628094673, -0.01010926254093647, -0.019773073494434357, -0.025180352851748466, -0.04583195596933365, -0.022086944431066513, -0.010616580955684185, -0.009131744503974915, 0.013004693202674389, -0.009162678383290768, -0.034769922494888306, -0.01937711611390114, 0.002293763216584921, 0.0267518050968647, -0.015652650967240334, 0.02040412835776806, -0.017805665731430054, 0.01551654189825058, -0.015108211897313595, 0.007875820621848106, 0.004658674821257591, -0.005008229985833168, -0.02798916958272457, 0.004098767414689064, -0.005936252884566784, 0.03553708642721176, -0.02357177995145321, -0.021752854809165, 0.020453622564673424, -0.020701095461845398, 0.0190801490098238, -0.005410373210906982, 0.016197092831134796, -0.006551841273903847, -0.01653118059039116, -0.02317582443356514, -0.0014624092727899551, -0.026801299303770065, -0.011717835441231728, 0.0005289730033837259, 0.011674527078866959, 0.008086171932518482, 0.022643757984042168, -0.018325356766581535, -0.0004539578512776643, -0.016890015453100204, -0.02338617481291294, 0.03432447090744972, -0.026974530890583992, -0.01838722638785839, 0.012076670303940773, -0.01775616966187954, 0.003002153942361474, 0.023336680606007576, -0.014440035447478294, 0.009156491607427597, 0.030191676691174507, 0.016506433486938477, 0.027617959305644035, 0.008673920296132565, 0.0011762689100578427, 0.017929401248693466, 0.03103308379650116, 0.0005827210261486471, -0.000628348789177835, 0.004268905147910118, 0.019154392182826996, 0.027890179306268692, -0.016308454796671867, 0.029078049585223198, -0.01593724638223648, -0.011358999647200108, 0.014811244793236256, -0.01890691928565502, 0.0017586032627150416, -0.011445615440607071, 0.01653118059039116, -0.016890015453100204, 0.006527094170451164, -0.03368104249238968, -0.002581450156867504, 0.0008445007842965424, 0.01250974740833044, -0.004609180148690939, 0.003070208942517638, 0.021010437980294228, 0.02623211219906807, -0.0008398606441915035, -0.03063712641596794, 0.020800085738301277, 0.020465996116399765, 0.010096888057887554, -0.0158382561057806, -0.05122686177492142, -0.03316134959459305, 0.0010649062460288405, -0.014959728345274925, -0.007671655621379614, 0.0043029324151575565, -0.02103518508374691, -0.0070900944992899895, -0.004785504657775164, -0.01352438610047102, 0.02613312378525734, -0.006236313376575708, -0.020589733496308327, 0.03917493671178818, -0.014625639654695988, 0.0007145775598473847, 0.009830854833126068, 0.01766955479979515, 0.0021112519316375256, -0.016357949003577232, 0.0014376620529219508, 0.003968844190239906, 0.037195153534412384, -0.042812786996364594, 0.03714565932750702, 0.008525436744093895, -0.008704854175448418, 0.03370578959584236, 0.005091751925647259, 0.011544603854417801, -0.017521070316433907, -0.002714466769248247, 0.01837485283613205, -0.0237945057451725, -0.024338945746421814, 0.035388603806495667, -0.026157870888710022, 0.016271334141492844, 0.025687672197818756, -0.015590784139931202, 0.006211566273123026, 0.017174609005451202, -0.031082578003406525, 0.01706324703991413, 0.016766279935836792, -0.020998062565922737, -0.002066397573798895, 0.0009775173384696245, -0.011315692216157913, 0.02479677088558674, 0.007349940948188305, -0.007516984827816486, -0.02162911929190159, -0.024140967056155205, -0.048158198595047, -0.02389349415898323, 0.027444729581475258, -0.0028799641877412796, 0.03316134959459305, -0.018350105732679367, -0.05147433280944824, -0.0276674535125494, -0.03244367986917496, -0.012014802545309067, 0.0013928075786679983, -0.01634557545185089, 0.03494315221905708, 0.014662761241197586, -0.020602107048034668, 0.03417598828673363, -0.014427661895751953, 0.011018724180758, 0.023745011538267136, -0.010338174179196358, -0.01675390638411045, 0.04132794961333275, 0.013363528996706009, -0.004154448863118887, -0.03865524381399155, -0.03387901932001114, 0.0003112743142992258, -0.035462845116853714, 0.032814886420965195, 0.008766722865402699, 0.00561763159930706, 0.014761749655008316, 0.03766535222530365, -0.00944108609110117, 0.012237527407705784, -0.037615858018398285, 0.002187040401622653, -0.00021518529683817178, -0.0138337267562747, 0.005073191598057747, -0.006276527885347605, 0.01306656189262867, 0.040882498025894165, -0.0009048222564160824, -0.03702192381024361, 0.0026572386268526316, -0.015875376760959625, 0.010783625766634941, 0.01847384124994278, -0.02880582958459854, -0.02052786573767662, -0.015986740589141846, -0.04412439092993736, -0.02051549218595028, 0.011284757405519485, 0.020379381254315376, 0.022198306396603584, 0.03360680118203163, -0.015665026381611824, -0.0021359992679208517, 0.00757885305210948, -0.0016132129821926355, 0.015615531243383884, -0.03197348117828369, -0.028434619307518005, 0.02900380641222, 0.02694978378713131, -0.011612659320235252, -0.007844886742532253, 0.016407443210482597, -0.0061713517643511295, 0.004315305966883898, 0.024648286402225494, 0.014229683205485344, -0.017125114798545837, -0.018213994801044464, -0.013945089653134346, 0.018424347043037415, -0.009663810953497887, -0.014613266102969646, 0.018548082560300827, -0.014613266102969646, 0.014328672550618649, 0.046500131487846375, -0.0027918019331991673, 0.04687134176492691, -0.02858310379087925, -0.014526651240885258, -0.003981218207627535, 0.01827586255967617, 0.018115006387233734, -0.004244157578796148, -0.002488647820428014, -0.014019331894814968, 0.0005626138299703598, 0.018919292837381363, 0.016815774142742157, 0.019537974148988724, 0.008024304173886776, -0.025180352851748466, 0.009286414831876755, -0.03687344118952751, 0.028607850894331932, -0.004142075311392546, -0.01899353414773941, -0.010288679972290993, 0.0016828147927299142, 0.01455139834433794, 0.005626911763101816, 0.029152290895581245, 0.0014461688697338104, -0.012478813529014587, 0.028236642479896545, 0.02216118574142456, -0.003084129188209772, 0.003978124354034662, 0.01622183993458748, -0.03217145800590515, 0.011829197406768799, -0.020082414150238037, 0.013573880307376385, 0.007801578845828772, 0.015764014795422554, 0.03474517539143562, -0.0032944809645414352, 0.05597833916544914, 0.009874163195490837, 0.01352438610047102, -0.0016859081806614995, 0.0011793624144047499, 0.001962768379598856, 0.032220952212810516, -0.012392198666930199, 0.0048906803131103516, 0.01889454573392868, -0.012392198666930199, 0.018040763214230537, -0.006205379497259855, -0.0009117824374698102, 0.024128593504428864, -0.0017848972929641604, 0.01674153283238411, 0.020490745082497597, -0.016976630315184593, 0.02510611154139042, -0.016283707693219185, -0.019983425736427307, 0.012515935115516186, -0.02144351415336132, -0.039372917264699936, -0.005416559986770153, -0.037318892776966095, 0.02296547219157219, -0.045064788311719894, 0.0037089979741722345, 0.023534659296274185, -0.007690215948969126, -0.0116869006305933, 0.0032697338610887527, -0.04095674306154251, 0.026578573510050774, 0.0002832403115462512, 0.004630833864212036, 0.020490745082497597, -0.023250065743923187, -0.04452034831047058, -0.0005622271564789116]\n",
            "[0.01005485374480486, -0.004231312777847052, 0.029938889667391777, 0.02830905094742775, 0.03462781012058258, -0.0036075860261917114, -0.03292274847626686, 0.025174744427204132, 0.02585175447165966, -0.023244012147188187, 0.024748479947447777, -0.03858957439661026, -0.03405109792947769, -0.019106728956103325, 0.001585175166837871, 0.0019275981467217207, 0.02407146990299225, -0.051101721823215485, 0.002687667263671756, -0.03603198006749153, 0.04064567759633064, 0.06729981303215027, 0.0009559632744640112, 0.014317509718239307, -0.041748955845832825, 0.0021642381325364113, -0.0377621166408062, 0.02605235017836094, -0.052606191486120224, -0.07697854936122894, 0.03151857852935791, -0.02708040364086628, -0.005942644085735083, 0.02274252288043499, 0.0037392268422991037, 0.02062373235821724, -0.0008243224583566189, 0.038639724254608154, -0.021150296553969383, -0.03292274847626686, -0.024322213605046272, 0.051653362810611725, 0.041748955845832825, 0.02848457172513008, 0.029462475329637527, 0.04255133494734764, -0.009528289549052715, -0.034677959978580475, -0.02456042170524597, -0.020260153338313103, -0.06173329055309296, 0.018843447789549828, 0.011126785539090633, -0.06088075786828995, -0.0259520523250103, -0.015345561318099499, 0.04771667346358299, 0.015358098782598972, -0.04899546876549721, -0.004914591554552317, 0.011377530172467232, -0.02850964665412903, 0.008450089022517204, -0.008562923409044743, 0.003098261309787631, -0.006556967739015818, -0.004720264580100775, -3.572618879843503e-05, 0.0016972266603261232, 0.008763519115746021, 0.0008556654793210328, 0.04626235365867615, 0.010255448520183563, -0.0017520770197734237, -0.0025309519842267036, -0.008155464194715023, 7.578653821838088e-06, 0.006983233615756035, 0.0034414678812026978, 0.008600535802543163, -0.03706003352999687, 0.02755681797862053, 0.028710242360830307, -0.0716627687215805, -0.044206250458955765, -0.03746122494339943, -0.05812256783246994, -0.008005017414689064, -0.007027113810181618, 0.05370946601033211, 0.01381602045148611, 0.08224418759346008, 0.008544118143618107, 0.005914435256272554, 0.02410908043384552, -0.002540354849770665, 0.018279271200299263, -0.011465290561318398, -0.001623570453375578, 0.007296664174646139, 0.04327849671244621, -0.04874472692608833, 0.017088236287236214, -0.038163308054208755, 0.02680458314716816, -0.005760854110121727, 0.04217521846294403, -0.01584704965353012, 0.028835613280534744, 0.001976179890334606, -0.09097009152173996, -0.019219564273953438, -0.0035104225389659405, 0.06388968974351883, -0.015307949855923653, -0.002045134548097849, -0.029136506840586662, 0.06007837504148483, 0.009177247993648052, 0.036006905138492584, 0.024974148720502853, 0.06078045815229416, -0.007359350100159645, -0.004146686755120754, -0.015132429078221321, -0.020686419680714607, -0.016248241066932678, -0.030315006151795387, -0.008744713850319386, -0.02738129533827305, -0.017401665449142456, -0.0072653209790587425, 0.021250594407320023, -0.006613385397940874, -0.010600222274661064, -0.000870553485583514, -0.025876829400658607, -0.020824328064918518, -0.0034257962834089994, -0.006951890420168638, -0.004375490825623274, -0.0028663226403295994, 0.04749100282788277, 0.017602261155843735, -0.06208433210849762, -0.028760390356183052, -0.035254672169685364, 0.006757563445717096, -0.025826681405305862, 0.03831375390291214, -0.028258901089429855, -0.01799091510474682, 0.007490991149097681, -0.006425327155739069, 0.027155626565217972, -0.031844548881053925, -0.0070145768113434315, 0.0031029628589749336, -0.013615424744784832, 0.0115593196824193, -0.04197462275624275, 0.03763674572110176, 0.044682662934064865, 0.0056229447945952415, 0.004118477925658226, -0.021626710891723633, -0.009346500039100647, 0.0007154053309932351, -0.06574519723653793, -0.006431595887988806, -0.020473286509513855, -0.004579220898449421, -0.026729360222816467, 0.0008196209673769772, -0.00490205455571413, 0.00761636346578598, 0.0405704565346241, 0.0069017414934933186, 0.019721053540706635, -0.04759129881858826, -0.01307632401585579, 0.051277242600917816, -0.028133530169725418, -0.02397117204964161, -0.035254672169685364, -0.032120365649461746, -0.028283976018428802, 0.022767597809433937, -0.008362327702343464, 0.0353800430893898, -0.05097635090351105, 0.01598495990037918, 0.07336783409118652, 0.006111896596848965, -0.015533619560301304, -0.0011471559992060065, 0.0032377380412071943, 0.05245574191212654, -0.0339508019387722, 0.039868369698524475, -0.011471559293568134, -0.009760228917002678, 0.044657591730356216, 0.010205299593508244, -0.02708040364086628, -0.014304972253739834, -0.020172392949461937, -0.000138105358928442, -0.06303715705871582, 0.010650371201336384, 0.02763204090297222, 0.02725592441856861, -0.04122238978743553, 0.010694251395761967, -0.03086664527654648, -0.027130551636219025, -0.04169880598783493, 0.025776531547307968, 0.06258582323789597, 0.0009050308144651353, -0.03984329476952553, -0.017439277842640877, 0.026929955929517746, -0.027130551636219025, -0.0020874477922916412, 0.06930577009916306, 0.0013994675828143954, -0.05737033486366272, 0.00669487752020359, -0.05952673777937889, 0.03121768683195114, -0.008243224583566189, -0.002281774766743183, -0.000662122096400708, 0.012324091047048569, -0.0023052820470184088, 0.019131803885102272, 0.014167062938213348, -0.0046544442884624004, 0.013151547871530056, 0.005365931894630194, 0.030640974640846252, 0.010286792181432247, -0.013928855769336224, 0.015508545562624931, 0.04067075252532959, 0.01130230724811554, -0.013740796595811844, -0.012888265773653984, 0.0014135719975456595, 0.03159380331635475, 0.039291657507419586, 0.053458720445632935, -0.016110332682728767, -0.027807561680674553, -0.0019589411094784737, 0.023883411660790443, 0.008255762048065662, -0.006409655325114727, -0.027983082458376884, -0.03229588642716408, 0.02438489906489849, -0.02444758638739586, -0.028434423729777336, -0.018454793840646744, 0.009992167353630066, -0.02202790230512619, -0.010305597446858883, 0.01115186046808958, -0.008475163020193577, 0.021112684160470963, -0.012148569338023663, 0.007842033170163631, 0.013665573671460152, -0.005309514235705137, -0.03916628658771515, -0.018116287887096405, -0.005864286329597235, -0.019420159980654716, 0.04021941497921944, -0.002656324300915003, -0.008788594044744968, -0.02434728853404522, 0.021940141916275024, 0.035329896956682205, -0.0025763993617147207, -0.011308575980365276, 0.012888265773653984, -0.03894061595201492, -0.002817740896716714, -0.07702869921922684, -0.05215485021471977, -0.010462312959134579, -0.04518415406346321, -0.03219559043645859, -0.0022472974378615618, -0.01164708100259304, 0.00811158400028944, 0.01338975504040718, 0.0040432545356452465, 0.032496482133865356, 0.0026845328975468874, -0.03738600015640259, 0.03141828253865242, -0.006933084689080715, -0.02206551283597946, 0.031117388978600502, 0.017953304573893547, -0.01476884912699461, 0.013615424744784832, -0.008713370189070702, -0.0015687200939282775, 0.06689862161874771, -0.011415141634643078, -0.044507142156362534, -0.05330827459692955, 0.06484252214431763, -0.0214762631803751, -0.03359976038336754, -0.0316188782453537, -0.041272539645433426, -0.03472810983657837, -0.0005696601001545787, 0.0036075860261917114, 0.0015702872769907117, 0.020811790600419044, -0.00017934106290340424, -0.05125217139720917, 0.04851905629038811, -0.060329120606184006, -0.014543179422616959, -0.013464977964758873, -0.004619966726750135, -0.07141202688217163, -0.0717630684375763, -0.03894061595201492, 0.049672480672597885, -0.03758659586310387, -0.011797527782619, 0.004444445949047804, 0.01519511453807354, -0.039191361516714096, -0.03452751412987709, -0.033925727009773254, 0.0011150293285027146, -0.003278483869507909, -0.05102650076150894, -0.0012952518882229924, 0.07702869921922684, 0.03028993122279644, -0.02209058776497841, -0.026278020814061165, 0.018768223002552986, 0.01128350105136633, 0.03738600015640259, 0.010023510083556175, -0.027230849489569664, -0.05546467751264572, -0.02793293446302414, -0.009691273793578148, -0.00532831996679306, -0.00567622808739543, -0.016336001455783844, -0.00682024983689189, -0.009465604089200497, 0.012524686753749847, -0.046663545072078705, 0.028935911133885384, -0.009496946819126606, 0.0035762430634349585, 0.002501176204532385, -0.03796271234750748, -0.06057986244559288, 0.031944844871759415, -0.04688921570777893, -0.01679988019168377, 0.03440214321017265, 0.04375490918755531, 0.029587848111987114, -0.008117851801216602, 0.0165240615606308, 0.033073194324970245, -0.0013853631680831313, 0.040068965405225754, -0.022729985415935516, 0.02188999205827713, -0.03181947395205498, 0.006738757714629173, -0.004547877702862024, -0.007578751537948847, -0.000708353123627603, -0.013013637624680996, -0.023808186873793602, -0.03151857852935791, -0.008669489994645119, 0.014543179422616959, 0.01461840234696865, 0.018191510811448097, 0.03502900153398514, -0.023181326687335968, -0.01915687695145607, -0.006475476082414389, 0.012850654311478138, -0.014944370836019516, -0.015044668689370155, -0.028283976018428802, -0.03595675900578499, 0.020786717534065247, -0.03886539116501808, -0.019583143293857574, -0.002150133950635791, -0.04149821028113365, 0.058924950659275055, -0.015959884971380234, -0.026077425107359886, -0.014317509718239307, -0.050525009632110596, 0.07106098532676697, -0.022479241713881493, 0.05355902016162872, 0.036182425916194916, -0.034878555685281754, -0.03758659586310387, -0.04982292652130127, 0.017201071605086327, 0.02793293446302414, 0.015959884971380234, -0.011615737341344357, 0.03056575171649456, -0.03247140720486641, 0.011640812270343304, 0.011810064315795898, 0.011947973631322384, -0.0419996976852417, -0.02008463256061077, 0.02615264803171158, -0.034853480756282806, -0.03432691842317581, 0.006080553401261568, -0.006807712372392416, 0.02516220696270466, -0.04435669630765915, 0.02478609047830105, 0.0015365934232249856, -0.023607591167092323, -0.00944052916020155, -0.030315006151795387, 0.023181326687335968, -0.06614638864994049, 0.006390849594026804, -0.01669958233833313, 0.01646137423813343, -0.046362653374671936, -0.028258901089429855, -0.02650369144976139, -0.014919295907020569, 0.027782486751675606, -0.02407146990299225, 0.03427676856517792, 0.00976649671792984, 0.0153330247849226, -0.001357938046567142, -0.024936538189649582, 0.021187907084822655, -0.0027534877881407738, -0.04182417690753937, 0.007917257025837898, 0.023845799267292023, -0.0006856294348835945, -0.016950326040387154, 0.011672155000269413, -0.00819307565689087, 0.00889515969902277, 0.03166902810335159, -0.03342423960566521, 0.003435199148952961, -0.017840469256043434, -0.03959255293011665, -0.018091212958097458, -0.023432070389389992, 0.010136345401406288, 0.04169880598783493, -0.05097635090351105, 0.05130231752991676, -0.004478923045098782, -0.02820875309407711, -0.01528287585824728, 0.018667925149202347, 0.004046388901770115, 0.0053377230651676655, 0.019545530900359154, -0.015496008098125458, 0.06263596564531326, -0.013063786551356316, -0.03650839626789093, -0.01608525775372982, 0.012562298215925694, -0.011327381245791912, -0.019984334707260132, -0.013289457187056541, -0.002740950556471944, 0.010067390277981758, -0.020335376262664795, 0.026027275249361992, 0.016962863504886627, 0.018968818709254265, -0.03229588642716408, -0.014229748398065567, 0.018254198133945465, -0.05365931615233421, 0.023093566298484802, 0.01424228586256504, 0.020260153338313103, 0.030816495418548584, -0.025262504816055298, -0.024773553013801575, 0.012631252408027649, 0.0054192147217690945, -0.017840469256043434, -0.016160480678081512, -0.02516220696270466, -0.0316188782453537, -0.002181476913392544, -0.011270963586866856, 0.05762108042836189, -0.007447110954672098, -0.019645828753709793, -0.0071148741990327835, -0.0112020093947649, -0.03452751412987709, 0.03678421303629875, -0.04352923855185509, 0.0012999533209949732, 0.0005206865607760847, -0.033173494040966034, 0.006757563445717096, 0.002548190765082836, 0.026002202183008194, 0.008882623165845871, 0.03397587686777115, 0.013953929767012596, -0.03039022907614708, -0.01118320319801569, 0.0041937013156712055, 0.028334125876426697, -0.0259520523250103, -0.001825733226723969, -0.03477825969457626, -0.004964740481227636, 0.03114246390759945, 0.018492404371500015, 0.029663071036338806, 0.014693626202642918, 0.0063845813274383545, 0.024322213605046272, -0.042802080512046814, -0.03264693170785904, 0.026303095743060112, 0.002034164499491453, 0.03803793713450432, -0.02325654961168766, -0.007252783980220556, -0.01608525775372982, -0.011502902954816818, 0.018454793840646744, 0.016862565651535988, -0.011546783149242401, -0.02906128391623497, -0.019583143293857574, 0.04302775114774704, -0.0013540200889110565, 0.04548504576086998, -0.009214859455823898, 0.014681088738143444, 0.05225514620542526, -0.011308575980365276, -0.004472654312849045, -0.010888578370213509, 0.005745182745158672, 0.0269048810005188, 0.010017241351306438, -0.05521393194794655, 0.0014002511743456125, 0.012349165044724941, -0.011841407977044582, 0.014066765084862709, 0.013577813282608986, -0.011220814660191536, 0.027105476707220078, -0.004845636896789074, 0.0008329417905770242, -0.008675758726894855, 0.040896423161029816, 0.0021987156942486763, -0.016473911702632904, -0.009478140622377396, -0.010148882865905762, 0.02175208367407322, -0.006215328350663185, 0.012731550261378288, -0.007252783980220556, -0.0391412116587162, -0.003228335175663233, -0.03337408974766731, 0.007892182096838951, 0.007810690440237522, -0.019282249733805656, -0.0057389140129089355, 0.03264693170785904, -0.03884031996130943, 0.03018963523209095, -0.03520452231168747, -0.03001411259174347, -0.012330359779298306, -0.014392732642591, -0.0020122244022786617, -0.02496161125600338, -0.0053910063579678535, 0.01023037452250719, 0.023206401616334915, -0.031844548881053925, -0.03944210708141327, 0.015395710244774818, -0.023883411660790443, -0.0032972898334264755, 0.005926972255110741, 0.016173018142580986, -0.008105315268039703, -0.030716197565197945, 0.03625765070319176, 0.05082590505480766, 0.03848927468061447, 0.006469207350164652, -0.010794549249112606, 0.0062529402785003185, 0.0052060820162296295, -0.003203260712325573, 0.005989658646285534, 0.0032565437722951174, -0.004253252875059843, -0.0018680463545024395, 0.022479241713881493, 0.012831848114728928, -0.02652876451611519, 0.025212356820702553, 0.0008204045589081943, 0.008738445118069649, 0.00985425803810358, -0.0015350263565778732, 0.01834195852279663, 0.00038218943518586457, -0.030515601858496666, 0.0292368046939373, 0.035906609147787094, 0.0048048910684883595, -0.03314841911196709, 0.01381602045148611, -0.017288831993937492, 0.026754435151815414, 0.0434289425611496, -0.05611661449074745, 0.004776682239025831, 0.022190885618329048, -0.007679049391299486, -0.009622318670153618, -0.02188999205827713, 0.00518100755289197, 0.020235078409314156, 0.04042000696063042, -0.011603200808167458, -0.0660962462425232, 0.044005654752254486, 0.03763674572110176, 0.0007154053309932351, 0.018906133249402046, 0.0053910063579678535, -0.022429093718528748, -0.017940767109394073, -0.011860213242471218, 0.019207026809453964, -0.04423132538795471, 0.01810375042259693, -0.013903780840337276, -0.044782962650060654, -0.03129291161894798, -0.018893595784902573, -0.007152486126869917, 0.008406208828091621, 0.03219559043645859, -0.01429243478924036, -0.002748786238953471, 0.010267985984683037, 0.008406208828091621, -0.02222849801182747, -0.003767435671761632, -0.028710242360830307, 0.013653036206960678, -0.009202321991324425, -0.014304972253739834, -0.04944681003689766, -0.002800502348691225, 0.013778408989310265, -0.0013093563029542565, -0.0278326366096735, -0.04067075252532959, 0.021701933816075325, -0.047516077756881714, -0.049873076379299164, 0.013001101091504097, -0.011690961197018623, 0.012455731630325317, -0.02236640639603138, -3.930125785700511e-06, -0.005930106621235609, 0.0015569664537906647, 0.011195740662515163, -0.02605235017836094, -0.05416080728173256, -0.0064033870585262775, -0.006563236471265554, -0.027782486751675606, -0.016486449167132378, -0.007127411663532257, -0.03387557715177536, -0.02963799610733986, 0.030415304005146027, -0.010017241351306438, 0.04776682332158089, -0.029838591814041138, 0.047315482050180435, 0.0015483470633625984, 0.002825576812028885, -0.018492404371500015, 0.03668391704559326, 0.005892495159059763, -0.034677959978580475, -0.031944844871759415, -0.017978379502892494, 0.0014864446129649878, -0.018617777153849602, -0.016135407611727715, -0.03309826925396919, 0.02089955098927021, -0.019595680758357048, -0.027331147342920303, -0.000623726868070662, -0.00577965984120965, 0.03613227978348732, 0.015007056295871735, -0.05220500007271767, 0.04179910197854042, 0.009114561602473259, 0.019131803885102272, 0.005249962210655212, -0.023331772536039352, 0.0074157677590847015, -0.007371887564659119, -0.031643953174352646, 0.023645203560590744, -0.004090269096195698, 0.004475788678973913, 0.06444133073091507, -0.02410908043384552, 0.017940767109394073, 0.028609944507479668, 0.029788443818688393, 0.010581417009234428, 0.012468269094824791, 0.003544899867847562, -0.010650371201336384, -0.024986686185002327, 0.005093247164040804, -0.04036986082792282, -0.01396646723151207, -0.02141357772052288, -0.012712744995951653, -0.006340700667351484, 0.028233828023076057, -0.02182730659842491, 0.003974299877882004, 0.002819308079779148, -0.015533619560301304, -0.0330481231212616, 0.013841094449162483, -0.06489267200231552, 0.004867576994001865, 0.0041842982172966, -0.023595055565238, -0.031844548881053925, -0.03224574029445648, -0.01256856694817543, 0.03670899197459221, -0.021676858887076378, 0.028735317289829254, 0.01195424236357212, -0.007045919541269541, 0.02565115876495838, -0.04776682332158089, -0.0008611505618318915, 0.0022441630717366934, 0.019695978611707687, 0.010600222274661064, 0.010882309637963772, -0.022253571078181267, 0.017740171402692795, 0.004099672194570303, -0.0007114874315448105, 0.015019593760371208, -0.03309826925396919, -0.030741272494196892, 0.008450089022517204, 0.017602261155843735, -0.017777783796191216, 0.005350260064005852, 0.00292430748231709, -0.033073194324970245, 0.009127099066972733, -0.0037392268422991037, 0.0010421567130833864, 0.000922269478905946, 0.05822286754846573, -0.0025278176181018353, -0.02230372093617916, -0.0214511901140213, 0.0001323264732491225, 0.04403072968125343, -0.05130231752991676, 0.01949538290500641, 0.013264382258057594, -0.021777156740427017, 0.025926977396011353, 0.02698010578751564, -0.024472659453749657, 0.01335214264690876, -0.028609944507479668, 0.012342896312475204, 0.002118790755048394, -0.04272685945034027, 0.0010860370239242911, 0.012606178410351276, -0.05711958929896355, 0.002073343377560377, -0.024848777800798416, -0.031643953174352646, -0.01476884912699461, 0.0016392419347539544, 0.018191510811448097, 0.009346500039100647, -0.038439128547906876, -0.03427676856517792, 0.024409973993897438, -0.04257640987634659, -0.010487387888133526, 0.0029728892259299755, -0.02151387557387352, 0.006644728593528271, -0.008807399310171604, -0.040520306676626205, 0.04277700558304787, 0.036558542400598526, -0.022629689425230026, 0.0021093878895044327, 0.010274254716932774, -0.00851904321461916, 0.005785928573459387, 0.001059395377524197, 0.03716032952070236, 0.02072403021156788, 0.011590663343667984, 0.005243693944066763, 0.033925727009773254, 0.02543802745640278, -0.011001413688063622, 0.01202319748699665, 0.01068798266351223, 0.0181664377450943, -0.011427679099142551, 0.04676384478807449, 0.012831848114728928, 0.032120365649461746, 0.015157503075897694, -0.04039493575692177, -0.020435674116015434, -0.0038363903295248747, 0.02509952150285244, -0.008255762048065662, -0.02632816880941391, 0.0018225988605991006, -0.02605235017836094, -0.0259520523250103, 0.017715096473693848, 0.007365618832409382, -0.0067512947134673595, 0.01786554418504238, -0.006372043862938881, 0.026303095743060112, -0.03673406317830086, 0.05842346325516701, 0.008888891898095608, -0.02192760445177555, 0.06484252214431763, -0.01434258371591568, -0.04631250351667404, 0.0005994359962642193, -0.005014889407902956, -0.0292368046939373, 0.012988563627004623, -0.004268924705684185, -0.00771666131913662, 0.0061996569857001305, 0.005807868670672178, 0.0011338351760059595, -0.043077901005744934, 0.02062373235821724, -0.003541765734553337, -0.015295412391424179, -0.03916628658771515, 0.040068965405225754, -0.035806309431791306, -0.014079301618039608, 0.019821349531412125, 0.012349165044724941, -0.011665886268019676, -0.01005485374480486, -0.03821345791220665, -0.0017113309586420655, -0.003689077915623784, -0.02953769825398922, 0.006209060084074736, -0.026654137298464775, 0.055665273219347, 0.01031186617910862, -0.012267673388123512, 0.0320451445877552, -0.026553839445114136, 0.03565586358308792, 0.024234453216195107, 0.045811016112565994, -0.018755685538053513, -0.042877305299043655, 0.021501338109374046, 0.024397436529397964, -0.009998436085879803, -0.0009112994302995503, 0.05396021157503128, -0.015220189467072487, 0.03706003352999687, -0.005839211866259575, 0.019207026809453964, 0.03277230262756348, 0.06584549695253372, -0.03500392660498619, -0.0006425327155739069, -0.028935911133885384, -0.06765085458755493, 0.024798627942800522, 0.010938727296888828, -0.004839368164539337, 0.03357468545436859, -0.022491779178380966, -0.011402605101466179, 0.0075474088080227375, -0.029863666743040085, -0.029587848111987114, 0.015759289264678955, -0.003616988891735673, -0.03186962381005287, 0.019181951880455017, 0.00015661734505556524, -0.01834195852279663, 0.004187432583421469, 0.0022614016197621822, 0.018906133249402046, 0.009120830334722996, -0.02478609047830105, 0.03548034280538559, -0.02212820015847683, 0.0051872762851417065, 0.006920547224581242, 0.01068798266351223, 0.03894061595201492, 0.06088075786828995, 0.005334588699042797, 0.006312491837888956, -0.015696603804826736, 0.0020420001819729805, -0.029412327334284782, 0.008337253704667091, 0.009691273793578148, 0.01574675366282463, 0.0006785772275179625, 0.014405270107090473, -0.00356057146564126, -0.00973515398800373, 0.009860526770353317, -0.03407617285847664, 0.036383021622896194, -0.0943300724029541, -0.01622316800057888, -0.0005743615329265594, -0.003613854758441448, 0.015069742687046528, 0.004808025434613228, -0.03999374434351921, -0.0112020093947649, -0.029688145965337753, -0.018454793840646744, 0.04573579132556915, 0.000779658614192158, 0.005221753381192684, -0.013427366502583027, -0.026177722960710526, -0.057520780712366104, -0.0013352143578231335, -0.02298073098063469, -0.007290395442396402, 0.013627962209284306, 0.012186181731522083, 0.012863191775977612, -0.012217524461448193, -0.011979317292571068, -0.008030091412365437, 0.0207616426050663, -0.010713057592511177, -0.0031468430534005165, 0.03337408974766731, 0.030615899711847305, 0.010130076669156551, 0.03181947395205498, -0.026102500036358833, 0.00014378628111444414, -0.002733114641159773, -0.0017677485011518002, -0.01164708100259304, -0.020222540944814682, 0.013176621869206429, 0.034000951796770096, 0.0038363903295248747, 0.0025372207164764404, -0.011089174076914787, -0.04781696945428848, 0.009252470917999744, 0.010562610812485218, -0.004272059071809053, -0.01538317371159792, 0.0017912557814270258, -0.03578123450279236, -0.013364680111408234, 0.021463727578520775, -0.00296191917732358, -0.022993268445134163, -0.014004078693687916, 0.022717449814081192, -0.021062536165118217, -0.03387557715177536, -0.01396646723151207, 0.0009708512225188315, 0.005663690622895956, 0.012913340702652931, -0.0009473439422436059, -0.006209060084074736, -0.015445859171450138, -0.0029916949570178986, 0.006970696151256561, 8.42344707052689e-06, -0.005895629525184631, 0.035430192947387695, -0.04453221708536148, 0.012248867191374302, 0.03688451275229454, -0.013427366502583027, 0.020774180069565773, 0.020260153338313103, -0.023419532924890518, -0.011709766462445259, -0.004757876507937908, -0.042701784521341324, 0.01775270886719227, 0.02353236824274063, -0.01868046261370182, -0.01063783373683691, 0.004964740481227636, 0.025262504816055298, -0.027030253782868385, -0.017013011500239372, -0.009879332035779953, 0.017326442524790764, 0.003170350333675742, 0.01524526346474886, -0.011371261440217495, 0.0021485667675733566, -0.0028537854086607695, 0.03234603628516197, -0.0033035583328455687, -0.02803323231637478, 0.038639724254608154, 0.009503215551376343, -0.0056041390635073185, -0.005936375353485346, 0.02178969420492649, 0.0221658106893301, 0.04972262680530548, 0.004306536167860031, -0.002552892081439495, 0.0028663226403295994, -0.03452751412987709, -0.005215485114604235, -0.0022880432661622763, -0.022767597809433937, -0.021727008745074272, 0.009465604089200497, 0.0003580944612622261, -0.023707889020442963, 0.024472659453749657, 0.005347125697880983, 0.015307949855923653, -0.024535346776247025, 0.020949700847268105, 0.033549610525369644, 0.007422036491334438, 0.010581417009234428, -0.005083844065666199, -0.008055166341364384, -0.01523272693157196, -0.032220665365457535, -0.037486299872398376, 0.0070333825424313545, 0.009985898621380329, 0.024234453216195107, 0.003501019673421979, 0.010587685741484165, 0.023432070389389992, 0.025801606476306915, -0.02034791372716427, 0.03502900153398514, 0.007139948662370443, -0.009315157309174538, 0.013276919722557068, -0.028083380311727524, -0.012775430455803871, 0.00034594902535900474, 0.0306660495698452, -0.005607273429632187, 0.023106103762984276, 0.0007204985595308244, 0.017740171402692795, 0.003275349736213684, 0.07161261886358261, 0.01065663993358612, 0.01444288156926632, -0.024058932438492775, 0.0017755843000486493, -0.01782793179154396, -0.005547721404582262, -0.020372988656163216, -0.007735467050224543, 0.02120044454932213, 0.0108572356402874, -0.022429093718528748, -0.008356059901416302, 0.02110014669597149, -0.009089486673474312, -0.044381771236658096, 0.0011777154868468642, 0.026879807934165, 0.020435674116015434, -0.019344935193657875, -0.011195740662515163, -0.012643789872527122, -0.010305597446858883, -0.002115656388923526, -0.035906609147787094, 0.021764619275927544, 0.015320487320423126, 0.010700520128011703, -0.0169754009693861, 0.03472810983657837, -0.023106103762984276, 0.020598657429218292, -0.015082280151546001, 0.011546783149242401, 0.023043416440486908, -0.028835613280534744, 0.012230061925947666, -0.020222540944814682, -0.004190566949546337, -0.014994519762694836, -0.019307324662804604, 0.026278020814061165, 0.005964584182947874, -0.01082589291036129, -0.025701308622956276, -0.01524526346474886, 0.012850654311478138, -0.03292274847626686, -0.01072559505701065, -0.03482840582728386, -0.029211731627583504, -0.02086194045841694, -0.037110183387994766, 0.002590503776445985, 0.007904719561338425, 0.01307632401585579, 0.0419996976852417, -0.05952673777937889, 0.009189784526824951, -0.004334744997322559, 0.006657265592366457, -0.004855039995163679, 0.005883092060685158, -0.00488324835896492, -0.04784204438328743, 0.00042391486931592226, 0.014994519762694836, 0.013878706842660904, -0.01812882535159588, -0.015922274440526962, 0.02773233875632286, 0.0698574110865593, 0.014643477275967598, -0.026202797889709473, 0.00044859753688797355, 0.03460273519158363, -0.014605865813791752, 0.004203104414045811, -0.03432691842317581, -0.056467656046152115, 0.005776525940746069, -0.019181951880455017, 0.00981664564460516, -0.0015154369175434113, -0.005218619480729103, 0.008700832724571228, -0.004325341898947954, -0.01755211316049099, -0.04077105224132538, 0.015132429078221321, -0.014956907369196415, -0.014430344104766846, 0.01560884341597557, -0.01741420291364193, 0.0012490209192037582, 0.00356057146564126, -0.03695973381400108, 0.010832160711288452, 0.003312961431220174, -0.00333803566172719, 0.0026782643981277943, -0.014192136935889721, -0.008788594044744968, -0.014493030495941639, -0.021162834018468857, 0.011126785539090633, -0.01340229157358408, -0.0349036306142807, -0.009384111501276493, -0.028283976018428802, -0.012443194165825844, 0.020824328064918518, -0.015658991411328316, 0.003682809416204691, 0.01135245617479086, -0.005259365309029818, 0.03698480874300003, 0.011960511095821857, -0.053157828748226166, -0.021601635962724686, -0.0072465152479708195, 0.04370476305484772, -0.014693626202642918, -0.00978530291467905, -0.016298390924930573, 0.03387557715177536, 0.01840464398264885, -0.01248080562800169, -0.03941703215241432, 0.007165023125708103, 0.0014660715823993087, 0.023005805909633636, 0.01939508505165577, -0.013577813282608986, -0.005068172700703144, 0.028810540214180946, 0.04177402704954147, 0.012217524461448193, 0.021438652649521828, -0.01844225637614727, -0.04395550489425659, 0.0071838293224573135, -0.008989189751446247, 0.06163299083709717, 0.00490832282230258, 0.025224894285202026, -0.007083531469106674, 0.00671995198354125, 0.003391318954527378, 0.012342896312475204, -0.003287886967882514, 0.007177560590207577, 0.01891867071390152, 0.016987938433885574, 0.021363429725170135, 0.010042316280305386, 0.016373613849282265, 0.01919448934495449, -0.01590973697602749, 0.01812882535159588, -0.005416080355644226, 0.01519511453807354, -0.02083686552941799, -0.027707263827323914, -0.006356372497975826, -0.020598657429218292, -0.010888578370213509, 0.008807399310171604, -0.0007373454864136875, -0.00901426374912262, 0.011998122557997704, -0.03507915139198303, -0.005140261724591255, 0.02642846666276455, 0.0017317039892077446, -0.011220814660191536, 1.618575151951518e-05, 0.029612921178340912, -0.01895628124475479, -0.020786717534065247, 0.0031327386386692524, -0.024121617898344994, 0.04568564146757126, -0.013515126891434193, 0.01947030797600746, 0.02393355965614319, -0.0191192664206028, -0.01302617508918047, -0.012838116846978664, 0.0405704565346241, -0.006575773935765028, 0.015759289264678955, -0.013189159333705902, 0.022454166784882545, 0.010393358767032623, 0.028760390356183052, 0.019370010122656822, -0.02264222502708435, -0.03477825969457626, -0.021639248356223106, -0.029136506840586662, 0.008769787847995758, 0.013803482986986637, -0.014894221909344196, 0.030891718342900276, -0.005043098237365484, -0.00853784941136837, 0.004463251680135727, 0.007302932906895876, 0.06940606981515884, 0.008976652286946774, 0.019144339486956596, -0.03991851955652237, 0.002598339691758156, 0.0029258744325488806, 0.03367498144507408, -0.0013532366137951612, 0.04398057982325554, 0.01925717480480671, -0.00033419535611756146, 0.003670272184535861, -0.03625765070319176, 0.03598183020949364, -0.036759138107299805, 0.017464352771639824, 0.03821345791220665, 0.008330984972417355, -0.032020069658756256, 0.009070681408047676, -0.008399940095841885, 0.04525937885046005, -0.0068641300313174725, 0.01108290534466505, -0.015796901658177376, 0.010374552570283413, 0.022441629320383072, -0.018667925149202347, -0.043253421783447266, -0.026754435151815414, -0.004040120169520378, -0.009183515794575214, -0.03909106180071831, 0.0528569333255291, -0.011289769783616066, 0.0344272144138813, -0.006832786835730076, 0.028710242360830307, 0.037034958600997925, -0.007904719561338425, -0.001129917218349874, -0.0012286478886380792, -0.004638772923499346, 0.02537534013390541, 0.012374239973723888, -0.012374239973723888, 0.006024135742336512, -0.003993105608969927, -0.012656327337026596, 0.034853480756282806, -0.0037204211112111807, -0.006205925717949867, 0.014405270107090473, 0.03763674572110176, 0.010067390277981758, -0.00425952160730958, -0.012800505384802818, -0.029888741672039032, -0.033624835312366486, 0.0014660715823993087, 0.020887013524770737, -0.0069456216879189014, -0.019106728956103325, -0.0018006587633863091, -0.0068829357624053955, -0.014743775129318237, 0.01338975504040718, 0.00797367375344038, 0.05365931615233421, -0.039968669414520264, 0.01646137423813343, 0.007829495705664158, -0.014367658644914627, -0.01391631830483675, -0.025400415062904358, -0.007917257025837898, 0.01210468914359808, 0.01933239959180355, 0.008450089022517204, 0.03625765070319176, -0.000769863894674927, -0.0043096705339848995, 0.019821349531412125, -0.011941705830395222, 0.02763204090297222, -0.040720902383327484, 0.0221658106893301, 0.008857548236846924, -0.010512461885809898, -0.016950326040387154, -0.008067703805863857, 0.015759289264678955, 0.004287730436772108, 0.005814137402921915, -0.028233828023076057, 0.038263607770204544, 0.05631720647215843, 0.0065005505457520485, 0.04613698273897171, 0.0003106880758423358, -0.03926658257842064, 0.020510897040367126, 0.032220665365457535, -0.001889986451715231, 0.006970696151256561, -0.014004078693687916, 0.019746126607060432, 0.019344935193657875, 0.01164708100259304, 0.005284439772367477, 0.0134399039670825, 0.009942018426954746, 0.01063783373683691, 0.0011651782551780343, -0.0028506512753665447, 0.021977752447128296, 0.01461840234696865, -0.0033756473567336798, 0.024911463260650635, 0.015445859171450138, 0.005068172700703144, 0.01933239959180355, 0.0002043175627477467, 0.007534871343523264, 0.006663534324616194, -0.00294938194565475, -0.014154525473713875, -0.021739546209573746, 0.027531743049621582, -0.008650683797895908, -0.015496008098125458, 0.033273790031671524, 0.013051250018179417, 0.03906598687171936, 0.005782794207334518, 0.007233977783471346, 0.03460273519158363, 0.009258739650249481, 0.011007682420313358, -0.015496008098125458, 0.010819624178111553, 0.011245889589190483, 0.015420785173773766, -0.036006905138492584, 0.03828867897391319, -0.05491304025053978, -0.007961137220263481, 0.0334743857383728, -0.03191976994276047, 0.014605865813791752, 0.0037329583428800106, 0.020235078409314156, -0.026754435151815414, -0.006544430740177631, -0.042300593107938766, -0.01538317371159792, 0.014906758442521095, 0.01253095455467701, 0.015583768486976624, -0.0382385328412056, -0.013778408989310265, -0.022441629320383072, 0.031368132680654526, 0.00179282296448946, -0.030716197565197945, 0.013088861480355263, -0.01727629452943802, 0.003422661917284131, 0.03520452231168747, -0.029286954551935196, -0.007064725272357464, 0.017238682135939598, -0.0034508707467466593, 0.0036859437823295593, 0.020435674116015434, 0.02222849801182747, 0.021162834018468857, -0.0134399039670825, 0.013251845724880695, 0.010374552570283413]\n",
            "1536\n",
            "1536\n",
            "1536\n"
          ]
        }
      ]
    },
    {
      "cell_type": "markdown",
      "source": [
        "NumPy's dot product function is a mathematical operation that takes two arrays of the same length and multiplies corresponding elements, followed by adding those products. In the context of comparing embeddings, it's extremely useful because it can measure the cosine similarity between two vectors when they're normalized. When embeddings (high-dimensional vectors that represent text) are compared, the angle between them can signify the degree of similarity. Smaller angles indicate more similar embeddings and larger angles suggest less similarity. By using the dot product, we effectively measure the cosine of the angle between two embeddings, giving us a quantifiable measure of their similarity. This is key in many natural language processing tasks, such as searching for documents similar to a given query in a large corpus.\n"
      ],
      "metadata": {
        "id": "2nQNQHf6QW5j"
      }
    },
    {
      "cell_type": "code",
      "source": [
        "import numpy as np\n"
      ],
      "metadata": {
        "id": "Vgip96KQNObz"
      },
      "execution_count": 77,
      "outputs": []
    },
    {
      "cell_type": "code",
      "source": [
        "np.dot(embedding1,embedding2)"
      ],
      "metadata": {
        "colab": {
          "base_uri": "https://localhost:8080/"
        },
        "id": "oWBccGioQ7Nd",
        "outputId": "f0d45d74-a141-46b4-b6d1-778fad069525"
      },
      "execution_count": 78,
      "outputs": [
        {
          "output_type": "execute_result",
          "data": {
            "text/plain": [
              "0.35451412912298347"
            ]
          },
          "metadata": {},
          "execution_count": 78
        }
      ]
    },
    {
      "cell_type": "code",
      "source": [
        "np.dot(embedding1,embedding3)"
      ],
      "metadata": {
        "colab": {
          "base_uri": "https://localhost:8080/"
        },
        "id": "UaCEVgndQ95U",
        "outputId": "bfe75daf-37db-4a7c-8a0c-afe78950d433"
      },
      "execution_count": 79,
      "outputs": [
        {
          "output_type": "execute_result",
          "data": {
            "text/plain": [
              "0.5132870167805761"
            ]
          },
          "metadata": {},
          "execution_count": 79
        }
      ]
    },
    {
      "cell_type": "code",
      "source": [
        "np.dot(embedding2,embedding3)"
      ],
      "metadata": {
        "colab": {
          "base_uri": "https://localhost:8080/"
        },
        "id": "Ix0m8rR0RB1e",
        "outputId": "6e9974e6-5eb3-4426-9c67-c45758d7002a"
      },
      "execution_count": 80,
      "outputs": [
        {
          "output_type": "execute_result",
          "data": {
            "text/plain": [
              "0.12859355265605338"
            ]
          },
          "metadata": {},
          "execution_count": 80
        }
      ]
    },
    {
      "cell_type": "markdown",
      "source": [
        "Microsoft's Azure API is currently limiting the number of simultaneous calls to 16, therefore we need to process the splits in batches."
      ],
      "metadata": {
        "id": "cCufRT2ORuez"
      }
    },
    {
      "cell_type": "markdown",
      "source": [
        "# Step 3: Setting up the vector store\n",
        "a Vector store allows us to effciently store and retrieve document embeddings.dense vector representation of documents)\n",
        "\n",
        "The Below code retrieves the values of HANA user, password and host name form environment variables, you can directly pass the same as well insted of first adding to the environment variables\n"
      ],
      "metadata": {
        "id": "Or3JrSRjRwmp"
      }
    },
    {
      "cell_type": "code",
      "source": [
        "# get hana cloud username form environment variables\n",
        "\n",
        "HANA_USER_DB= 'DBADMIN'\n",
        "\n",
        "HANA_PASSWORD_VDB=''\n",
        "\n",
        "#get the HANA cloud host form environment variables- you need to configure this with you instance details\n",
        "#hint- This is ou SQL end point. But you need to remove\":443 from the sql endpoint is already hardcoded\n",
        "HANA_HOST=''"
      ],
      "metadata": {
        "id": "olm6RO2GRJ3j"
      },
      "execution_count": null,
      "outputs": []
    },
    {
      "cell_type": "markdown",
      "source": [
        "Establishes the connection to HANADB\n"
      ],
      "metadata": {
        "id": "Zj27YwQIS0G8"
      }
    },
    {
      "cell_type": "code",
      "source": [
        "# user connection settings from the environment\n",
        "\n",
        "connection= dbapi.connect(\n",
        "    address=HANA_HOST,\n",
        "    port=443,\n",
        "    user=HANA_USER_DB,\n",
        "    password=HANA_PASSWORD_VDB,\n",
        "    encrypt='true',\n",
        "    autocommit='true'\n",
        ")"
      ],
      "metadata": {
        "id": "1gOmsyRxSzpX"
      },
      "execution_count": null,
      "outputs": []
    },
    {
      "cell_type": "code",
      "source": [
        "#connect with the context\n",
        "\n",
        "conn= dataframe.ConnectionContext(\n",
        "    address=HANA_HOST,\n",
        "    port=443,\n",
        "    user=HANA_USER_DB,\n",
        "    password=HANA_PASSWORD_VDB,\n",
        "    encrypt='true',\n",
        "    autocommit='true'\n",
        ")"
      ],
      "metadata": {
        "id": "YGwO0KtnTLlJ"
      },
      "execution_count": null,
      "outputs": []
    },
    {
      "cell_type": "markdown",
      "source": [
        "# import necessary langchain modules along with assignment of the proxy client as gen-api-hub & chat_ll_model initiation as gpt-4 which can be changed based on model availability in GENAI Hub\n"
      ],
      "metadata": {
        "id": "sBoAdLfuTVx5"
      }
    },
    {
      "cell_type": "code",
      "source": [
        "from gen_ai_hub.proxy.langchain.openai import ChatOpenAI\n",
        "from gen_ai_hub.proxy.core.proxy_clients import get_proxy_client\n",
        "\n",
        "\n",
        "proxy_client = get_proxy_client('gen-ai-hub')\n",
        "chat_llm = ChatOpenAI(proxy_model_name='gpt-4', proxy_client=proxy_client, temperature=0.0)"
      ],
      "metadata": {
        "id": "00BcGMZpTnCc"
      },
      "execution_count": null,
      "outputs": []
    },
    {
      "cell_type": "code",
      "source": [
        "db=HanaDB(\n",
        "    embedding=embedding_model,\n",
        "    table_name=\"TRAVEL_AND_ENVIRONMENT_POLICY\",\n",
        "    #vector column length=1536\n",
        "\n",
        "\n",
        ")\n",
        "\n",
        "## delete already existing documents from the table\n",
        "\n",
        "db.delete(filter={})\n",
        "\n",
        "## add the loaded document chunks\n",
        "\n",
        "db.add_document(splits)"
      ],
      "metadata": {
        "id": "ACD0bQd2UAjN"
      },
      "execution_count": null,
      "outputs": []
    },
    {
      "cell_type": "code",
      "source": [
        "# take a look at the table\n",
        "hdf = conn.sql(''' SELECT \"VEC_TEXT\", \"VEC_META\", TO_NVARCHAR(\"VEC_VECTOR\") AS \"VEC_VECTOR\" FROM \"TRAVEL_AND_ENVIRONMENT_POLICY\" ''')\n",
        "df = hdf.head(10).collect()\n",
        "df"
      ],
      "metadata": {
        "id": "kysnlCXcUhIa"
      },
      "execution_count": null,
      "outputs": []
    },
    {
      "cell_type": "code",
      "source": [
        "retriever = db.as_retriever()"
      ],
      "metadata": {
        "id": "C_7Xj4BcUiDL"
      },
      "execution_count": null,
      "outputs": []
    },
    {
      "cell_type": "markdown",
      "source": [
        "# tep 5: Building the RAG Pipeline\n",
        "Now that we have stored our document embeddings in HANA Vector Engine, let's build a simple retrieval-augmented generation pipeline using LangChain.\n",
        "\n",
        "The process:\n",
        "\n",
        "\n",
        "1.   Input a query.\n",
        "2. Retrieve relevant documents based on the query.\n",
        "3. Generate a response based on the retrieved content.\n",
        "\n",
        "\n",
        "\n"
      ],
      "metadata": {
        "id": "NX09bigXUmIj"
      }
    },
    {
      "cell_type": "code",
      "source": [
        "from langchain_core.prompts import ChatPromptTemplate\n",
        "prompt=ChatPromptTemplate.from_template(\"\"\" provide answer based on the context provided\n",
        "\n",
        "<content>\n",
        "{context}\n",
        "</content>\n",
        "\n",
        "Question: {input}\n",
        "\n",
        "\"\"\")\n",
        "\n"
      ],
      "metadata": {
        "id": "PT-B0lm7U29Q"
      },
      "execution_count": null,
      "outputs": []
    },
    {
      "cell_type": "markdown",
      "source": [
        "create document_chain with chat_llm(define earlier and prompt retrieval chain using hanadb and document chain"
      ],
      "metadata": {
        "id": "omGV7ZalVeUo"
      }
    },
    {
      "cell_type": "code",
      "source": [
        "from langchain.chains import create_retrieval_chain\n",
        "from langchain.chains.combine_documents import create_stuff_documents_chain\n",
        "\n",
        "document_chain=create_stuff_documents_chain(chat_llm,prompt)\n",
        "retrieval_chain=create_retrieval_chain(retriever,document_chain)"
      ],
      "metadata": {
        "id": "H1uSjfAYVn3a"
      },
      "execution_count": null,
      "outputs": []
    },
    {
      "cell_type": "markdown",
      "source": [
        "invoke the query\n"
      ],
      "metadata": {
        "id": "DMJbOynmWH79"
      }
    },
    {
      "cell_type": "code",
      "source": [
        "response = retrieval_chain.invoke({\"input\": \"Which are the certified environmental and energy management systems that SAP run?\"})\n",
        "print(response[\"answer\"])"
      ],
      "metadata": {
        "id": "wKY1B6v-WJDQ"
      },
      "execution_count": null,
      "outputs": []
    },
    {
      "cell_type": "markdown",
      "source": [
        "# Limitation of Rag\n",
        "1.Not Like Sql Queries: Rag systems don't behave like traditional SQL Queries. sal is deterministic, meaning that each query gives a precise. exact result from structured data. Rag system on the other hand, search over unstrcutred text and return approximate matches. They are probabilistic and can return different results for the same query.\n",
        "\n",
        "2. Hallucinations: Rag systems can generate information that isn't present in the source document. this is knows as hallucination for example a rag system might generate details that seem plausible but are not supported by the retrieved documents\n",
        "\n",
        "# Example of Hallucination in RAG\n",
        "\n",
        "below is an example where the RAG system generates that contains hallucinated information"
      ],
      "metadata": {
        "id": "V9EgBDvwXW2B"
      }
    },
    {
      "cell_type": "code",
      "source": [
        "response = retrieval_chain.invoke({\"input\": \"Can you tell something about ISO 9001 mentioned in SAP policy\"})\n",
        "print(response[\"answer\"])\n",
        "# Note: There is no mention of ISO 9001 in the policies but it does exist otherwise. So lets see if it may result in hall"
      ],
      "metadata": {
        "id": "pGyXiORHYRG0"
      },
      "execution_count": null,
      "outputs": []
    },
    {
      "cell_type": "code",
      "source": [
        "response = retrieval_chain.invoke({\"input\": \"How does ISO 9001 help SAP Achieve net-zero along SAP's value chain in line with a 1.5°C future by 2030\"})\n",
        "print(response[\"answer\"])\n",
        "# Note: There is no mention of ISO 9001 in the policies but it does exist otherwise. So lets see if it may result in hall"
      ],
      "metadata": {
        "id": "x81rFtWzYiur"
      },
      "execution_count": null,
      "outputs": []
    },
    {
      "cell_type": "code",
      "source": [
        "response = retrieval_chain.invoke({\"input\": \"Can you tell something about ISO 12345 mentioned in SAP policy\"})\n",
        "print(response[\"answer\"])\n",
        "# Note: There is no mention of ISO 12345 in the policies and it does not exist as well. So lets see if it may result in"
      ],
      "metadata": {
        "id": "E577QilIYnOo"
      },
      "execution_count": null,
      "outputs": []
    },
    {
      "cell_type": "code",
      "source": [
        "response = retrieval_chain.invoke({\"input\": \"my son has the minimum age for driving a car in US and i would like to book a mid sized car for my business trip. Assuming I filled the gas, Is there any additional cost for him to be able to drive\"})\n",
        "\n",
        "print(response[\"answer\"])\n",
        "\n",
        "## Example of a hallucination"
      ],
      "metadata": {
        "id": "MHkaca_SYqCD"
      },
      "execution_count": null,
      "outputs": []
    },
    {
      "cell_type": "markdown",
      "source": [
        "#STEP-6 Best Practices for RAG\n",
        "\n",
        "To Improve the performance of RAG System, follow these best practices\n",
        "\n",
        "\n",
        "\n",
        "*   Improve document quality: Ensure that the documents you retrieve from are clean and relevant.\n",
        "*   Tune chunk sizes: Experiment with chunk sizes to balance retrieval accuracy and efficiency.\n",
        "*   Reduce hallucinations: Implement filtering mechanisms to verify the accuracy of generated responses.\n",
        "\n"
      ],
      "metadata": {
        "id": "zvoDxSUMYwMy"
      }
    },
    {
      "cell_type": "code",
      "source": [],
      "metadata": {
        "id": "A8ipManQY0V2"
      },
      "execution_count": null,
      "outputs": []
    }
  ]
}